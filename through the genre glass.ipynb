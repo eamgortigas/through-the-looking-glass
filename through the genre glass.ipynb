{
 "cells": [
  {
   "cell_type": "code",
   "execution_count": 42,
   "metadata": {
    "ExecuteTime": {
     "end_time": "2019-08-20T07:12:23.996197Z",
     "start_time": "2019-08-20T07:12:23.984244Z"
    }
   },
   "outputs": [
    {
     "data": {
      "text/html": [
       "<script>\n",
       "code_show=true; \n",
       "function code_toggle() {\n",
       " if (code_show){\n",
       " $('div.input').hide();\n",
       " } else {\n",
       " $('div.input').show();\n",
       " }\n",
       " code_show = !code_show\n",
       "} \n",
       "$( document ).ready(code_toggle);\n",
       "</script>\n",
       "<form action=\"javascript:code_toggle()\"><input type=\"submit\" value=\"Hide code.\"></form>"
      ],
      "text/plain": [
       "<IPython.core.display.HTML object>"
      ]
     },
     "execution_count": 42,
     "metadata": {},
     "output_type": "execute_result"
    }
   ],
   "source": [
    "\n",
    "\n",
    "from IPython.display import HTML\n",
    "\n",
    "HTML('''<script>\n",
    "code_show=true; \n",
    "function code_toggle() {\n",
    " if (code_show){\n",
    " $('div.input').hide();\n",
    " } else {\n",
    " $('div.input').show();\n",
    " }\n",
    " code_show = !code_show\n",
    "} \n",
    "$( document ).ready(code_toggle);\n",
    "</script>\n",
    "<form action=\"javascript:code_toggle()\"><input type=\"submit\" value=\"Hide code.\"></form>''')\n",
    "\n"
   ]
  },
  {
   "cell_type": "markdown",
   "metadata": {},
   "source": [
    "# Through the Genre Glass\n",
    "#### A MultiLabel Genre Classification of GoodReads Book Selection"
   ]
  },
  {
   "cell_type": "markdown",
   "metadata": {},
   "source": [
    "#### Introduction\n",
    "\n",
    "There are many genres of books that have evolved way more than fiction and non fiction. GoodReads has about 1400+ genres in their library that users use to tag the wide book selection with each booking having multiple genre tags. For example, a book can be classified under finction, fantasy, young adult, etc all at once. \n",
    "\n",
    "\n",
    "##### Problem: Multi target or label classification problem!\n",
    "\n",
    "A multilabel classification is when we have multiple target columns instead of the usual one target column."
   ]
  },
  {
   "cell_type": "markdown",
   "metadata": {},
   "source": [
    "### Highlights/Results and Recommendations\n",
    "\n",
    "To classify the multilabel problem, <b>OneVsRestClassifier</b> will be used with the ML models being fed to it. The data was a highly sparsed data and so the models used are limited to Naive Bayes, Logistic Regression, SVM, and SVC. All of which yielded a close to identical accuracies for each genre target classification and for that, in the interest of time, GBM method was not included because it is expected to yield close to those accuracies. \n",
    "\n",
    "Speaking of accuracies, for the top 6 most used genre of 'Fiction', 'Fantasy', 'Romance', 'Historical', 'Paranormal', 'Mystery', the models resulted with the following statistics. Note the <b>PCC's</b>, the <b>accuracies</b> and <b>run times</b>. \n",
    "\n",
    "<table>\n",
    "<tbody>\n",
    "<tr>\n",
    "<td>\n",
    "<p><strong>Type</strong></p>\n",
    "</td>\n",
    "<td>\n",
    "<p><strong>Fiction</strong></p>\n",
    "</td>\n",
    "<td>\n",
    "<p><strong>Fantasy</strong></p>\n",
    "</td>\n",
    "<td>\n",
    "<p><strong>Romance</strong></p>\n",
    "</td>\n",
    "<td>\n",
    "<p><strong>Historical</strong></p>\n",
    "</td>\n",
    "<td >\n",
    "<p><strong>Paranormal</strong></p>\n",
    "</td>\n",
    "<td>\n",
    "<p><strong>Mystery</strong></p>\n",
    "</td>\n",
    "<td>\n",
    "<p><strong>Run Times (h:m:s)</strong></p>\n",
    "</td>\n",
    "</tr>\n",
    "<tr>\n",
    "<td>\n",
    "<p>PCC</p>\n",
    "</td>\n",
    "<td>\n",
    "<p>65.31</p>\n",
    "</td>\n",
    "<td>\n",
    "<p>51.32</p>\n",
    "</td>\n",
    "<td>\n",
    "<p>58</p>\n",
    "</td>\n",
    "<td >\n",
    "<p>68.48</p>\n",
    "</td>\n",
    "<td>\n",
    "<p>75.35</p>\n",
    "</td>\n",
    "<td>\n",
    "<p>82.32</p>\n",
    "</td>\n",
    "<td>\n",
    "<p>00:00:00.109</p>\n",
    "</td>\n",
    "</tr>\n",
    "<tr>\n",
    "<td >\n",
    "<p>Logistic</p>\n",
    "<p>Regression</p>\n",
    "</td>\n",
    "<td >\n",
    "<p>78.13</p>\n",
    "</td>\n",
    "<td >\n",
    "<p>63.20</p>\n",
    "</td>\n",
    "<td >\n",
    "<p>73.33</p>\n",
    "</td>\n",
    "<td >\n",
    "<p>80.53</p>\n",
    "</td>\n",
    "<td >\n",
    "<p>85.87</p>\n",
    "</td>\n",
    "<td>\n",
    "<p>91.47</p>\n",
    "</td>\n",
    "<td>\n",
    "<p>00:01:18</p>\n",
    "</td>\n",
    "</tr>\n",
    "<tr>\n",
    "<td>\n",
    "<p>SVM</p>\n",
    "</td>\n",
    "<td>\n",
    "<p>78.13</p>\n",
    "</td>\n",
    "<td>\n",
    "<p>63.20</p>\n",
    "</td>\n",
    "<td>\n",
    "<p>73.33</p>\n",
    "</td>\n",
    "<td>\n",
    "<p>80.53</p>\n",
    "</td>\n",
    "<td>\n",
    "<p>85.87</p>\n",
    "</td>\n",
    "<td>\n",
    "<p>91.47</p>\n",
    "</td>\n",
    "<td>\n",
    "<p>00:01:08</p>\n",
    "</td>\n",
    "</tr>\n",
    "<tr>\n",
    "<td>\n",
    "<p>SVC</p>\n",
    "</td>\n",
    "<td>\n",
    "<p>77.87</p>\n",
    "</td>\n",
    "<td>\n",
    "<p>63.47</p>\n",
    "</td>\n",
    "<td>\n",
    "<p>73.33</p>\n",
    "</td>\n",
    "<td>\n",
    "<p>80.53</p>\n",
    "</td>\n",
    "<td>\n",
    "<p>85.87</p>\n",
    "</td>\n",
    "<td>\n",
    "<p>91.47</p>\n",
    "</td>\n",
    "<td>\n",
    "<p>13:14:38</p>\n",
    "</td>\n",
    "</tr>\n",
    "<tr>\n",
    "<td>\n",
    "<p>Na&iuml;ve Bayes</p>\n",
    "</td>\n",
    "<td>\n",
    "<p>78.13</p>\n",
    "</td>\n",
    "<td>\n",
    "<p>63.20</p>\n",
    "</td>\n",
    "<td>\n",
    "<p>72.8</p>\n",
    "</td>\n",
    "<td>\n",
    "<p>80.8</p>\n",
    "</td>\n",
    "<td>\n",
    "<p>85.87</p>\n",
    "</td>\n",
    "<td>\n",
    "<p>91.47</p>\n",
    "</td>\n",
    "<td>\n",
    "<p>00:02:42</p>\n",
    "</td>    \n",
    "</tr>\n",
    "<tr>\n",
    "<td></td>\n",
    "<td>&nbsp;</td>\n",
    "<td>&nbsp;</td>\n",
    "<td>&nbsp;</td>\n",
    "<td>&nbsp;</td>\n",
    "<td>&nbsp;</td>\n",
    "<td>&nbsp;</td>\n",
    "<td>&nbsp;</td>\n",
    "</tr>\n",
    "<tr>\n",
    "<td>\n",
    "<p>Validation</p>\n",
    "</td>\n",
    "<td>\n",
    "<p>65.53</p>\n",
    "</td>\n",
    "<td>\n",
    "<p>56.27</p>\n",
    "</td>\n",
    "<td>\n",
    "<p>65.27</p>\n",
    "</td>\n",
    "<td>\n",
    "<p>84.2</p>\n",
    "</td>\n",
    "<td>\n",
    "<p>83</p>\n",
    "</td>\n",
    "<td>\n",
    "<p>87.33</p>\n",
    "</td>\n",
    "<td>\n",
    "<p>00:02:42</p>\n",
    "</td>\n",
    "</tr>\n",
    "</tbody>\n",
    "</table>\n",
    "<p>&nbsp;</p>"
   ]
  },
  {
   "cell_type": "markdown",
   "metadata": {},
   "source": [
    "All targets have accuracies above PCC but there could be other words in the decriptions that could identify the books as much. \n",
    "\n",
    "The heaviest features resulted to be those of author names. Although, if only the authors were used as features, I noticed that the accuracies went down significantly meaning that the tokens under the descriptions and titles still play a big part in predictability of the multi targets.\n",
    "\n",
    "#### Recommendations\n",
    "\n",
    "Imagine if this was applied to more than 6 genres and if there were more samples to generate different token features. It is something worth exploring. \n",
    "\n",
    "If computational power were not an issue, the GBM method could also be explored. I would have also liked to look at the specificity of the predictions but was not able to at this point. \n",
    "\n",
    "Both of which are with the goal of increasing prediction accuracies for all genres across the study and beyond."
   ]
  },
  {
   "cell_type": "markdown",
   "metadata": {},
   "source": [
    "### Methodology\n",
    "\n",
    "The methodology found in this notebook are as follows.\n",
    "\n",
    "1. [Load Data](#load)\n",
    "    * Only include those with text under genres columns and filter out the rest\n",
    "2. [Data Cleaning](#clean)\n",
    "    * Also included an author statistics as partial eda\n",
    "3. [Data Processing of Targets](#process_targets)\n",
    "    * Includes target distribution as partial eda\n",
    "4. [Data Processing of Features](#process_features)\n",
    "    * Feature vectors saved to a csv\n",
    "5. [Reload Vectorized Features](#reload)\n",
    "6. [Check PCCs](#pcc)\n",
    "7. [Model Processing Using OneVsRestCalssifier](#model)\n",
    "8. [Feature Importance Check](#features)\n",
    "9. [Validate](#validation)\n",
    "    * Validate with SVM\n",
    "    * Validate with Naive Bayes\n",
    "    * Validate as a whole OneVsRestClassifier"
   ]
  },
  {
   "cell_type": "code",
   "execution_count": 1,
   "metadata": {
    "ExecuteTime": {
     "end_time": "2019-08-18T17:20:13.703826Z",
     "start_time": "2019-08-18T17:19:54.129355Z"
    }
   },
   "outputs": [],
   "source": [
    "import numpy as np\n",
    "get_ipython().run_line_magic('matplotlib', 'inline')\n",
    "import matplotlib.pyplot as plt\n",
    "import pandas as pd\n",
    "import seaborn as sns\n",
    "import re\n",
    "from collections import defaultdict, Counter, OrderedDict\n",
    "# pd.options.display.float_format = '{:,.4g}'.format\n",
    "import warnings\n",
    "warnings.filterwarnings(\"ignore\")"
   ]
  },
  {
   "cell_type": "code",
   "execution_count": 2,
   "metadata": {
    "ExecuteTime": {
     "end_time": "2019-08-18T17:20:23.075731Z",
     "start_time": "2019-08-18T17:20:13.703826Z"
    }
   },
   "outputs": [],
   "source": [
    "from sklearn.feature_extraction.text import TfidfVectorizer, CountVectorizer"
   ]
  },
  {
   "cell_type": "code",
   "execution_count": 3,
   "metadata": {
    "ExecuteTime": {
     "end_time": "2019-08-18T17:20:23.091193Z",
     "start_time": "2019-08-18T17:20:23.075731Z"
    }
   },
   "outputs": [],
   "source": [
    "file_name = 'book_data_train.csv'\n",
    "# test_file = 'book_data_test.csv'"
   ]
  },
  {
   "cell_type": "markdown",
   "metadata": {},
   "source": [
    "### Load Data  <a id=\"load\"></a>\n",
    "\n",
    "Below is a head shot of what the raw data looks like.\n",
    "> book_authors: the author or authors associated to that book.  \n",
    "> book_desc: the synopsis of the book  \n",
    "> book_edition: published edition of the book  \n",
    "> book_format: how it is availabel in the market today  \n",
    "> book_isbn: the international identification of that book  \n",
    "> book_pages: the number of pages of that book  \n",
    "> book_rating: the average rating users gave on the goodreads website  \n",
    "> book_rating_count: the number of ratings considered in the averaging of ratings  \n",
    "> book_review_count: the number of times the book was given a review  \n",
    "> book_title: the title of the book  \n",
    "> genres: the genres users have associated that book to be  \n",
    "> image_url: the location of the book's cover image  "
   ]
  },
  {
   "cell_type": "code",
   "execution_count": 4,
   "metadata": {
    "ExecuteTime": {
     "end_time": "2019-08-18T17:20:26.559204Z",
     "start_time": "2019-08-18T17:20:23.091193Z"
    }
   },
   "outputs": [],
   "source": [
    "data = pd.read_csv(file_name)\n",
    "# data_test = pd.read_csv(test_file)"
   ]
  },
  {
   "cell_type": "code",
   "execution_count": 5,
   "metadata": {
    "ExecuteTime": {
     "end_time": "2019-08-18T17:20:26.574784Z",
     "start_time": "2019-08-18T17:20:26.559204Z"
    }
   },
   "outputs": [
    {
     "name": "stdout",
     "output_type": "stream",
     "text": [
      "(54301, 12)\n"
     ]
    }
   ],
   "source": [
    "print(data.shape)\n",
    "# print(data_test.shape)"
   ]
  },
  {
   "cell_type": "code",
   "execution_count": 6,
   "metadata": {
    "ExecuteTime": {
     "end_time": "2019-08-18T17:20:27.105873Z",
     "start_time": "2019-08-18T17:20:26.574784Z"
    }
   },
   "outputs": [
    {
     "data": {
      "text/html": [
       "<div>\n",
       "<style scoped>\n",
       "    .dataframe tbody tr th:only-of-type {\n",
       "        vertical-align: middle;\n",
       "    }\n",
       "\n",
       "    .dataframe tbody tr th {\n",
       "        vertical-align: top;\n",
       "    }\n",
       "\n",
       "    .dataframe thead th {\n",
       "        text-align: right;\n",
       "    }\n",
       "</style>\n",
       "<table border=\"1\" class=\"dataframe\">\n",
       "  <thead>\n",
       "    <tr style=\"text-align: right;\">\n",
       "      <th></th>\n",
       "      <th>book_authors</th>\n",
       "      <th>book_desc</th>\n",
       "      <th>book_edition</th>\n",
       "      <th>book_format</th>\n",
       "      <th>book_isbn</th>\n",
       "      <th>book_pages</th>\n",
       "      <th>book_rating</th>\n",
       "      <th>book_rating_count</th>\n",
       "      <th>book_review_count</th>\n",
       "      <th>book_title</th>\n",
       "      <th>genres</th>\n",
       "      <th>image_url</th>\n",
       "    </tr>\n",
       "  </thead>\n",
       "  <tbody>\n",
       "    <tr>\n",
       "      <th>0</th>\n",
       "      <td>Suzanne Collins</td>\n",
       "      <td>Winning will make you famous. Losing means cer...</td>\n",
       "      <td>NaN</td>\n",
       "      <td>Hardcover</td>\n",
       "      <td>9.78044E+12</td>\n",
       "      <td>374 pages</td>\n",
       "      <td>4.33</td>\n",
       "      <td>5519135</td>\n",
       "      <td>160706</td>\n",
       "      <td>The Hunger Games</td>\n",
       "      <td>Young Adult|Fiction|Science Fiction|Dystopia|F...</td>\n",
       "      <td>https://images.gr-assets.com/books/1447303603l...</td>\n",
       "    </tr>\n",
       "    <tr>\n",
       "      <th>1</th>\n",
       "      <td>J.K. Rowling|Mary GrandPré</td>\n",
       "      <td>There is a door at the end of a silent corrido...</td>\n",
       "      <td>US Edition</td>\n",
       "      <td>Paperback</td>\n",
       "      <td>9.78044E+12</td>\n",
       "      <td>870 pages</td>\n",
       "      <td>4.48</td>\n",
       "      <td>2041594</td>\n",
       "      <td>33264</td>\n",
       "      <td>Harry Potter and the Order of the Phoenix</td>\n",
       "      <td>Fantasy|Young Adult|Fiction</td>\n",
       "      <td>https://images.gr-assets.com/books/1255614970l...</td>\n",
       "    </tr>\n",
       "    <tr>\n",
       "      <th>2</th>\n",
       "      <td>Harper Lee</td>\n",
       "      <td>The unforgettable novel of a childhood in a sl...</td>\n",
       "      <td>50th Anniversary</td>\n",
       "      <td>Paperback</td>\n",
       "      <td>9.78006E+12</td>\n",
       "      <td>324 pages</td>\n",
       "      <td>4.27</td>\n",
       "      <td>3745197</td>\n",
       "      <td>79450</td>\n",
       "      <td>To Kill a Mockingbird</td>\n",
       "      <td>Classics|Fiction|Historical|Historical Fiction...</td>\n",
       "      <td>https://images.gr-assets.com/books/1361975680l...</td>\n",
       "    </tr>\n",
       "    <tr>\n",
       "      <th>3</th>\n",
       "      <td>Jane Austen|Anna Quindlen|Mrs. Oliphant|George...</td>\n",
       "      <td>«È cosa ormai risaputa che a uno scapolo in po...</td>\n",
       "      <td>Modern Library Classics, USA / CAN</td>\n",
       "      <td>Paperback</td>\n",
       "      <td>9.78068E+12</td>\n",
       "      <td>279 pages</td>\n",
       "      <td>4.25</td>\n",
       "      <td>2453620</td>\n",
       "      <td>54322</td>\n",
       "      <td>Pride and Prejudice</td>\n",
       "      <td>Classics|Fiction|Romance</td>\n",
       "      <td>https://images.gr-assets.com/books/1320399351l...</td>\n",
       "    </tr>\n",
       "    <tr>\n",
       "      <th>4</th>\n",
       "      <td>Stephenie Meyer</td>\n",
       "      <td>About three things I was absolutely positive.F...</td>\n",
       "      <td>NaN</td>\n",
       "      <td>Paperback</td>\n",
       "      <td>9.78032E+12</td>\n",
       "      <td>498 pages</td>\n",
       "      <td>3.58</td>\n",
       "      <td>4281268</td>\n",
       "      <td>97991</td>\n",
       "      <td>Twilight</td>\n",
       "      <td>Young Adult|Fantasy|Romance|Paranormal|Vampire...</td>\n",
       "      <td>https://images.gr-assets.com/books/1361039443l...</td>\n",
       "    </tr>\n",
       "  </tbody>\n",
       "</table>\n",
       "</div>"
      ],
      "text/plain": [
       "                                        book_authors  \\\n",
       "0                                    Suzanne Collins   \n",
       "1                         J.K. Rowling|Mary GrandPré   \n",
       "2                                         Harper Lee   \n",
       "3  Jane Austen|Anna Quindlen|Mrs. Oliphant|George...   \n",
       "4                                    Stephenie Meyer   \n",
       "\n",
       "                                           book_desc  \\\n",
       "0  Winning will make you famous. Losing means cer...   \n",
       "1  There is a door at the end of a silent corrido...   \n",
       "2  The unforgettable novel of a childhood in a sl...   \n",
       "3  «È cosa ormai risaputa che a uno scapolo in po...   \n",
       "4  About three things I was absolutely positive.F...   \n",
       "\n",
       "                         book_edition book_format    book_isbn book_pages  \\\n",
       "0                                 NaN   Hardcover  9.78044E+12  374 pages   \n",
       "1                          US Edition   Paperback  9.78044E+12  870 pages   \n",
       "2                    50th Anniversary   Paperback  9.78006E+12  324 pages   \n",
       "3  Modern Library Classics, USA / CAN   Paperback  9.78068E+12  279 pages   \n",
       "4                                 NaN   Paperback  9.78032E+12  498 pages   \n",
       "\n",
       "   book_rating  book_rating_count  book_review_count  \\\n",
       "0         4.33            5519135             160706   \n",
       "1         4.48            2041594              33264   \n",
       "2         4.27            3745197              79450   \n",
       "3         4.25            2453620              54322   \n",
       "4         3.58            4281268              97991   \n",
       "\n",
       "                                  book_title  \\\n",
       "0                           The Hunger Games   \n",
       "1  Harry Potter and the Order of the Phoenix   \n",
       "2                      To Kill a Mockingbird   \n",
       "3                        Pride and Prejudice   \n",
       "4                                   Twilight   \n",
       "\n",
       "                                              genres  \\\n",
       "0  Young Adult|Fiction|Science Fiction|Dystopia|F...   \n",
       "1                        Fantasy|Young Adult|Fiction   \n",
       "2  Classics|Fiction|Historical|Historical Fiction...   \n",
       "3                           Classics|Fiction|Romance   \n",
       "4  Young Adult|Fantasy|Romance|Paranormal|Vampire...   \n",
       "\n",
       "                                           image_url  \n",
       "0  https://images.gr-assets.com/books/1447303603l...  \n",
       "1  https://images.gr-assets.com/books/1255614970l...  \n",
       "2  https://images.gr-assets.com/books/1361975680l...  \n",
       "3  https://images.gr-assets.com/books/1320399351l...  \n",
       "4  https://images.gr-assets.com/books/1361039443l...  "
      ]
     },
     "execution_count": 6,
     "metadata": {},
     "output_type": "execute_result"
    }
   ],
   "source": [
    "data.head()"
   ]
  },
  {
   "cell_type": "markdown",
   "metadata": {},
   "source": [
    "#### Check for null genres and remove them from the data set"
   ]
  },
  {
   "cell_type": "code",
   "execution_count": 7,
   "metadata": {
    "ExecuteTime": {
     "end_time": "2019-08-18T17:20:27.215227Z",
     "start_time": "2019-08-18T17:20:27.105873Z"
    }
   },
   "outputs": [
    {
     "data": {
      "text/plain": [
       "book_authors             0\n",
       "book_desc             1331\n",
       "book_edition         48848\n",
       "book_format           1656\n",
       "book_isbn            12866\n",
       "book_pages            2522\n",
       "book_rating              0\n",
       "book_rating_count        0\n",
       "book_review_count        0\n",
       "book_title               0\n",
       "genres                3242\n",
       "image_url              683\n",
       "dtype: int64"
      ]
     },
     "execution_count": 7,
     "metadata": {},
     "output_type": "execute_result"
    }
   ],
   "source": [
    "data.isnull().sum()"
   ]
  },
  {
   "cell_type": "code",
   "execution_count": 8,
   "metadata": {
    "ExecuteTime": {
     "end_time": "2019-08-18T17:20:27.293328Z",
     "start_time": "2019-08-18T17:20:27.215227Z"
    }
   },
   "outputs": [],
   "source": [
    "genres_df = data['genres']"
   ]
  },
  {
   "cell_type": "code",
   "execution_count": 9,
   "metadata": {
    "ExecuteTime": {
     "end_time": "2019-08-18T17:20:27.512028Z",
     "start_time": "2019-08-18T17:20:27.293328Z"
    }
   },
   "outputs": [],
   "source": [
    "genres_list = []\n",
    "\n",
    "for g in genres_df:\n",
    "    if isinstance(g,str):\n",
    "        genres_list += str(g).split('|')\n",
    "    \n",
    "\n",
    "# genres.iloc[0].split('|')\n",
    "    "
   ]
  },
  {
   "cell_type": "markdown",
   "metadata": {},
   "source": [
    "#### Top 6 genres for use in this study"
   ]
  },
  {
   "cell_type": "code",
   "execution_count": 10,
   "metadata": {
    "ExecuteTime": {
     "end_time": "2019-08-18T17:20:27.933843Z",
     "start_time": "2019-08-18T17:20:27.512028Z"
    }
   },
   "outputs": [
    {
     "data": {
      "text/plain": [
       "['Fiction', 'Fantasy', 'Romance', 'Historical', 'Paranormal', 'Mystery']"
      ]
     },
     "execution_count": 10,
     "metadata": {},
     "output_type": "execute_result"
    }
   ],
   "source": [
    "genre_df = pd.DataFrame(Counter(genres_list).most_common())\n",
    "genres = genre_df[genre_df[0] != 'Young Adult'].iloc[:6][0].to_list()\n",
    "# genres = genres.pop(4)\n",
    "genres\n",
    "# genre_df"
   ]
  },
  {
   "cell_type": "code",
   "execution_count": 12,
   "metadata": {
    "ExecuteTime": {
     "end_time": "2019-08-18T17:20:28.181681Z",
     "start_time": "2019-08-18T17:20:28.011910Z"
    }
   },
   "outputs": [],
   "source": [
    "data_2 = data[~data['genres'].isnull()].copy()"
   ]
  },
  {
   "cell_type": "markdown",
   "metadata": {},
   "source": [
    "#### Get the records with those genres\n",
    "\n",
    "The table below shows the head shot of those records that have the aformentioned genres in their genres column."
   ]
  },
  {
   "cell_type": "code",
   "execution_count": 13,
   "metadata": {
    "ExecuteTime": {
     "end_time": "2019-08-18T17:20:28.400375Z",
     "start_time": "2019-08-18T17:20:28.181681Z"
    }
   },
   "outputs": [
    {
     "data": {
      "text/html": [
       "<div>\n",
       "<style scoped>\n",
       "    .dataframe tbody tr th:only-of-type {\n",
       "        vertical-align: middle;\n",
       "    }\n",
       "\n",
       "    .dataframe tbody tr th {\n",
       "        vertical-align: top;\n",
       "    }\n",
       "\n",
       "    .dataframe thead th {\n",
       "        text-align: right;\n",
       "    }\n",
       "</style>\n",
       "<table border=\"1\" class=\"dataframe\">\n",
       "  <thead>\n",
       "    <tr style=\"text-align: right;\">\n",
       "      <th></th>\n",
       "      <th>book_authors</th>\n",
       "      <th>book_desc</th>\n",
       "      <th>book_edition</th>\n",
       "      <th>book_format</th>\n",
       "      <th>book_isbn</th>\n",
       "      <th>book_pages</th>\n",
       "      <th>book_rating</th>\n",
       "      <th>book_rating_count</th>\n",
       "      <th>book_review_count</th>\n",
       "      <th>book_title</th>\n",
       "      <th>genres</th>\n",
       "      <th>image_url</th>\n",
       "    </tr>\n",
       "  </thead>\n",
       "  <tbody>\n",
       "    <tr>\n",
       "      <th>0</th>\n",
       "      <td>Suzanne Collins</td>\n",
       "      <td>Winning will make you famous. Losing means cer...</td>\n",
       "      <td>NaN</td>\n",
       "      <td>Hardcover</td>\n",
       "      <td>9.78044E+12</td>\n",
       "      <td>374 pages</td>\n",
       "      <td>4.33</td>\n",
       "      <td>5519135</td>\n",
       "      <td>160706</td>\n",
       "      <td>The Hunger Games</td>\n",
       "      <td>Young Adult|Fiction|Science Fiction|Dystopia|F...</td>\n",
       "      <td>https://images.gr-assets.com/books/1447303603l...</td>\n",
       "    </tr>\n",
       "    <tr>\n",
       "      <th>1</th>\n",
       "      <td>J.K. Rowling|Mary GrandPré</td>\n",
       "      <td>There is a door at the end of a silent corrido...</td>\n",
       "      <td>US Edition</td>\n",
       "      <td>Paperback</td>\n",
       "      <td>9.78044E+12</td>\n",
       "      <td>870 pages</td>\n",
       "      <td>4.48</td>\n",
       "      <td>2041594</td>\n",
       "      <td>33264</td>\n",
       "      <td>Harry Potter and the Order of the Phoenix</td>\n",
       "      <td>Fantasy|Young Adult|Fiction</td>\n",
       "      <td>https://images.gr-assets.com/books/1255614970l...</td>\n",
       "    </tr>\n",
       "    <tr>\n",
       "      <th>2</th>\n",
       "      <td>Harper Lee</td>\n",
       "      <td>The unforgettable novel of a childhood in a sl...</td>\n",
       "      <td>50th Anniversary</td>\n",
       "      <td>Paperback</td>\n",
       "      <td>9.78006E+12</td>\n",
       "      <td>324 pages</td>\n",
       "      <td>4.27</td>\n",
       "      <td>3745197</td>\n",
       "      <td>79450</td>\n",
       "      <td>To Kill a Mockingbird</td>\n",
       "      <td>Classics|Fiction|Historical|Historical Fiction...</td>\n",
       "      <td>https://images.gr-assets.com/books/1361975680l...</td>\n",
       "    </tr>\n",
       "    <tr>\n",
       "      <th>3</th>\n",
       "      <td>Jane Austen|Anna Quindlen|Mrs. Oliphant|George...</td>\n",
       "      <td>«È cosa ormai risaputa che a uno scapolo in po...</td>\n",
       "      <td>Modern Library Classics, USA / CAN</td>\n",
       "      <td>Paperback</td>\n",
       "      <td>9.78068E+12</td>\n",
       "      <td>279 pages</td>\n",
       "      <td>4.25</td>\n",
       "      <td>2453620</td>\n",
       "      <td>54322</td>\n",
       "      <td>Pride and Prejudice</td>\n",
       "      <td>Classics|Fiction|Romance</td>\n",
       "      <td>https://images.gr-assets.com/books/1320399351l...</td>\n",
       "    </tr>\n",
       "    <tr>\n",
       "      <th>4</th>\n",
       "      <td>Stephenie Meyer</td>\n",
       "      <td>About three things I was absolutely positive.F...</td>\n",
       "      <td>NaN</td>\n",
       "      <td>Paperback</td>\n",
       "      <td>9.78032E+12</td>\n",
       "      <td>498 pages</td>\n",
       "      <td>3.58</td>\n",
       "      <td>4281268</td>\n",
       "      <td>97991</td>\n",
       "      <td>Twilight</td>\n",
       "      <td>Young Adult|Fantasy|Romance|Paranormal|Vampire...</td>\n",
       "      <td>https://images.gr-assets.com/books/1361039443l...</td>\n",
       "    </tr>\n",
       "    <tr>\n",
       "      <th>5</th>\n",
       "      <td>Markus Zusak</td>\n",
       "      <td>Trying to make sense of the horrors of World W...</td>\n",
       "      <td>First American Edition (US / CAN)</td>\n",
       "      <td>Hardcover</td>\n",
       "      <td>9.78038E+12</td>\n",
       "      <td>552 pages</td>\n",
       "      <td>4.36</td>\n",
       "      <td>1485632</td>\n",
       "      <td>100821</td>\n",
       "      <td>The Book Thief</td>\n",
       "      <td>Historical|Historical Fiction|Fiction|Young Adult</td>\n",
       "      <td>https://images.gr-assets.com/books/1522157426l...</td>\n",
       "    </tr>\n",
       "    <tr>\n",
       "      <th>6</th>\n",
       "      <td>C.S. Lewis|Pauline Baynes</td>\n",
       "      <td>Journeys to the end of the world, fantastic cr...</td>\n",
       "      <td>Reissue Edition</td>\n",
       "      <td>Paperback</td>\n",
       "      <td>9.78007E+12</td>\n",
       "      <td>767 pages</td>\n",
       "      <td>4.25</td>\n",
       "      <td>437829</td>\n",
       "      <td>9439</td>\n",
       "      <td>The Chronicles of Narnia</td>\n",
       "      <td>Fantasy|Classics|Fiction|Young Adult|Childrens</td>\n",
       "      <td>https://images.gr-assets.com/books/1449868701l...</td>\n",
       "    </tr>\n",
       "    <tr>\n",
       "      <th>7</th>\n",
       "      <td>George Orwell</td>\n",
       "      <td>مزرعة الحيوانات هي رائعة جورج أورويل الخالدة.....</td>\n",
       "      <td>NaN</td>\n",
       "      <td>Paperback</td>\n",
       "      <td>9.78045E+12</td>\n",
       "      <td>122 pages</td>\n",
       "      <td>3.90</td>\n",
       "      <td>2235084</td>\n",
       "      <td>42156</td>\n",
       "      <td>Animal Farm</td>\n",
       "      <td>Classics|Fiction|Science Fiction|Dystopia|Fant...</td>\n",
       "      <td>https://images.gr-assets.com/books/1424037542l...</td>\n",
       "    </tr>\n",
       "    <tr>\n",
       "      <th>8</th>\n",
       "      <td>Margaret Mitchell</td>\n",
       "      <td>Gone with the Wind is a novel written by Marga...</td>\n",
       "      <td>NaN</td>\n",
       "      <td>Paperback</td>\n",
       "      <td>9.78045E+12</td>\n",
       "      <td>1037 pages</td>\n",
       "      <td>4.29</td>\n",
       "      <td>969181</td>\n",
       "      <td>17452</td>\n",
       "      <td>Gone with the Wind</td>\n",
       "      <td>Classics|Historical|Historical Fiction|Fiction...</td>\n",
       "      <td>https://images.gr-assets.com/books/1328025229l...</td>\n",
       "    </tr>\n",
       "    <tr>\n",
       "      <th>9</th>\n",
       "      <td>J.R.R. Tolkien</td>\n",
       "      <td>لجزء الثالث من ملحمة جيه أر أر تولكين الرائعة ...</td>\n",
       "      <td>Hobbit Movie Tie-in Boxed set</td>\n",
       "      <td>Mass Market Paperback</td>\n",
       "      <td>9.78035E+12</td>\n",
       "      <td>1728 pages</td>\n",
       "      <td>4.59</td>\n",
       "      <td>99793</td>\n",
       "      <td>1652</td>\n",
       "      <td>J.R.R. Tolkien 4-Book Boxed Set: The Hobbit an...</td>\n",
       "      <td>Fantasy|Fiction|Classics</td>\n",
       "      <td>https://images.gr-assets.com/books/1346072396l...</td>\n",
       "    </tr>\n",
       "    <tr>\n",
       "      <th>10</th>\n",
       "      <td>John Green</td>\n",
       "      <td>Despite the tumor-shrinking medical miracle th...</td>\n",
       "      <td>NaN</td>\n",
       "      <td>Hardcover</td>\n",
       "      <td>9.78053E+12</td>\n",
       "      <td>313 pages</td>\n",
       "      <td>4.24</td>\n",
       "      <td>2881648</td>\n",
       "      <td>147270</td>\n",
       "      <td>The Fault in Our Stars</td>\n",
       "      <td>Young Adult|Fiction|Romance|Contemporary</td>\n",
       "      <td>https://images.gr-assets.com/books/1360206420l...</td>\n",
       "    </tr>\n",
       "    <tr>\n",
       "      <th>11</th>\n",
       "      <td>Douglas Adams</td>\n",
       "      <td>Seconds before the Earth is demolished to make...</td>\n",
       "      <td>NaN</td>\n",
       "      <td>Paperback</td>\n",
       "      <td>9.78035E+12</td>\n",
       "      <td>193 pages</td>\n",
       "      <td>4.21</td>\n",
       "      <td>1155911</td>\n",
       "      <td>23919</td>\n",
       "      <td>The Hitchhiker's Guide to the Galaxy</td>\n",
       "      <td>Science Fiction|Fiction|Humor|Fantasy|Classics</td>\n",
       "      <td>https://images.gr-assets.com/books/1388282444l...</td>\n",
       "    </tr>\n",
       "    <tr>\n",
       "      <th>12</th>\n",
       "      <td>Shel Silverstein</td>\n",
       "      <td>\"Once there was a tree...and she loved a littl...</td>\n",
       "      <td>NaN</td>\n",
       "      <td>Hardcover</td>\n",
       "      <td>9.78006E+12</td>\n",
       "      <td>64 pages</td>\n",
       "      <td>4.37</td>\n",
       "      <td>789681</td>\n",
       "      <td>15694</td>\n",
       "      <td>The Giving Tree</td>\n",
       "      <td>Childrens|Childrens|Picture Books|Classics|Fic...</td>\n",
       "      <td>https://images.gr-assets.com/books/1174210942l...</td>\n",
       "    </tr>\n",
       "    <tr>\n",
       "      <th>13</th>\n",
       "      <td>Emily Brontë|Richard J. Dunn|David Timson|Char...</td>\n",
       "      <td>You can find the redesigned cover of this edit...</td>\n",
       "      <td>Fourth Edition</td>\n",
       "      <td>Paperback</td>\n",
       "      <td>9.78039E+12</td>\n",
       "      <td>464 pages</td>\n",
       "      <td>3.84</td>\n",
       "      <td>1121100</td>\n",
       "      <td>29400</td>\n",
       "      <td>Wuthering Heights</td>\n",
       "      <td>Classics|Fiction|Romance|Literature</td>\n",
       "      <td>https://images.gr-assets.com/books/1388212715l...</td>\n",
       "    </tr>\n",
       "    <tr>\n",
       "      <th>14</th>\n",
       "      <td>Dan Brown</td>\n",
       "      <td>An ingenious code hidden in the works of Leona...</td>\n",
       "      <td>NaN</td>\n",
       "      <td>Paperback</td>\n",
       "      <td>9.78031E+12</td>\n",
       "      <td>481 pages</td>\n",
       "      <td>3.81</td>\n",
       "      <td>1668594</td>\n",
       "      <td>43699</td>\n",
       "      <td>The Da Vinci Code</td>\n",
       "      <td>Fiction|Mystery|Thriller</td>\n",
       "      <td>https://images.gr-assets.com/books/1303252999l...</td>\n",
       "    </tr>\n",
       "    <tr>\n",
       "      <th>15</th>\n",
       "      <td>Arthur Golden</td>\n",
       "      <td>A literary sensation and runaway bestseller, t...</td>\n",
       "      <td>Large Print</td>\n",
       "      <td>Hardcover</td>\n",
       "      <td>9.78074E+12</td>\n",
       "      <td>434 pages</td>\n",
       "      <td>4.09</td>\n",
       "      <td>1525851</td>\n",
       "      <td>27168</td>\n",
       "      <td>Memoirs of a Geisha</td>\n",
       "      <td>Fiction|Historical|Historical Fiction|Romance|...</td>\n",
       "      <td>https://images.gr-assets.com/books/1388367666l...</td>\n",
       "    </tr>\n",
       "    <tr>\n",
       "      <th>16</th>\n",
       "      <td>Lewis Carroll|John Tenniel|Martin Gardner</td>\n",
       "      <td>\" I can't explain myself, I'm afraid, sir,\" sa...</td>\n",
       "      <td>NaN</td>\n",
       "      <td>Mass Market Paperback</td>\n",
       "      <td>9.78045E+12</td>\n",
       "      <td>239 pages</td>\n",
       "      <td>4.07</td>\n",
       "      <td>411153</td>\n",
       "      <td>9166</td>\n",
       "      <td>Alice's Adventures in Wonderland &amp; Through the...</td>\n",
       "      <td>Classics|Fantasy|Fiction|Childrens</td>\n",
       "      <td>https://images.gr-assets.com/books/1327872220l...</td>\n",
       "    </tr>\n",
       "    <tr>\n",
       "      <th>17</th>\n",
       "      <td>Oscar Wilde|Jeffrey Eugenides</td>\n",
       "      <td>﻿Written in his distinctively dazzling manner,...</td>\n",
       "      <td>Modern Library Classics</td>\n",
       "      <td>Paperback</td>\n",
       "      <td>9.78038E+12</td>\n",
       "      <td>367 pages</td>\n",
       "      <td>4.06</td>\n",
       "      <td>775701</td>\n",
       "      <td>22938</td>\n",
       "      <td>The Picture of Dorian Gray</td>\n",
       "      <td>Fiction|Classics|Horror|Fantasy|Literature|Got...</td>\n",
       "      <td>https://images.gr-assets.com/books/1424596966l...</td>\n",
       "    </tr>\n",
       "    <tr>\n",
       "      <th>18</th>\n",
       "      <td>Victor Hugo|Lee Fahnestock|Norman MacAfee</td>\n",
       "      <td>Introducing one of the most famous characters ...</td>\n",
       "      <td>NaN</td>\n",
       "      <td>Mass Market Paperback</td>\n",
       "      <td>9.78045E+12</td>\n",
       "      <td>1463 pages</td>\n",
       "      <td>4.15</td>\n",
       "      <td>591874</td>\n",
       "      <td>13063</td>\n",
       "      <td>Les Misérables</td>\n",
       "      <td>Classics|Fiction|Historical|Historical Fiction...</td>\n",
       "      <td>https://images.gr-assets.com/books/1525303092l...</td>\n",
       "    </tr>\n",
       "    <tr>\n",
       "      <th>19</th>\n",
       "      <td>Veronica Roth</td>\n",
       "      <td>In Beatrice Prior's dystopian Chicago world, s...</td>\n",
       "      <td>NaN</td>\n",
       "      <td>Paperback</td>\n",
       "      <td>9.78006E+12</td>\n",
       "      <td>487 pages</td>\n",
       "      <td>4.22</td>\n",
       "      <td>2493519</td>\n",
       "      <td>104329</td>\n",
       "      <td>Divergent</td>\n",
       "      <td>Young Adult|Science Fiction|Dystopia|Fiction|F...</td>\n",
       "      <td>https://images.gr-assets.com/books/1328559506l...</td>\n",
       "    </tr>\n",
       "    <tr>\n",
       "      <th>20</th>\n",
       "      <td>Charlotte Brontë|Michael Mason</td>\n",
       "      <td>Fiery love, shocking twists of fate, and tragi...</td>\n",
       "      <td>Penguin Classics</td>\n",
       "      <td>Paperback</td>\n",
       "      <td>9.78014E+12</td>\n",
       "      <td>507 pages</td>\n",
       "      <td>4.11</td>\n",
       "      <td>1381404</td>\n",
       "      <td>34670</td>\n",
       "      <td>Jane Eyre</td>\n",
       "      <td>Classics|Fiction|Romance|Historical|Historical...</td>\n",
       "      <td>https://images.gr-assets.com/books/1327867269l...</td>\n",
       "    </tr>\n",
       "    <tr>\n",
       "      <th>21</th>\n",
       "      <td>William Shakespeare|Barbara A. Mowat|Paul Wers...</td>\n",
       "      <td>In Romeo and Juliet, Shakespeare creates a wor...</td>\n",
       "      <td>New Folger edition</td>\n",
       "      <td>Mass Market Paperback</td>\n",
       "      <td>9.78074E+12</td>\n",
       "      <td>283 pages</td>\n",
       "      <td>3.74</td>\n",
       "      <td>1818262</td>\n",
       "      <td>16442</td>\n",
       "      <td>Romeo and Juliet</td>\n",
       "      <td>Classics|Plays|Fiction|Romance|Academic|School...</td>\n",
       "      <td>https://images.gr-assets.com/books/1327872146l...</td>\n",
       "    </tr>\n",
       "    <tr>\n",
       "      <th>22</th>\n",
       "      <td>William Golding</td>\n",
       "      <td>At the dawn of the next world war, a plane cra...</td>\n",
       "      <td>Penguin Great Books of the 20th Century</td>\n",
       "      <td>Paperback</td>\n",
       "      <td>9.78014E+12</td>\n",
       "      <td>182 pages</td>\n",
       "      <td>3.66</td>\n",
       "      <td>1840595</td>\n",
       "      <td>30634</td>\n",
       "      <td>Lord of the Flies</td>\n",
       "      <td>Classics|Fiction|Young Adult|Academic|School|L...</td>\n",
       "      <td>https://images.gr-assets.com/books/1327869409l...</td>\n",
       "    </tr>\n",
       "    <tr>\n",
       "      <th>23</th>\n",
       "      <td>Paulo Coelho|Alan R. Clarke|Özdemir İnce</td>\n",
       "      <td>Paulo Coelho's masterpiece tells the mystical ...</td>\n",
       "      <td>NaN</td>\n",
       "      <td>Paperback</td>\n",
       "      <td>9.78006E+12</td>\n",
       "      <td>197 pages</td>\n",
       "      <td>3.84</td>\n",
       "      <td>1644387</td>\n",
       "      <td>63861</td>\n",
       "      <td>The Alchemist</td>\n",
       "      <td>Fiction|Classics|Fantasy|Philosophy|Novels|Spi...</td>\n",
       "      <td>https://images.gr-assets.com/books/1483412266l...</td>\n",
       "    </tr>\n",
       "    <tr>\n",
       "      <th>24</th>\n",
       "      <td>Fyodor Dostoyevsky|David McDuff</td>\n",
       "      <td>Raskolnikov, an impoverished student living in...</td>\n",
       "      <td>Penguin Classics</td>\n",
       "      <td>Paperback</td>\n",
       "      <td>9.78014E+12</td>\n",
       "      <td>671 pages</td>\n",
       "      <td>4.20</td>\n",
       "      <td>507522</td>\n",
       "      <td>14496</td>\n",
       "      <td>Crime and Punishment</td>\n",
       "      <td>Classics|Fiction|Cultural|Russia|Literature|Li...</td>\n",
       "      <td>https://images.gr-assets.com/books/1382846449l...</td>\n",
       "    </tr>\n",
       "    <tr>\n",
       "      <th>25</th>\n",
       "      <td>Orson Scott Card</td>\n",
       "      <td>Andrew \"Ender\" Wiggin thinks he is playing com...</td>\n",
       "      <td>Author's Definitive Edition, Revised mass mark...</td>\n",
       "      <td>Mass Market Paperback</td>\n",
       "      <td>9.78081E+12</td>\n",
       "      <td>324 pages</td>\n",
       "      <td>4.30</td>\n",
       "      <td>965351</td>\n",
       "      <td>40289</td>\n",
       "      <td>Ender's Game</td>\n",
       "      <td>Science Fiction|Fiction|Young Adult|Fantasy</td>\n",
       "      <td>https://images.gr-assets.com/books/1408303130l...</td>\n",
       "    </tr>\n",
       "    <tr>\n",
       "      <th>26</th>\n",
       "      <td>Stephen Chbosky</td>\n",
       "      <td>The critically acclaimed debut novel from Step...</td>\n",
       "      <td>NaN</td>\n",
       "      <td>Paperback</td>\n",
       "      <td>9.78067E+12</td>\n",
       "      <td>213 pages</td>\n",
       "      <td>4.20</td>\n",
       "      <td>1063711</td>\n",
       "      <td>50846</td>\n",
       "      <td>The Perks of Being a Wallflower</td>\n",
       "      <td>Young Adult|Fiction|Contemporary</td>\n",
       "      <td>https://images.gr-assets.com/books/1520093244l...</td>\n",
       "    </tr>\n",
       "    <tr>\n",
       "      <th>27</th>\n",
       "      <td>Cassandra Clare|Franca Fritz|Heinrich Koop|Fra...</td>\n",
       "      <td>When fifteen-year-old Clary Fray heads out to ...</td>\n",
       "      <td>NaN</td>\n",
       "      <td>Hardcover</td>\n",
       "      <td>9.78142E+12</td>\n",
       "      <td>485 pages</td>\n",
       "      <td>4.11</td>\n",
       "      <td>1383479</td>\n",
       "      <td>55446</td>\n",
       "      <td>City of Bones</td>\n",
       "      <td>Fantasy|Young Adult|Fantasy|Paranormal|Romance</td>\n",
       "      <td>https://images.gr-assets.com/books/1432730315l...</td>\n",
       "    </tr>\n",
       "    <tr>\n",
       "      <th>28</th>\n",
       "      <td>Kathryn Stockett</td>\n",
       "      <td>Be prepared to meet three unforgettable women:...</td>\n",
       "      <td>NaN</td>\n",
       "      <td>Hardcover</td>\n",
       "      <td>9.7804E+12</td>\n",
       "      <td>465 pages</td>\n",
       "      <td>4.46</td>\n",
       "      <td>1790905</td>\n",
       "      <td>80741</td>\n",
       "      <td>The Help</td>\n",
       "      <td>Fiction|Historical|Historical Fiction|Historic...</td>\n",
       "      <td>https://images.gr-assets.com/books/1346100365l...</td>\n",
       "    </tr>\n",
       "    <tr>\n",
       "      <th>29</th>\n",
       "      <td>F. Scott Fitzgerald</td>\n",
       "      <td>Alternate Cover Edition ISBN: 0743273567 (ISBN...</td>\n",
       "      <td>US / CAN</td>\n",
       "      <td>Paperback</td>\n",
       "      <td>NaN</td>\n",
       "      <td>180 pages</td>\n",
       "      <td>3.90</td>\n",
       "      <td>3141842</td>\n",
       "      <td>56953</td>\n",
       "      <td>The Great Gatsby</td>\n",
       "      <td>Classics|Fiction|Academic|School|Literature|Hi...</td>\n",
       "      <td>https://images.gr-assets.com/books/1490528560l...</td>\n",
       "    </tr>\n",
       "    <tr>\n",
       "      <th>...</th>\n",
       "      <td>...</td>\n",
       "      <td>...</td>\n",
       "      <td>...</td>\n",
       "      <td>...</td>\n",
       "      <td>...</td>\n",
       "      <td>...</td>\n",
       "      <td>...</td>\n",
       "      <td>...</td>\n",
       "      <td>...</td>\n",
       "      <td>...</td>\n",
       "      <td>...</td>\n",
       "      <td>...</td>\n",
       "    </tr>\n",
       "    <tr>\n",
       "      <th>54249</th>\n",
       "      <td>Sherrilyn Kenyon|L.A. Banks|Susan Squires|Rond...</td>\n",
       "      <td>Until Death Do We Part by Sherrilyn KenyonOver...</td>\n",
       "      <td>1st Edition</td>\n",
       "      <td>Mass Market Paperback</td>\n",
       "      <td>9.78031E+12</td>\n",
       "      <td>373 pages</td>\n",
       "      <td>4.06</td>\n",
       "      <td>8021</td>\n",
       "      <td>216</td>\n",
       "      <td>Love at First Bite</td>\n",
       "      <td>Romance|Paranormal Romance|Fantasy|Paranormal|...</td>\n",
       "      <td>https://images.gr-assets.com/books/1388180754l...</td>\n",
       "    </tr>\n",
       "    <tr>\n",
       "      <th>54250</th>\n",
       "      <td>Sherrilyn Kenyon|Amanda Ashley|L.A. Banks|Lori...</td>\n",
       "      <td>Winter Born by Sherrilyn KenyonTwo enemy Were-...</td>\n",
       "      <td>NaN</td>\n",
       "      <td>Mass Market Paperback</td>\n",
       "      <td>9.78031E+12</td>\n",
       "      <td>368 pages</td>\n",
       "      <td>4.16</td>\n",
       "      <td>10245</td>\n",
       "      <td>178</td>\n",
       "      <td>Stroke of Midnight</td>\n",
       "      <td>Fantasy|Paranormal|Romance|Paranormal Romance|...</td>\n",
       "      <td>https://images.gr-assets.com/books/1386922879l...</td>\n",
       "    </tr>\n",
       "    <tr>\n",
       "      <th>54251</th>\n",
       "      <td>Ann Weisgarber</td>\n",
       "      <td>From the author of The Personal History of Rac...</td>\n",
       "      <td>NaN</td>\n",
       "      <td>Hardcover</td>\n",
       "      <td>9.78163E+12</td>\n",
       "      <td>320 pages</td>\n",
       "      <td>3.93</td>\n",
       "      <td>4679</td>\n",
       "      <td>573</td>\n",
       "      <td>The Promise</td>\n",
       "      <td>Historical|Historical Fiction|Fiction|Romance|...</td>\n",
       "      <td>https://images.gr-assets.com/books/1389222568l...</td>\n",
       "    </tr>\n",
       "    <tr>\n",
       "      <th>54252</th>\n",
       "      <td>Matthew Hutchins</td>\n",
       "      <td>Killing Hitler With Praise And Fire is a choos...</td>\n",
       "      <td>1st</td>\n",
       "      <td>Paperback</td>\n",
       "      <td>9.78149E+12</td>\n",
       "      <td>324 pages</td>\n",
       "      <td>3.96</td>\n",
       "      <td>26</td>\n",
       "      <td>2</td>\n",
       "      <td>Killing Hitler With Praise And Fire: Choose Yo...</td>\n",
       "      <td>Historical|Fantasy|Sports and Games|Games|Humor</td>\n",
       "      <td>https://images.gr-assets.com/books/1399788014l...</td>\n",
       "    </tr>\n",
       "    <tr>\n",
       "      <th>54253</th>\n",
       "      <td>Sharon Stewart</td>\n",
       "      <td>Tok, the best flyer of all the young ravens, f...</td>\n",
       "      <td>NaN</td>\n",
       "      <td>Hardcover</td>\n",
       "      <td>NaN</td>\n",
       "      <td>320 pages</td>\n",
       "      <td>4.01</td>\n",
       "      <td>769</td>\n",
       "      <td>30</td>\n",
       "      <td>Raven Quest</td>\n",
       "      <td>Animals|Adventure|Animals|Animal Fiction|Ficti...</td>\n",
       "      <td>https://images.gr-assets.com/books/1333416621l...</td>\n",
       "    </tr>\n",
       "    <tr>\n",
       "      <th>54254</th>\n",
       "      <td>Linda Oatman High|Ted Lewin</td>\n",
       "      <td>Ivy Cordelia is plain lucky. It's the summer o...</td>\n",
       "      <td>NaN</td>\n",
       "      <td>Hardcover</td>\n",
       "      <td>9.7804E+12</td>\n",
       "      <td>40 pages</td>\n",
       "      <td>3.77</td>\n",
       "      <td>57</td>\n",
       "      <td>11</td>\n",
       "      <td>The Girl on the High Diving Horse</td>\n",
       "      <td>Childrens|Picture Books|Historical|Historical ...</td>\n",
       "      <td>https://images.gr-assets.com/books/1309201691l...</td>\n",
       "    </tr>\n",
       "    <tr>\n",
       "      <th>54255</th>\n",
       "      <td>Katharine Holabird|Helen Craig</td>\n",
       "      <td>Angelina is so busy dancing that she does noth...</td>\n",
       "      <td>NaN</td>\n",
       "      <td>Hardcover</td>\n",
       "      <td>9.78067E+12</td>\n",
       "      <td>32 pages</td>\n",
       "      <td>3.99</td>\n",
       "      <td>9356</td>\n",
       "      <td>173</td>\n",
       "      <td>Angelina Ballerina</td>\n",
       "      <td>Childrens|Picture Books|Childrens|Fiction</td>\n",
       "      <td>https://images.gr-assets.com/books/1435871963l...</td>\n",
       "    </tr>\n",
       "    <tr>\n",
       "      <th>54260</th>\n",
       "      <td>Karl Ove Knausgård</td>\n",
       "      <td>Här fortsätter Karl Ove Knausgårds mäktiga aou...</td>\n",
       "      <td>NaN</td>\n",
       "      <td>Paperback</td>\n",
       "      <td>9.78919E+12</td>\n",
       "      <td>595 pages</td>\n",
       "      <td>4.32</td>\n",
       "      <td>11718</td>\n",
       "      <td>1001</td>\n",
       "      <td>Min kamp 2</td>\n",
       "      <td>Fiction|Novels|European Literature|Scandinavia...</td>\n",
       "      <td>https://images.gr-assets.com/books/1350031656l...</td>\n",
       "    </tr>\n",
       "    <tr>\n",
       "      <th>54261</th>\n",
       "      <td>Donna Tartt|Rose-Marie Nielsen</td>\n",
       "      <td>En ung pojke i New York City, Theo Decker, öve...</td>\n",
       "      <td>NaN</td>\n",
       "      <td>Paperback</td>\n",
       "      <td>9.78917E+12</td>\n",
       "      <td>784 pages</td>\n",
       "      <td>3.89</td>\n",
       "      <td>540433</td>\n",
       "      <td>48708</td>\n",
       "      <td>Steglitsan</td>\n",
       "      <td>Fiction|Contemporary|Literary Fiction</td>\n",
       "      <td>https://images.gr-assets.com/books/1403538665l...</td>\n",
       "    </tr>\n",
       "    <tr>\n",
       "      <th>54262</th>\n",
       "      <td>Richard Yates</td>\n",
       "      <td>I fyrtio år får vi följa systrarna Emily och S...</td>\n",
       "      <td>NaN</td>\n",
       "      <td>Paperback</td>\n",
       "      <td>NaN</td>\n",
       "      <td>283 pages</td>\n",
       "      <td>4.03</td>\n",
       "      <td>6665</td>\n",
       "      <td>626</td>\n",
       "      <td>The Easter Parade</td>\n",
       "      <td>Fiction|Classics|Literature|American|Novels|Li...</td>\n",
       "      <td>https://images.gr-assets.com/books/1408524111l...</td>\n",
       "    </tr>\n",
       "    <tr>\n",
       "      <th>54264</th>\n",
       "      <td>Wolfgang Borchert|Heinrich Böll</td>\n",
       "      <td>Das einzige Drama des früh verstorbenen Dichte...</td>\n",
       "      <td>NaN</td>\n",
       "      <td>Paperback</td>\n",
       "      <td>9.7835E+12</td>\n",
       "      <td>121 pages</td>\n",
       "      <td>4.01</td>\n",
       "      <td>3540</td>\n",
       "      <td>71</td>\n",
       "      <td>Draußen vor der Tür</td>\n",
       "      <td>European Literature|German Literature|Classics...</td>\n",
       "      <td>https://images.gr-assets.com/books/1412606809l...</td>\n",
       "    </tr>\n",
       "    <tr>\n",
       "      <th>54265</th>\n",
       "      <td>Cardeno C.</td>\n",
       "      <td>Aggressive, physical, and brave, Jake Owens is...</td>\n",
       "      <td>Second Edition</td>\n",
       "      <td>Kindle Edition</td>\n",
       "      <td>NaN</td>\n",
       "      <td>289 pages</td>\n",
       "      <td>3.95</td>\n",
       "      <td>3155</td>\n",
       "      <td>362</td>\n",
       "      <td>Where He Ends and I Begin</td>\n",
       "      <td>Romance|M M Romance|Contemporary|Romance</td>\n",
       "      <td>https://images.gr-assets.com/books/1423416989l...</td>\n",
       "    </tr>\n",
       "    <tr>\n",
       "      <th>54266</th>\n",
       "      <td>Rifujin na Magonote|Shirotaka</td>\n",
       "      <td>34歳無職童貞のニートは無一文で家を追い出され、自分の人生が完全に詰んでいたと気付く。己を後...</td>\n",
       "      <td>NaN</td>\n",
       "      <td>Paperback</td>\n",
       "      <td>NaN</td>\n",
       "      <td>312 pages</td>\n",
       "      <td>4.19</td>\n",
       "      <td>440</td>\n",
       "      <td>18</td>\n",
       "      <td>無職転生 ～異世界行ったら本気だす～ 1</td>\n",
       "      <td>Novels|Light Novel|Fantasy|Fiction|Fantasy|Mag...</td>\n",
       "      <td>https://images.gr-assets.com/books/1406168841l...</td>\n",
       "    </tr>\n",
       "    <tr>\n",
       "      <th>54267</th>\n",
       "      <td>Rifujin na Magonote|Shirotaka</td>\n",
       "      <td>生前34歳無職ニートだった男は、異世界で生まれ変わり、新たな人生を歩み出していた。そんな男ル...</td>\n",
       "      <td>NaN</td>\n",
       "      <td>NaN</td>\n",
       "      <td>NaN</td>\n",
       "      <td>320 pages</td>\n",
       "      <td>4.16</td>\n",
       "      <td>287</td>\n",
       "      <td>3</td>\n",
       "      <td>無職転生 ～異世界行ったら本気だす～ 2</td>\n",
       "      <td>Novels|Light Novel|Fantasy|Fantasy|Magic|Ficti...</td>\n",
       "      <td>https://images.gr-assets.com/books/1406169028l...</td>\n",
       "    </tr>\n",
       "    <tr>\n",
       "      <th>54268</th>\n",
       "      <td>Wataru Watari|渡航|Ponkan⑧|ぽんかん⑧</td>\n",
       "      <td>青春は残酷だ！？ひねくれ男の妄言ラブコメ－－青春は嘘で欺瞞だ。リア充爆発しろ!ひねくれ者故に...</td>\n",
       "      <td>NaN</td>\n",
       "      <td>Paperback</td>\n",
       "      <td>9.78409E+12</td>\n",
       "      <td>312 pages</td>\n",
       "      <td>4.29</td>\n",
       "      <td>740</td>\n",
       "      <td>49</td>\n",
       "      <td>やはり俺の青春ラブコメはまちがっている 1</td>\n",
       "      <td>Novels|Light Novel|Sequential Art|Manga|Fictio...</td>\n",
       "      <td>https://images.gr-assets.com/books/1354714589l...</td>\n",
       "    </tr>\n",
       "    <tr>\n",
       "      <th>54269</th>\n",
       "      <td>Wataru Watari|渡航|Ponkan⑧|ぽんかん⑧</td>\n",
       "      <td>話題沸騰！ひねくれ男のダメ青春第二弾！！相も変わらず、ひねくれ者故に友達も彼女もいない高校生...</td>\n",
       "      <td>NaN</td>\n",
       "      <td>Paperback</td>\n",
       "      <td>9.78409E+12</td>\n",
       "      <td>264 pages</td>\n",
       "      <td>4.21</td>\n",
       "      <td>416</td>\n",
       "      <td>19</td>\n",
       "      <td>やはり俺の青春ラブコメはまちがっている 2</td>\n",
       "      <td>Novels|Light Novel|Fiction|Sequential Art|Mang...</td>\n",
       "      <td>https://images.gr-assets.com/books/1354714599l...</td>\n",
       "    </tr>\n",
       "    <tr>\n",
       "      <th>54270</th>\n",
       "      <td>Kazuma Kamachi|Kiyotaka Haimura</td>\n",
       "      <td>In Academy City, magic and science coexist in ...</td>\n",
       "      <td>NaN</td>\n",
       "      <td>Paperback</td>\n",
       "      <td>9.78032E+12</td>\n",
       "      <td>224 pages</td>\n",
       "      <td>3.99</td>\n",
       "      <td>858</td>\n",
       "      <td>37</td>\n",
       "      <td>A Certain Magical Index, Vol. 1</td>\n",
       "      <td>Novels|Light Novel|Fantasy|Sequential Art|Mang...</td>\n",
       "      <td>https://images.gr-assets.com/books/1411926125l...</td>\n",
       "    </tr>\n",
       "    <tr>\n",
       "      <th>54271</th>\n",
       "      <td>Kazuma Kamachi|Kiyotaka Haimura</td>\n",
       "      <td>「そこ、女の子が捕まってるから」“超能力”が一般科学として認知された学園都市、その「三沢塾」...</td>\n",
       "      <td>NaN</td>\n",
       "      <td>文庫</td>\n",
       "      <td>9.78484E+12</td>\n",
       "      <td>317 pages</td>\n",
       "      <td>3.88</td>\n",
       "      <td>443</td>\n",
       "      <td>13</td>\n",
       "      <td>とある魔術の禁書目録 2</td>\n",
       "      <td>Novels|Light Novel|Fantasy|Science Fiction|Seq...</td>\n",
       "      <td>https://images.gr-assets.com/books/1341383135l...</td>\n",
       "    </tr>\n",
       "    <tr>\n",
       "      <th>54272</th>\n",
       "      <td>Tamiki Wakaki</td>\n",
       "      <td>NaN</td>\n",
       "      <td>NaN</td>\n",
       "      <td>Paperback</td>\n",
       "      <td>9.78409E+12</td>\n",
       "      <td>NaN</td>\n",
       "      <td>4.29</td>\n",
       "      <td>206</td>\n",
       "      <td>2</td>\n",
       "      <td>The World God Only Knows 8</td>\n",
       "      <td>Sequential Art|Manga|Comics Manga|Fiction|Sequ...</td>\n",
       "      <td>https://images.gr-assets.com/books/1350213091l...</td>\n",
       "    </tr>\n",
       "    <tr>\n",
       "      <th>54273</th>\n",
       "      <td>Kazuma Kamachi|Kiyotaka Haimura</td>\n",
       "      <td>「不幸だ…」真夏の夕暮れ。補習帰りにジュースの自動販売機に金を呑まれた上条当麻はそう呟いた。...</td>\n",
       "      <td>NaN</td>\n",
       "      <td>文庫</td>\n",
       "      <td>9.78484E+12</td>\n",
       "      <td>307 pages</td>\n",
       "      <td>4.32</td>\n",
       "      <td>394</td>\n",
       "      <td>10</td>\n",
       "      <td>とある魔術の禁書目録 3</td>\n",
       "      <td>Novels|Light Novel|Fantasy|Science Fiction|Seq...</td>\n",
       "      <td>https://images.gr-assets.com/books/1327801975l...</td>\n",
       "    </tr>\n",
       "    <tr>\n",
       "      <th>54275</th>\n",
       "      <td>Tamiki Wakaki</td>\n",
       "      <td>NaN</td>\n",
       "      <td>NaN</td>\n",
       "      <td>Paperback</td>\n",
       "      <td>9.78409E+12</td>\n",
       "      <td>NaN</td>\n",
       "      <td>4.30</td>\n",
       "      <td>202</td>\n",
       "      <td>2</td>\n",
       "      <td>The World God Only Knows 9</td>\n",
       "      <td>Sequential Art|Manga|Comics Manga|Fiction</td>\n",
       "      <td>https://images.gr-assets.com/books/1350213185l...</td>\n",
       "    </tr>\n",
       "    <tr>\n",
       "      <th>54276</th>\n",
       "      <td>David Wellington</td>\n",
       "      <td>To prevent nuclear annihilation, Special Force...</td>\n",
       "      <td>NaN</td>\n",
       "      <td>Hardcover</td>\n",
       "      <td>9.78006E+12</td>\n",
       "      <td>448 pages</td>\n",
       "      <td>3.48</td>\n",
       "      <td>154</td>\n",
       "      <td>30</td>\n",
       "      <td>The Hydra Protocol</td>\n",
       "      <td>Thriller|Fiction|Adventure|Action</td>\n",
       "      <td>https://images.gr-assets.com/books/1388683935l...</td>\n",
       "    </tr>\n",
       "    <tr>\n",
       "      <th>54277</th>\n",
       "      <td>Hitori Nakano|Bonnie Elliott</td>\n",
       "      <td>An instant bestseller when it was first publis...</td>\n",
       "      <td>NaN</td>\n",
       "      <td>Paperback</td>\n",
       "      <td>9.78035E+12</td>\n",
       "      <td>416 pages</td>\n",
       "      <td>3.71</td>\n",
       "      <td>1534</td>\n",
       "      <td>185</td>\n",
       "      <td>Train Man</td>\n",
       "      <td>Romance|Cultural|Japan|Fiction|Asian Literatur...</td>\n",
       "      <td>https://images.gr-assets.com/books/1535433505l...</td>\n",
       "    </tr>\n",
       "    <tr>\n",
       "      <th>54278</th>\n",
       "      <td>Kiyohiko Azuma|あずま きよひこ</td>\n",
       "      <td>Yotsuba recycles! Gets a bike! Learns about st...</td>\n",
       "      <td>NaN</td>\n",
       "      <td>Paperback</td>\n",
       "      <td>9.78141E+12</td>\n",
       "      <td>208 pages</td>\n",
       "      <td>4.56</td>\n",
       "      <td>2942</td>\n",
       "      <td>102</td>\n",
       "      <td>Yotsuba&amp;!, Vol. 6</td>\n",
       "      <td>Sequential Art|Manga|Sequential Art|Comics|Seq...</td>\n",
       "      <td>https://images.gr-assets.com/books/1328437326l...</td>\n",
       "    </tr>\n",
       "    <tr>\n",
       "      <th>54279</th>\n",
       "      <td>Tamiki Wakaki</td>\n",
       "      <td>NaN</td>\n",
       "      <td>NaN</td>\n",
       "      <td>Paperback</td>\n",
       "      <td>NaN</td>\n",
       "      <td>NaN</td>\n",
       "      <td>4.16</td>\n",
       "      <td>160</td>\n",
       "      <td>1</td>\n",
       "      <td>The World God Only Knows 10</td>\n",
       "      <td>Sequential Art|Manga|Fiction|Comics Manga</td>\n",
       "      <td>https://images.gr-assets.com/books/1350213347l...</td>\n",
       "    </tr>\n",
       "    <tr>\n",
       "      <th>54289</th>\n",
       "      <td>Tamiki Wakaki</td>\n",
       "      <td>NaN</td>\n",
       "      <td>NaN</td>\n",
       "      <td>Paperback</td>\n",
       "      <td>NaN</td>\n",
       "      <td>200 pages</td>\n",
       "      <td>4.30</td>\n",
       "      <td>211</td>\n",
       "      <td>3</td>\n",
       "      <td>The World God Only Knows 5</td>\n",
       "      <td>Sequential Art|Manga|Comics Manga|Romance|Fict...</td>\n",
       "      <td>https://images.gr-assets.com/books/1366794307l...</td>\n",
       "    </tr>\n",
       "    <tr>\n",
       "      <th>54291</th>\n",
       "      <td>Mat Johnson</td>\n",
       "      <td>A comic journey into the ultimate land of whit...</td>\n",
       "      <td>NaN</td>\n",
       "      <td>Hardcover</td>\n",
       "      <td>9.78081E+12</td>\n",
       "      <td>322 pages</td>\n",
       "      <td>3.56</td>\n",
       "      <td>2921</td>\n",
       "      <td>507</td>\n",
       "      <td>Pym</td>\n",
       "      <td>Fiction|Fantasy|Humor|Cultural|African America...</td>\n",
       "      <td>https://images.gr-assets.com/books/1320435734l...</td>\n",
       "    </tr>\n",
       "    <tr>\n",
       "      <th>54292</th>\n",
       "      <td>Etel Adnan|Georgina Kleege</td>\n",
       "      <td>Translated from the French by Georgina Kleege,...</td>\n",
       "      <td>NaN</td>\n",
       "      <td>Paperback</td>\n",
       "      <td>9.78094E+12</td>\n",
       "      <td>106 pages</td>\n",
       "      <td>3.92</td>\n",
       "      <td>387</td>\n",
       "      <td>39</td>\n",
       "      <td>Sitt Marie Rose</td>\n",
       "      <td>Fiction|Cultural|Lebanon|War|Academic|School|L...</td>\n",
       "      <td>https://images.gr-assets.com/books/1386921457l...</td>\n",
       "    </tr>\n",
       "    <tr>\n",
       "      <th>54293</th>\n",
       "      <td>Alicia Erian</td>\n",
       "      <td>Thirteen-year-old Jasira wants what every girl...</td>\n",
       "      <td>NaN</td>\n",
       "      <td>Paperback</td>\n",
       "      <td>9.78074E+12</td>\n",
       "      <td>336 pages</td>\n",
       "      <td>3.60</td>\n",
       "      <td>3529</td>\n",
       "      <td>531</td>\n",
       "      <td>Towelhead</td>\n",
       "      <td>Fiction|Young Adult|Young Adult|Coming Of Age|...</td>\n",
       "      <td>https://images.gr-assets.com/books/1422682136l...</td>\n",
       "    </tr>\n",
       "    <tr>\n",
       "      <th>54294</th>\n",
       "      <td>Siri Hustvedt</td>\n",
       "      <td>A brilliant, provocative novel about an artist...</td>\n",
       "      <td>First Simon &amp; Schuster hardcover edition</td>\n",
       "      <td>Hardcover</td>\n",
       "      <td>9.78148E+12</td>\n",
       "      <td>368 pages</td>\n",
       "      <td>3.67</td>\n",
       "      <td>5827</td>\n",
       "      <td>816</td>\n",
       "      <td>The Blazing World</td>\n",
       "      <td>Fiction|Art|Feminism|Contemporary|Literary Fic...</td>\n",
       "      <td>https://images.gr-assets.com/books/1418103958l...</td>\n",
       "    </tr>\n",
       "  </tbody>\n",
       "</table>\n",
       "<p>40194 rows × 12 columns</p>\n",
       "</div>"
      ],
      "text/plain": [
       "                                            book_authors  \\\n",
       "0                                        Suzanne Collins   \n",
       "1                             J.K. Rowling|Mary GrandPré   \n",
       "2                                             Harper Lee   \n",
       "3      Jane Austen|Anna Quindlen|Mrs. Oliphant|George...   \n",
       "4                                        Stephenie Meyer   \n",
       "5                                           Markus Zusak   \n",
       "6                              C.S. Lewis|Pauline Baynes   \n",
       "7                                          George Orwell   \n",
       "8                                      Margaret Mitchell   \n",
       "9                                         J.R.R. Tolkien   \n",
       "10                                            John Green   \n",
       "11                                         Douglas Adams   \n",
       "12                                      Shel Silverstein   \n",
       "13     Emily Brontë|Richard J. Dunn|David Timson|Char...   \n",
       "14                                             Dan Brown   \n",
       "15                                         Arthur Golden   \n",
       "16             Lewis Carroll|John Tenniel|Martin Gardner   \n",
       "17                         Oscar Wilde|Jeffrey Eugenides   \n",
       "18             Victor Hugo|Lee Fahnestock|Norman MacAfee   \n",
       "19                                         Veronica Roth   \n",
       "20                        Charlotte Brontë|Michael Mason   \n",
       "21     William Shakespeare|Barbara A. Mowat|Paul Wers...   \n",
       "22                                       William Golding   \n",
       "23              Paulo Coelho|Alan R. Clarke|Özdemir İnce   \n",
       "24                       Fyodor Dostoyevsky|David McDuff   \n",
       "25                                      Orson Scott Card   \n",
       "26                                       Stephen Chbosky   \n",
       "27     Cassandra Clare|Franca Fritz|Heinrich Koop|Fra...   \n",
       "28                                      Kathryn Stockett   \n",
       "29                                   F. Scott Fitzgerald   \n",
       "...                                                  ...   \n",
       "54249  Sherrilyn Kenyon|L.A. Banks|Susan Squires|Rond...   \n",
       "54250  Sherrilyn Kenyon|Amanda Ashley|L.A. Banks|Lori...   \n",
       "54251                                     Ann Weisgarber   \n",
       "54252                                   Matthew Hutchins   \n",
       "54253                                     Sharon Stewart   \n",
       "54254                        Linda Oatman High|Ted Lewin   \n",
       "54255                     Katharine Holabird|Helen Craig   \n",
       "54260                                 Karl Ove Knausgård   \n",
       "54261                     Donna Tartt|Rose-Marie Nielsen   \n",
       "54262                                      Richard Yates   \n",
       "54264                    Wolfgang Borchert|Heinrich Böll   \n",
       "54265                                         Cardeno C.   \n",
       "54266                      Rifujin na Magonote|Shirotaka   \n",
       "54267                      Rifujin na Magonote|Shirotaka   \n",
       "54268                     Wataru Watari|渡航|Ponkan⑧|ぽんかん⑧   \n",
       "54269                     Wataru Watari|渡航|Ponkan⑧|ぽんかん⑧   \n",
       "54270                    Kazuma Kamachi|Kiyotaka Haimura   \n",
       "54271                    Kazuma Kamachi|Kiyotaka Haimura   \n",
       "54272                                      Tamiki Wakaki   \n",
       "54273                    Kazuma Kamachi|Kiyotaka Haimura   \n",
       "54275                                      Tamiki Wakaki   \n",
       "54276                                   David Wellington   \n",
       "54277                       Hitori Nakano|Bonnie Elliott   \n",
       "54278                            Kiyohiko Azuma|あずま きよひこ   \n",
       "54279                                      Tamiki Wakaki   \n",
       "54289                                      Tamiki Wakaki   \n",
       "54291                                        Mat Johnson   \n",
       "54292                         Etel Adnan|Georgina Kleege   \n",
       "54293                                       Alicia Erian   \n",
       "54294                                      Siri Hustvedt   \n",
       "\n",
       "                                               book_desc  \\\n",
       "0      Winning will make you famous. Losing means cer...   \n",
       "1      There is a door at the end of a silent corrido...   \n",
       "2      The unforgettable novel of a childhood in a sl...   \n",
       "3      «È cosa ormai risaputa che a uno scapolo in po...   \n",
       "4      About three things I was absolutely positive.F...   \n",
       "5      Trying to make sense of the horrors of World W...   \n",
       "6      Journeys to the end of the world, fantastic cr...   \n",
       "7      مزرعة الحيوانات هي رائعة جورج أورويل الخالدة.....   \n",
       "8      Gone with the Wind is a novel written by Marga...   \n",
       "9      لجزء الثالث من ملحمة جيه أر أر تولكين الرائعة ...   \n",
       "10     Despite the tumor-shrinking medical miracle th...   \n",
       "11     Seconds before the Earth is demolished to make...   \n",
       "12     \"Once there was a tree...and she loved a littl...   \n",
       "13     You can find the redesigned cover of this edit...   \n",
       "14     An ingenious code hidden in the works of Leona...   \n",
       "15     A literary sensation and runaway bestseller, t...   \n",
       "16     \" I can't explain myself, I'm afraid, sir,\" sa...   \n",
       "17     ﻿Written in his distinctively dazzling manner,...   \n",
       "18     Introducing one of the most famous characters ...   \n",
       "19     In Beatrice Prior's dystopian Chicago world, s...   \n",
       "20     Fiery love, shocking twists of fate, and tragi...   \n",
       "21     In Romeo and Juliet, Shakespeare creates a wor...   \n",
       "22     At the dawn of the next world war, a plane cra...   \n",
       "23     Paulo Coelho's masterpiece tells the mystical ...   \n",
       "24     Raskolnikov, an impoverished student living in...   \n",
       "25     Andrew \"Ender\" Wiggin thinks he is playing com...   \n",
       "26     The critically acclaimed debut novel from Step...   \n",
       "27     When fifteen-year-old Clary Fray heads out to ...   \n",
       "28     Be prepared to meet three unforgettable women:...   \n",
       "29     Alternate Cover Edition ISBN: 0743273567 (ISBN...   \n",
       "...                                                  ...   \n",
       "54249  Until Death Do We Part by Sherrilyn KenyonOver...   \n",
       "54250  Winter Born by Sherrilyn KenyonTwo enemy Were-...   \n",
       "54251  From the author of The Personal History of Rac...   \n",
       "54252  Killing Hitler With Praise And Fire is a choos...   \n",
       "54253  Tok, the best flyer of all the young ravens, f...   \n",
       "54254  Ivy Cordelia is plain lucky. It's the summer o...   \n",
       "54255  Angelina is so busy dancing that she does noth...   \n",
       "54260  Här fortsätter Karl Ove Knausgårds mäktiga aou...   \n",
       "54261  En ung pojke i New York City, Theo Decker, öve...   \n",
       "54262  I fyrtio år får vi följa systrarna Emily och S...   \n",
       "54264  Das einzige Drama des früh verstorbenen Dichte...   \n",
       "54265  Aggressive, physical, and brave, Jake Owens is...   \n",
       "54266  34歳無職童貞のニートは無一文で家を追い出され、自分の人生が完全に詰んでいたと気付く。己を後...   \n",
       "54267  生前34歳無職ニートだった男は、異世界で生まれ変わり、新たな人生を歩み出していた。そんな男ル...   \n",
       "54268  青春は残酷だ！？ひねくれ男の妄言ラブコメ－－青春は嘘で欺瞞だ。リア充爆発しろ!ひねくれ者故に...   \n",
       "54269  話題沸騰！ひねくれ男のダメ青春第二弾！！相も変わらず、ひねくれ者故に友達も彼女もいない高校生...   \n",
       "54270  In Academy City, magic and science coexist in ...   \n",
       "54271  「そこ、女の子が捕まってるから」“超能力”が一般科学として認知された学園都市、その「三沢塾」...   \n",
       "54272                                                NaN   \n",
       "54273  「不幸だ…」真夏の夕暮れ。補習帰りにジュースの自動販売機に金を呑まれた上条当麻はそう呟いた。...   \n",
       "54275                                                NaN   \n",
       "54276  To prevent nuclear annihilation, Special Force...   \n",
       "54277  An instant bestseller when it was first publis...   \n",
       "54278  Yotsuba recycles! Gets a bike! Learns about st...   \n",
       "54279                                                NaN   \n",
       "54289                                                NaN   \n",
       "54291  A comic journey into the ultimate land of whit...   \n",
       "54292  Translated from the French by Georgina Kleege,...   \n",
       "54293  Thirteen-year-old Jasira wants what every girl...   \n",
       "54294  A brilliant, provocative novel about an artist...   \n",
       "\n",
       "                                            book_edition  \\\n",
       "0                                                    NaN   \n",
       "1                                             US Edition   \n",
       "2                                       50th Anniversary   \n",
       "3                     Modern Library Classics, USA / CAN   \n",
       "4                                                    NaN   \n",
       "5                      First American Edition (US / CAN)   \n",
       "6                                        Reissue Edition   \n",
       "7                                                    NaN   \n",
       "8                                                    NaN   \n",
       "9                          Hobbit Movie Tie-in Boxed set   \n",
       "10                                                   NaN   \n",
       "11                                                   NaN   \n",
       "12                                                   NaN   \n",
       "13                                        Fourth Edition   \n",
       "14                                                   NaN   \n",
       "15                                           Large Print   \n",
       "16                                                   NaN   \n",
       "17                               Modern Library Classics   \n",
       "18                                                   NaN   \n",
       "19                                                   NaN   \n",
       "20                                      Penguin Classics   \n",
       "21                                    New Folger edition   \n",
       "22               Penguin Great Books of the 20th Century   \n",
       "23                                                   NaN   \n",
       "24                                      Penguin Classics   \n",
       "25     Author's Definitive Edition, Revised mass mark...   \n",
       "26                                                   NaN   \n",
       "27                                                   NaN   \n",
       "28                                                   NaN   \n",
       "29                                              US / CAN   \n",
       "...                                                  ...   \n",
       "54249                                        1st Edition   \n",
       "54250                                                NaN   \n",
       "54251                                                NaN   \n",
       "54252                                                1st   \n",
       "54253                                                NaN   \n",
       "54254                                                NaN   \n",
       "54255                                                NaN   \n",
       "54260                                                NaN   \n",
       "54261                                                NaN   \n",
       "54262                                                NaN   \n",
       "54264                                                NaN   \n",
       "54265                                     Second Edition   \n",
       "54266                                                NaN   \n",
       "54267                                                NaN   \n",
       "54268                                                NaN   \n",
       "54269                                                NaN   \n",
       "54270                                                NaN   \n",
       "54271                                                NaN   \n",
       "54272                                                NaN   \n",
       "54273                                                NaN   \n",
       "54275                                                NaN   \n",
       "54276                                                NaN   \n",
       "54277                                                NaN   \n",
       "54278                                                NaN   \n",
       "54279                                                NaN   \n",
       "54289                                                NaN   \n",
       "54291                                                NaN   \n",
       "54292                                                NaN   \n",
       "54293                                                NaN   \n",
       "54294           First Simon & Schuster hardcover edition   \n",
       "\n",
       "                 book_format    book_isbn  book_pages  book_rating  \\\n",
       "0                  Hardcover  9.78044E+12   374 pages         4.33   \n",
       "1                  Paperback  9.78044E+12   870 pages         4.48   \n",
       "2                  Paperback  9.78006E+12   324 pages         4.27   \n",
       "3                  Paperback  9.78068E+12   279 pages         4.25   \n",
       "4                  Paperback  9.78032E+12   498 pages         3.58   \n",
       "5                  Hardcover  9.78038E+12   552 pages         4.36   \n",
       "6                  Paperback  9.78007E+12   767 pages         4.25   \n",
       "7                  Paperback  9.78045E+12   122 pages         3.90   \n",
       "8                  Paperback  9.78045E+12  1037 pages         4.29   \n",
       "9      Mass Market Paperback  9.78035E+12  1728 pages         4.59   \n",
       "10                 Hardcover  9.78053E+12   313 pages         4.24   \n",
       "11                 Paperback  9.78035E+12   193 pages         4.21   \n",
       "12                 Hardcover  9.78006E+12    64 pages         4.37   \n",
       "13                 Paperback  9.78039E+12   464 pages         3.84   \n",
       "14                 Paperback  9.78031E+12   481 pages         3.81   \n",
       "15                 Hardcover  9.78074E+12   434 pages         4.09   \n",
       "16     Mass Market Paperback  9.78045E+12   239 pages         4.07   \n",
       "17                 Paperback  9.78038E+12   367 pages         4.06   \n",
       "18     Mass Market Paperback  9.78045E+12  1463 pages         4.15   \n",
       "19                 Paperback  9.78006E+12   487 pages         4.22   \n",
       "20                 Paperback  9.78014E+12   507 pages         4.11   \n",
       "21     Mass Market Paperback  9.78074E+12   283 pages         3.74   \n",
       "22                 Paperback  9.78014E+12   182 pages         3.66   \n",
       "23                 Paperback  9.78006E+12   197 pages         3.84   \n",
       "24                 Paperback  9.78014E+12   671 pages         4.20   \n",
       "25     Mass Market Paperback  9.78081E+12   324 pages         4.30   \n",
       "26                 Paperback  9.78067E+12   213 pages         4.20   \n",
       "27                 Hardcover  9.78142E+12   485 pages         4.11   \n",
       "28                 Hardcover   9.7804E+12   465 pages         4.46   \n",
       "29                 Paperback          NaN   180 pages         3.90   \n",
       "...                      ...          ...         ...          ...   \n",
       "54249  Mass Market Paperback  9.78031E+12   373 pages         4.06   \n",
       "54250  Mass Market Paperback  9.78031E+12   368 pages         4.16   \n",
       "54251              Hardcover  9.78163E+12   320 pages         3.93   \n",
       "54252              Paperback  9.78149E+12   324 pages         3.96   \n",
       "54253              Hardcover          NaN   320 pages         4.01   \n",
       "54254              Hardcover   9.7804E+12    40 pages         3.77   \n",
       "54255              Hardcover  9.78067E+12    32 pages         3.99   \n",
       "54260              Paperback  9.78919E+12   595 pages         4.32   \n",
       "54261              Paperback  9.78917E+12   784 pages         3.89   \n",
       "54262              Paperback          NaN   283 pages         4.03   \n",
       "54264              Paperback   9.7835E+12   121 pages         4.01   \n",
       "54265         Kindle Edition          NaN   289 pages         3.95   \n",
       "54266              Paperback          NaN   312 pages         4.19   \n",
       "54267                    NaN          NaN   320 pages         4.16   \n",
       "54268              Paperback  9.78409E+12   312 pages         4.29   \n",
       "54269              Paperback  9.78409E+12   264 pages         4.21   \n",
       "54270              Paperback  9.78032E+12   224 pages         3.99   \n",
       "54271                     文庫  9.78484E+12   317 pages         3.88   \n",
       "54272              Paperback  9.78409E+12         NaN         4.29   \n",
       "54273                     文庫  9.78484E+12   307 pages         4.32   \n",
       "54275              Paperback  9.78409E+12         NaN         4.30   \n",
       "54276              Hardcover  9.78006E+12   448 pages         3.48   \n",
       "54277              Paperback  9.78035E+12   416 pages         3.71   \n",
       "54278              Paperback  9.78141E+12   208 pages         4.56   \n",
       "54279              Paperback          NaN         NaN         4.16   \n",
       "54289              Paperback          NaN   200 pages         4.30   \n",
       "54291              Hardcover  9.78081E+12   322 pages         3.56   \n",
       "54292              Paperback  9.78094E+12   106 pages         3.92   \n",
       "54293              Paperback  9.78074E+12   336 pages         3.60   \n",
       "54294              Hardcover  9.78148E+12   368 pages         3.67   \n",
       "\n",
       "       book_rating_count  book_review_count  \\\n",
       "0                5519135             160706   \n",
       "1                2041594              33264   \n",
       "2                3745197              79450   \n",
       "3                2453620              54322   \n",
       "4                4281268              97991   \n",
       "5                1485632             100821   \n",
       "6                 437829               9439   \n",
       "7                2235084              42156   \n",
       "8                 969181              17452   \n",
       "9                  99793               1652   \n",
       "10               2881648             147270   \n",
       "11               1155911              23919   \n",
       "12                789681              15694   \n",
       "13               1121100              29400   \n",
       "14               1668594              43699   \n",
       "15               1525851              27168   \n",
       "16                411153               9166   \n",
       "17                775701              22938   \n",
       "18                591874              13063   \n",
       "19               2493519             104329   \n",
       "20               1381404              34670   \n",
       "21               1818262              16442   \n",
       "22               1840595              30634   \n",
       "23               1644387              63861   \n",
       "24                507522              14496   \n",
       "25                965351              40289   \n",
       "26               1063711              50846   \n",
       "27               1383479              55446   \n",
       "28               1790905              80741   \n",
       "29               3141842              56953   \n",
       "...                  ...                ...   \n",
       "54249               8021                216   \n",
       "54250              10245                178   \n",
       "54251               4679                573   \n",
       "54252                 26                  2   \n",
       "54253                769                 30   \n",
       "54254                 57                 11   \n",
       "54255               9356                173   \n",
       "54260              11718               1001   \n",
       "54261             540433              48708   \n",
       "54262               6665                626   \n",
       "54264               3540                 71   \n",
       "54265               3155                362   \n",
       "54266                440                 18   \n",
       "54267                287                  3   \n",
       "54268                740                 49   \n",
       "54269                416                 19   \n",
       "54270                858                 37   \n",
       "54271                443                 13   \n",
       "54272                206                  2   \n",
       "54273                394                 10   \n",
       "54275                202                  2   \n",
       "54276                154                 30   \n",
       "54277               1534                185   \n",
       "54278               2942                102   \n",
       "54279                160                  1   \n",
       "54289                211                  3   \n",
       "54291               2921                507   \n",
       "54292                387                 39   \n",
       "54293               3529                531   \n",
       "54294               5827                816   \n",
       "\n",
       "                                              book_title  \\\n",
       "0                                       The Hunger Games   \n",
       "1              Harry Potter and the Order of the Phoenix   \n",
       "2                                  To Kill a Mockingbird   \n",
       "3                                    Pride and Prejudice   \n",
       "4                                               Twilight   \n",
       "5                                         The Book Thief   \n",
       "6                               The Chronicles of Narnia   \n",
       "7                                            Animal Farm   \n",
       "8                                     Gone with the Wind   \n",
       "9      J.R.R. Tolkien 4-Book Boxed Set: The Hobbit an...   \n",
       "10                                The Fault in Our Stars   \n",
       "11                  The Hitchhiker's Guide to the Galaxy   \n",
       "12                                       The Giving Tree   \n",
       "13                                     Wuthering Heights   \n",
       "14                                     The Da Vinci Code   \n",
       "15                                   Memoirs of a Geisha   \n",
       "16     Alice's Adventures in Wonderland & Through the...   \n",
       "17                            The Picture of Dorian Gray   \n",
       "18                                        Les Misérables   \n",
       "19                                             Divergent   \n",
       "20                                             Jane Eyre   \n",
       "21                                      Romeo and Juliet   \n",
       "22                                     Lord of the Flies   \n",
       "23                                         The Alchemist   \n",
       "24                                  Crime and Punishment   \n",
       "25                                          Ender's Game   \n",
       "26                       The Perks of Being a Wallflower   \n",
       "27                                         City of Bones   \n",
       "28                                              The Help   \n",
       "29                                      The Great Gatsby   \n",
       "...                                                  ...   \n",
       "54249                                 Love at First Bite   \n",
       "54250                                 Stroke of Midnight   \n",
       "54251                                        The Promise   \n",
       "54252  Killing Hitler With Praise And Fire: Choose Yo...   \n",
       "54253                                        Raven Quest   \n",
       "54254                  The Girl on the High Diving Horse   \n",
       "54255                                 Angelina Ballerina   \n",
       "54260                                         Min kamp 2   \n",
       "54261                                         Steglitsan   \n",
       "54262                                  The Easter Parade   \n",
       "54264                                Draußen vor der Tür   \n",
       "54265                          Where He Ends and I Begin   \n",
       "54266                               無職転生 ～異世界行ったら本気だす～ 1   \n",
       "54267                               無職転生 ～異世界行ったら本気だす～ 2   \n",
       "54268                              やはり俺の青春ラブコメはまちがっている 1   \n",
       "54269                              やはり俺の青春ラブコメはまちがっている 2   \n",
       "54270                    A Certain Magical Index, Vol. 1   \n",
       "54271                                       とある魔術の禁書目録 2   \n",
       "54272                         The World God Only Knows 8   \n",
       "54273                                       とある魔術の禁書目録 3   \n",
       "54275                         The World God Only Knows 9   \n",
       "54276                                 The Hydra Protocol   \n",
       "54277                                          Train Man   \n",
       "54278                                  Yotsuba&!, Vol. 6   \n",
       "54279                        The World God Only Knows 10   \n",
       "54289                         The World God Only Knows 5   \n",
       "54291                                                Pym   \n",
       "54292                                    Sitt Marie Rose   \n",
       "54293                                          Towelhead   \n",
       "54294                                  The Blazing World   \n",
       "\n",
       "                                                  genres  \\\n",
       "0      Young Adult|Fiction|Science Fiction|Dystopia|F...   \n",
       "1                            Fantasy|Young Adult|Fiction   \n",
       "2      Classics|Fiction|Historical|Historical Fiction...   \n",
       "3                               Classics|Fiction|Romance   \n",
       "4      Young Adult|Fantasy|Romance|Paranormal|Vampire...   \n",
       "5      Historical|Historical Fiction|Fiction|Young Adult   \n",
       "6         Fantasy|Classics|Fiction|Young Adult|Childrens   \n",
       "7      Classics|Fiction|Science Fiction|Dystopia|Fant...   \n",
       "8      Classics|Historical|Historical Fiction|Fiction...   \n",
       "9                               Fantasy|Fiction|Classics   \n",
       "10              Young Adult|Fiction|Romance|Contemporary   \n",
       "11        Science Fiction|Fiction|Humor|Fantasy|Classics   \n",
       "12     Childrens|Childrens|Picture Books|Classics|Fic...   \n",
       "13                   Classics|Fiction|Romance|Literature   \n",
       "14                              Fiction|Mystery|Thriller   \n",
       "15     Fiction|Historical|Historical Fiction|Romance|...   \n",
       "16                    Classics|Fantasy|Fiction|Childrens   \n",
       "17     Fiction|Classics|Horror|Fantasy|Literature|Got...   \n",
       "18     Classics|Fiction|Historical|Historical Fiction...   \n",
       "19     Young Adult|Science Fiction|Dystopia|Fiction|F...   \n",
       "20     Classics|Fiction|Romance|Historical|Historical...   \n",
       "21     Classics|Plays|Fiction|Romance|Academic|School...   \n",
       "22     Classics|Fiction|Young Adult|Academic|School|L...   \n",
       "23     Fiction|Classics|Fantasy|Philosophy|Novels|Spi...   \n",
       "24     Classics|Fiction|Cultural|Russia|Literature|Li...   \n",
       "25           Science Fiction|Fiction|Young Adult|Fantasy   \n",
       "26                      Young Adult|Fiction|Contemporary   \n",
       "27        Fantasy|Young Adult|Fantasy|Paranormal|Romance   \n",
       "28     Fiction|Historical|Historical Fiction|Historic...   \n",
       "29     Classics|Fiction|Academic|School|Literature|Hi...   \n",
       "...                                                  ...   \n",
       "54249  Romance|Paranormal Romance|Fantasy|Paranormal|...   \n",
       "54250  Fantasy|Paranormal|Romance|Paranormal Romance|...   \n",
       "54251  Historical|Historical Fiction|Fiction|Romance|...   \n",
       "54252    Historical|Fantasy|Sports and Games|Games|Humor   \n",
       "54253  Animals|Adventure|Animals|Animal Fiction|Ficti...   \n",
       "54254  Childrens|Picture Books|Historical|Historical ...   \n",
       "54255          Childrens|Picture Books|Childrens|Fiction   \n",
       "54260  Fiction|Novels|European Literature|Scandinavia...   \n",
       "54261              Fiction|Contemporary|Literary Fiction   \n",
       "54262  Fiction|Classics|Literature|American|Novels|Li...   \n",
       "54264  European Literature|German Literature|Classics...   \n",
       "54265           Romance|M M Romance|Contemporary|Romance   \n",
       "54266  Novels|Light Novel|Fantasy|Fiction|Fantasy|Mag...   \n",
       "54267  Novels|Light Novel|Fantasy|Fantasy|Magic|Ficti...   \n",
       "54268  Novels|Light Novel|Sequential Art|Manga|Fictio...   \n",
       "54269  Novels|Light Novel|Fiction|Sequential Art|Mang...   \n",
       "54270  Novels|Light Novel|Fantasy|Sequential Art|Mang...   \n",
       "54271  Novels|Light Novel|Fantasy|Science Fiction|Seq...   \n",
       "54272  Sequential Art|Manga|Comics Manga|Fiction|Sequ...   \n",
       "54273  Novels|Light Novel|Fantasy|Science Fiction|Seq...   \n",
       "54275          Sequential Art|Manga|Comics Manga|Fiction   \n",
       "54276                  Thriller|Fiction|Adventure|Action   \n",
       "54277  Romance|Cultural|Japan|Fiction|Asian Literatur...   \n",
       "54278  Sequential Art|Manga|Sequential Art|Comics|Seq...   \n",
       "54279          Sequential Art|Manga|Fiction|Comics Manga   \n",
       "54289  Sequential Art|Manga|Comics Manga|Romance|Fict...   \n",
       "54291  Fiction|Fantasy|Humor|Cultural|African America...   \n",
       "54292  Fiction|Cultural|Lebanon|War|Academic|School|L...   \n",
       "54293  Fiction|Young Adult|Young Adult|Coming Of Age|...   \n",
       "54294  Fiction|Art|Feminism|Contemporary|Literary Fic...   \n",
       "\n",
       "                                               image_url  \n",
       "0      https://images.gr-assets.com/books/1447303603l...  \n",
       "1      https://images.gr-assets.com/books/1255614970l...  \n",
       "2      https://images.gr-assets.com/books/1361975680l...  \n",
       "3      https://images.gr-assets.com/books/1320399351l...  \n",
       "4      https://images.gr-assets.com/books/1361039443l...  \n",
       "5      https://images.gr-assets.com/books/1522157426l...  \n",
       "6      https://images.gr-assets.com/books/1449868701l...  \n",
       "7      https://images.gr-assets.com/books/1424037542l...  \n",
       "8      https://images.gr-assets.com/books/1328025229l...  \n",
       "9      https://images.gr-assets.com/books/1346072396l...  \n",
       "10     https://images.gr-assets.com/books/1360206420l...  \n",
       "11     https://images.gr-assets.com/books/1388282444l...  \n",
       "12     https://images.gr-assets.com/books/1174210942l...  \n",
       "13     https://images.gr-assets.com/books/1388212715l...  \n",
       "14     https://images.gr-assets.com/books/1303252999l...  \n",
       "15     https://images.gr-assets.com/books/1388367666l...  \n",
       "16     https://images.gr-assets.com/books/1327872220l...  \n",
       "17     https://images.gr-assets.com/books/1424596966l...  \n",
       "18     https://images.gr-assets.com/books/1525303092l...  \n",
       "19     https://images.gr-assets.com/books/1328559506l...  \n",
       "20     https://images.gr-assets.com/books/1327867269l...  \n",
       "21     https://images.gr-assets.com/books/1327872146l...  \n",
       "22     https://images.gr-assets.com/books/1327869409l...  \n",
       "23     https://images.gr-assets.com/books/1483412266l...  \n",
       "24     https://images.gr-assets.com/books/1382846449l...  \n",
       "25     https://images.gr-assets.com/books/1408303130l...  \n",
       "26     https://images.gr-assets.com/books/1520093244l...  \n",
       "27     https://images.gr-assets.com/books/1432730315l...  \n",
       "28     https://images.gr-assets.com/books/1346100365l...  \n",
       "29     https://images.gr-assets.com/books/1490528560l...  \n",
       "...                                                  ...  \n",
       "54249  https://images.gr-assets.com/books/1388180754l...  \n",
       "54250  https://images.gr-assets.com/books/1386922879l...  \n",
       "54251  https://images.gr-assets.com/books/1389222568l...  \n",
       "54252  https://images.gr-assets.com/books/1399788014l...  \n",
       "54253  https://images.gr-assets.com/books/1333416621l...  \n",
       "54254  https://images.gr-assets.com/books/1309201691l...  \n",
       "54255  https://images.gr-assets.com/books/1435871963l...  \n",
       "54260  https://images.gr-assets.com/books/1350031656l...  \n",
       "54261  https://images.gr-assets.com/books/1403538665l...  \n",
       "54262  https://images.gr-assets.com/books/1408524111l...  \n",
       "54264  https://images.gr-assets.com/books/1412606809l...  \n",
       "54265  https://images.gr-assets.com/books/1423416989l...  \n",
       "54266  https://images.gr-assets.com/books/1406168841l...  \n",
       "54267  https://images.gr-assets.com/books/1406169028l...  \n",
       "54268  https://images.gr-assets.com/books/1354714589l...  \n",
       "54269  https://images.gr-assets.com/books/1354714599l...  \n",
       "54270  https://images.gr-assets.com/books/1411926125l...  \n",
       "54271  https://images.gr-assets.com/books/1341383135l...  \n",
       "54272  https://images.gr-assets.com/books/1350213091l...  \n",
       "54273  https://images.gr-assets.com/books/1327801975l...  \n",
       "54275  https://images.gr-assets.com/books/1350213185l...  \n",
       "54276  https://images.gr-assets.com/books/1388683935l...  \n",
       "54277  https://images.gr-assets.com/books/1535433505l...  \n",
       "54278  https://images.gr-assets.com/books/1328437326l...  \n",
       "54279  https://images.gr-assets.com/books/1350213347l...  \n",
       "54289  https://images.gr-assets.com/books/1366794307l...  \n",
       "54291  https://images.gr-assets.com/books/1320435734l...  \n",
       "54292  https://images.gr-assets.com/books/1386921457l...  \n",
       "54293  https://images.gr-assets.com/books/1422682136l...  \n",
       "54294  https://images.gr-assets.com/books/1418103958l...  \n",
       "\n",
       "[40194 rows x 12 columns]"
      ]
     },
     "execution_count": 13,
     "metadata": {},
     "output_type": "execute_result"
    }
   ],
   "source": [
    "# data_test.isnull().sum()\n",
    "# data_2[['genres']] = data_2[['genres']].fillna('Undeterimined')\n",
    "data_2[data_2['genres'].str.contains('|'.join(genres))]"
   ]
  },
  {
   "cell_type": "code",
   "execution_count": 14,
   "metadata": {
    "ExecuteTime": {
     "end_time": "2019-08-18T17:20:28.478482Z",
     "start_time": "2019-08-18T17:20:28.400375Z"
    }
   },
   "outputs": [
    {
     "data": {
      "text/plain": [
       "Index(['book_authors', 'book_desc', 'book_edition', 'book_format', 'book_isbn',\n",
       "       'book_pages', 'book_rating', 'book_rating_count', 'book_review_count',\n",
       "       'book_title', 'genres', 'image_url'],\n",
       "      dtype='object')"
      ]
     },
     "execution_count": 14,
     "metadata": {},
     "output_type": "execute_result"
    }
   ],
   "source": [
    "data_2.columns"
   ]
  },
  {
   "cell_type": "code",
   "execution_count": 15,
   "metadata": {
    "ExecuteTime": {
     "end_time": "2019-08-18T17:20:28.790910Z",
     "start_time": "2019-08-18T17:20:28.478482Z"
    }
   },
   "outputs": [],
   "source": [
    "cols = ['book_authors', 'book_desc', 'book_pages', 'book_title', 'genres']\n",
    "data_3 = data_2[data_2['genres'].str.contains('|'.join(genres))][cols]\n",
    "data_3.loc[:, 'genres'] = (data_3.loc[:, 'genres']\n",
    "                                .apply(lambda x: x.replace(' ','').replace('|', ' ')))"
   ]
  },
  {
   "cell_type": "markdown",
   "metadata": {},
   "source": [
    "### Data cleaning <a id=\"clean\"></a>\n",
    "\n",
    "This includes the following: \n",
    "* Combine the author's name as one word\n",
    "* Remove the word 'pages' from the book_pages column\n",
    "* Combine description and title text together while removing punctuations\n",
    "\n",
    "After the cleaning, the head shot of the data now looks like this with to_vector as the combination of title and description."
   ]
  },
  {
   "cell_type": "code",
   "execution_count": 16,
   "metadata": {
    "ExecuteTime": {
     "end_time": "2019-08-18T17:20:28.947131Z",
     "start_time": "2019-08-18T17:20:28.790910Z"
    }
   },
   "outputs": [],
   "source": [
    "##cleaning \n",
    "def clean_authors(x):\n",
    "#     print(x)\n",
    "    x_str = ''.join(re.findall(r'[\\w\\|]+', str(x))).replace('|', ' ')\n",
    "    return x_str\n",
    "    \n",
    "def clean_pages(x):\n",
    "#     print(type(x) == str)\n",
    "    if isinstance(x,str):\n",
    "#         print(x)\n",
    "        return re.findall(r'\\d+', x)[0]\n",
    "\n",
    "def clean_desc_title(x):\n",
    "    if isinstance(x,str):\n",
    "#         print(x)\n",
    "#         temp_str = \n",
    "        temp_x = re.sub(r'(\\w)\\.(\\w)', r'\\1 \\2', x)\n",
    "# temp_split = x.split()\n",
    "        temp_split = [''.join(re.findall(r'[a-z]+',xt, re.I)) for xt \n",
    "                      in re.findall(r'\\b\\S*\\b',temp_x) if xt]\n",
    "        return ' '.join(temp_split)\n",
    "        \n",
    "    else:\n",
    "        return ''\n"
   ]
  },
  {
   "cell_type": "code",
   "execution_count": 17,
   "metadata": {
    "ExecuteTime": {
     "end_time": "2019-08-18T17:20:41.771828Z",
     "start_time": "2019-08-18T17:20:28.947131Z"
    }
   },
   "outputs": [],
   "source": [
    "data_4 = data_3.copy()\n",
    "data_4.loc[:, 'book_authors'] = data_4.loc[:, 'book_authors'].apply(clean_authors)\n",
    "data_4.loc[:, 'book_pages'] = data_4.loc[:, 'book_pages'].apply(clean_pages)\n",
    "data_4.loc[:, 'book_desc'] = data_4.loc[:, 'book_desc'].apply(clean_desc_title)\n",
    "data_4.loc[:, 'book_title'] = data_4.loc[:, 'book_title'].apply(clean_desc_title)\n",
    "data_4['to_vector'] = data_4['book_title']+ ' ' + data_4['book_desc']"
   ]
  },
  {
   "cell_type": "code",
   "execution_count": 18,
   "metadata": {
    "ExecuteTime": {
     "end_time": "2019-08-18T17:20:41.787394Z",
     "start_time": "2019-08-18T17:20:41.771828Z"
    }
   },
   "outputs": [
    {
     "data": {
      "text/html": [
       "<div>\n",
       "<style scoped>\n",
       "    .dataframe tbody tr th:only-of-type {\n",
       "        vertical-align: middle;\n",
       "    }\n",
       "\n",
       "    .dataframe tbody tr th {\n",
       "        vertical-align: top;\n",
       "    }\n",
       "\n",
       "    .dataframe thead th {\n",
       "        text-align: right;\n",
       "    }\n",
       "</style>\n",
       "<table border=\"1\" class=\"dataframe\">\n",
       "  <thead>\n",
       "    <tr style=\"text-align: right;\">\n",
       "      <th></th>\n",
       "      <th>book_authors</th>\n",
       "      <th>book_desc</th>\n",
       "      <th>book_pages</th>\n",
       "      <th>book_title</th>\n",
       "      <th>genres</th>\n",
       "      <th>to_vector</th>\n",
       "    </tr>\n",
       "  </thead>\n",
       "  <tbody>\n",
       "    <tr>\n",
       "      <th>0</th>\n",
       "      <td>SuzanneCollins</td>\n",
       "      <td>Winning will make you famous Losing means cert...</td>\n",
       "      <td>374</td>\n",
       "      <td>The Hunger Games</td>\n",
       "      <td>YoungAdult Fiction ScienceFiction Dystopia Fan...</td>\n",
       "      <td>The Hunger Games Winning will make you famous ...</td>\n",
       "    </tr>\n",
       "    <tr>\n",
       "      <th>1</th>\n",
       "      <td>JKRowling MaryGrandPré</td>\n",
       "      <td>There is a door at the end of a silent corrido...</td>\n",
       "      <td>870</td>\n",
       "      <td>Harry Potter and the Order of the Phoenix</td>\n",
       "      <td>Fantasy YoungAdult Fiction</td>\n",
       "      <td>Harry Potter and the Order of the Phoenix Ther...</td>\n",
       "    </tr>\n",
       "    <tr>\n",
       "      <th>2</th>\n",
       "      <td>HarperLee</td>\n",
       "      <td>The unforgettable novel of a childhood in a sl...</td>\n",
       "      <td>324</td>\n",
       "      <td>To Kill a Mockingbird</td>\n",
       "      <td>Classics Fiction Historical HistoricalFiction ...</td>\n",
       "      <td>To Kill a Mockingbird The unforgettable novel ...</td>\n",
       "    </tr>\n",
       "    <tr>\n",
       "      <th>3</th>\n",
       "      <td>JaneAusten AnnaQuindlen MrsOliphant GeorgeSain...</td>\n",
       "      <td>cosa ormai risaputa che a uno scapolo in poss...</td>\n",
       "      <td>279</td>\n",
       "      <td>Pride and Prejudice</td>\n",
       "      <td>Classics Fiction Romance</td>\n",
       "      <td>Pride and Prejudice  cosa ormai risaputa che a...</td>\n",
       "    </tr>\n",
       "    <tr>\n",
       "      <th>4</th>\n",
       "      <td>StephenieMeyer</td>\n",
       "      <td>About three things I was absolutely positive F...</td>\n",
       "      <td>498</td>\n",
       "      <td>Twilight</td>\n",
       "      <td>YoungAdult Fantasy Romance Paranormal Vampires...</td>\n",
       "      <td>Twilight About three things I was absolutely p...</td>\n",
       "    </tr>\n",
       "  </tbody>\n",
       "</table>\n",
       "</div>"
      ],
      "text/plain": [
       "                                        book_authors  \\\n",
       "0                                     SuzanneCollins   \n",
       "1                             JKRowling MaryGrandPré   \n",
       "2                                          HarperLee   \n",
       "3  JaneAusten AnnaQuindlen MrsOliphant GeorgeSain...   \n",
       "4                                     StephenieMeyer   \n",
       "\n",
       "                                           book_desc book_pages  \\\n",
       "0  Winning will make you famous Losing means cert...        374   \n",
       "1  There is a door at the end of a silent corrido...        870   \n",
       "2  The unforgettable novel of a childhood in a sl...        324   \n",
       "3   cosa ormai risaputa che a uno scapolo in poss...        279   \n",
       "4  About three things I was absolutely positive F...        498   \n",
       "\n",
       "                                  book_title  \\\n",
       "0                           The Hunger Games   \n",
       "1  Harry Potter and the Order of the Phoenix   \n",
       "2                      To Kill a Mockingbird   \n",
       "3                        Pride and Prejudice   \n",
       "4                                   Twilight   \n",
       "\n",
       "                                              genres  \\\n",
       "0  YoungAdult Fiction ScienceFiction Dystopia Fan...   \n",
       "1                         Fantasy YoungAdult Fiction   \n",
       "2  Classics Fiction Historical HistoricalFiction ...   \n",
       "3                           Classics Fiction Romance   \n",
       "4  YoungAdult Fantasy Romance Paranormal Vampires...   \n",
       "\n",
       "                                           to_vector  \n",
       "0  The Hunger Games Winning will make you famous ...  \n",
       "1  Harry Potter and the Order of the Phoenix Ther...  \n",
       "2  To Kill a Mockingbird The unforgettable novel ...  \n",
       "3  Pride and Prejudice  cosa ormai risaputa che a...  \n",
       "4  Twilight About three things I was absolutely p...  "
      ]
     },
     "execution_count": 18,
     "metadata": {},
     "output_type": "execute_result"
    }
   ],
   "source": [
    "data_4.head()"
   ]
  },
  {
   "cell_type": "code",
   "execution_count": 39,
   "metadata": {
    "ExecuteTime": {
     "end_time": "2019-08-20T06:10:39.595512Z",
     "start_time": "2019-08-20T06:10:39.591522Z"
    }
   },
   "outputs": [],
   "source": [
    "# data_4.iloc[0]['book_desc']\n",
    "# data_4['book_pages']"
   ]
  },
  {
   "cell_type": "code",
   "execution_count": 21,
   "metadata": {
    "ExecuteTime": {
     "end_time": "2019-08-18T17:20:44.512107Z",
     "start_time": "2019-08-18T17:20:44.449589Z"
    }
   },
   "outputs": [],
   "source": [
    "# data_4.query('book_authors_count > 15')\n",
    "data_4 = data_4[~data_4['book_pages'].isnull()]"
   ]
  },
  {
   "cell_type": "markdown",
   "metadata": {},
   "source": [
    "#### Author Stats (EDA)\n",
    "\n",
    "Printed below is just basic statistics on the author counts. We can see that it ranges from 1 to 51, with the latter being a comic or graphics novel book with many artists credited. Though most books were observed to have 1 to 3 authors. "
   ]
  },
  {
   "cell_type": "code",
   "execution_count": 22,
   "metadata": {
    "ExecuteTime": {
     "end_time": "2019-08-18T17:20:44.699508Z",
     "start_time": "2019-08-18T17:20:44.512107Z"
    }
   },
   "outputs": [
    {
     "data": {
      "text/plain": [
       "count    38752.000000\n",
       "mean         1.316861\n",
       "std          1.251793\n",
       "min          1.000000\n",
       "25%          1.000000\n",
       "50%          1.000000\n",
       "75%          1.000000\n",
       "max         51.000000\n",
       "Name: book_authors_count, dtype: float64"
      ]
     },
     "execution_count": 22,
     "metadata": {},
     "output_type": "execute_result"
    }
   ],
   "source": [
    "data_4['book_authors_count'].describe()"
   ]
  },
  {
   "cell_type": "markdown",
   "metadata": {},
   "source": [
    "### Data Processing of Targets <a id=\"process_targets\"></a>\n",
    "\n",
    "One hot encode the top 6 genres to have columns of their own and assign a 1 or 0 depending if the origianl genre records has them. "
   ]
  },
  {
   "cell_type": "code",
   "execution_count": 23,
   "metadata": {
    "ExecuteTime": {
     "end_time": "2019-08-18T17:20:44.855838Z",
     "start_time": "2019-08-18T17:20:44.699508Z"
    }
   },
   "outputs": [],
   "source": [
    "def one_hot_genres(df, genres):\n",
    "    target_dict = {x: ix for ix, x in enumerate(genres)}\n",
    "#     target_dict\n",
    "\n",
    "    # for key in target_dict.keys():\n",
    "    # #     print(key)\n",
    "    #     print(data_4.iloc[0]['genres'].find(key))\n",
    "    res = []\n",
    "    for s in df['genres']:\n",
    "        temp = s.split()\n",
    "        bow = np.zeros(len(genres))\n",
    "\n",
    "\n",
    "        for t in temp:\n",
    "        #     bow[t] +=1\n",
    "    #         print(t)\n",
    "            if t in target_dict:\n",
    "                bow[target_dict[t]] = 1\n",
    "        res.append(tuple(bow))\n",
    "    return pd.DataFrame(res, columns=genres, index=df.index)"
   ]
  },
  {
   "cell_type": "code",
   "execution_count": 24,
   "metadata": {
    "ExecuteTime": {
     "end_time": "2019-08-18T17:20:45.246265Z",
     "start_time": "2019-08-18T17:20:44.855838Z"
    }
   },
   "outputs": [],
   "source": [
    "one_hot = one_hot_genres(data_4, genres)\n",
    "data_5 = data_4[['book_authors','book_pages', 'to_vector']]\n",
    "data_ = pd.merge(data_5, one_hot, left_index=True, right_index=True)\n"
   ]
  },
  {
   "cell_type": "code",
   "execution_count": 25,
   "metadata": {
    "ExecuteTime": {
     "end_time": "2019-08-18T17:20:45.277499Z",
     "start_time": "2019-08-18T17:20:45.246265Z"
    }
   },
   "outputs": [
    {
     "name": "stdout",
     "output_type": "stream",
     "text": [
      "(38752, 7)\n",
      "(38752, 6)\n",
      "(38752, 9)\n"
     ]
    },
    {
     "data": {
      "text/html": [
       "<div>\n",
       "<style scoped>\n",
       "    .dataframe tbody tr th:only-of-type {\n",
       "        vertical-align: middle;\n",
       "    }\n",
       "\n",
       "    .dataframe tbody tr th {\n",
       "        vertical-align: top;\n",
       "    }\n",
       "\n",
       "    .dataframe thead th {\n",
       "        text-align: right;\n",
       "    }\n",
       "</style>\n",
       "<table border=\"1\" class=\"dataframe\">\n",
       "  <thead>\n",
       "    <tr style=\"text-align: right;\">\n",
       "      <th></th>\n",
       "      <th>book_authors</th>\n",
       "      <th>book_pages</th>\n",
       "      <th>to_vector</th>\n",
       "      <th>Fiction</th>\n",
       "      <th>Fantasy</th>\n",
       "      <th>Romance</th>\n",
       "      <th>Historical</th>\n",
       "      <th>Paranormal</th>\n",
       "      <th>Mystery</th>\n",
       "    </tr>\n",
       "  </thead>\n",
       "  <tbody>\n",
       "    <tr>\n",
       "      <th>0</th>\n",
       "      <td>SuzanneCollins</td>\n",
       "      <td>374</td>\n",
       "      <td>The Hunger Games Winning will make you famous ...</td>\n",
       "      <td>1.0</td>\n",
       "      <td>1.0</td>\n",
       "      <td>0.0</td>\n",
       "      <td>0.0</td>\n",
       "      <td>0.0</td>\n",
       "      <td>0.0</td>\n",
       "    </tr>\n",
       "    <tr>\n",
       "      <th>1</th>\n",
       "      <td>JKRowling MaryGrandPré</td>\n",
       "      <td>870</td>\n",
       "      <td>Harry Potter and the Order of the Phoenix Ther...</td>\n",
       "      <td>1.0</td>\n",
       "      <td>1.0</td>\n",
       "      <td>0.0</td>\n",
       "      <td>0.0</td>\n",
       "      <td>0.0</td>\n",
       "      <td>0.0</td>\n",
       "    </tr>\n",
       "    <tr>\n",
       "      <th>2</th>\n",
       "      <td>HarperLee</td>\n",
       "      <td>324</td>\n",
       "      <td>To Kill a Mockingbird The unforgettable novel ...</td>\n",
       "      <td>1.0</td>\n",
       "      <td>0.0</td>\n",
       "      <td>0.0</td>\n",
       "      <td>1.0</td>\n",
       "      <td>0.0</td>\n",
       "      <td>0.0</td>\n",
       "    </tr>\n",
       "    <tr>\n",
       "      <th>3</th>\n",
       "      <td>JaneAusten AnnaQuindlen MrsOliphant GeorgeSain...</td>\n",
       "      <td>279</td>\n",
       "      <td>Pride and Prejudice  cosa ormai risaputa che a...</td>\n",
       "      <td>1.0</td>\n",
       "      <td>0.0</td>\n",
       "      <td>1.0</td>\n",
       "      <td>0.0</td>\n",
       "      <td>0.0</td>\n",
       "      <td>0.0</td>\n",
       "    </tr>\n",
       "    <tr>\n",
       "      <th>4</th>\n",
       "      <td>StephenieMeyer</td>\n",
       "      <td>498</td>\n",
       "      <td>Twilight About three things I was absolutely p...</td>\n",
       "      <td>1.0</td>\n",
       "      <td>1.0</td>\n",
       "      <td>1.0</td>\n",
       "      <td>0.0</td>\n",
       "      <td>1.0</td>\n",
       "      <td>0.0</td>\n",
       "    </tr>\n",
       "  </tbody>\n",
       "</table>\n",
       "</div>"
      ],
      "text/plain": [
       "                                        book_authors book_pages  \\\n",
       "0                                     SuzanneCollins        374   \n",
       "1                             JKRowling MaryGrandPré        870   \n",
       "2                                          HarperLee        324   \n",
       "3  JaneAusten AnnaQuindlen MrsOliphant GeorgeSain...        279   \n",
       "4                                     StephenieMeyer        498   \n",
       "\n",
       "                                           to_vector  Fiction  Fantasy  \\\n",
       "0  The Hunger Games Winning will make you famous ...      1.0      1.0   \n",
       "1  Harry Potter and the Order of the Phoenix Ther...      1.0      1.0   \n",
       "2  To Kill a Mockingbird The unforgettable novel ...      1.0      0.0   \n",
       "3  Pride and Prejudice  cosa ormai risaputa che a...      1.0      0.0   \n",
       "4  Twilight About three things I was absolutely p...      1.0      1.0   \n",
       "\n",
       "   Romance  Historical  Paranormal  Mystery  \n",
       "0      0.0         0.0         0.0      0.0  \n",
       "1      0.0         0.0         0.0      0.0  \n",
       "2      0.0         1.0         0.0      0.0  \n",
       "3      1.0         0.0         0.0      0.0  \n",
       "4      1.0         0.0         1.0      0.0  "
      ]
     },
     "execution_count": 25,
     "metadata": {},
     "output_type": "execute_result"
    }
   ],
   "source": [
    "print(data_4.shape)\n",
    "print(one_hot.shape)\n",
    "print(data_.shape)\n",
    "data_.head()\n"
   ]
  },
  {
   "cell_type": "markdown",
   "metadata": {},
   "source": [
    "#### Genre Distribution "
   ]
  },
  {
   "cell_type": "code",
   "execution_count": 27,
   "metadata": {
    "ExecuteTime": {
     "end_time": "2019-08-18T17:20:45.902321Z",
     "start_time": "2019-08-18T17:20:45.496165Z"
    }
   },
   "outputs": [
    {
     "data": {
      "image/png": "[encoded data removed]",
      "text/plain": [
       "<Figure size 576x576 with 1 Axes>"
      ]
     },
     "metadata": {
      "needs_background": "light"
     },
     "output_type": "display_data"
    }
   ],
   "source": [
    "fig, ax = plt.subplots(figsize=(8,8))\n",
    "data_[genres].sum().plot(kind='bar', color=['C0','C1','C2','C3','C4','C5'] )\n",
    "plt.title('Top 6 Genre Distribution');\n",
    "plt.ylabel('Book Counts');\n",
    "plt.xlabel('Genres');"
   ]
  },
  {
   "cell_type": "markdown",
   "metadata": {},
   "source": [
    "The graph above shows the distrubution of books that have those genres assigned to them."
   ]
  },
  {
   "cell_type": "markdown",
   "metadata": {},
   "source": [
    "### Data processing of Features <a id=\"process_features\"></a>\n",
    "\n",
    "Authors:\n",
    "    \n",
    "    Using the CountVectorizer, the authors were one hot encoded as well to have their own column with a 1 or 0 value. Below are the hyper parameters used.\n",
    "> lowercase: True     \n",
    "token_pattern: '[a-zA-Z]+'  \n",
    "tranformed data: book authors  \n",
    "\n",
    "Description and Titles\n",
    "    \n",
    "    The combined book descriptions and authors were vectorized using TfidfVectorizer with values equivalent to their weights based on their inverse document frequencies. The parameters used are as follows.\n",
    "> lowercase: True  \n",
    "token_pattern: '[a-zA-Z]+'  \n",
    "stop_words: 'english'  \n",
    "mid_df: 20  \n",
    "\n",
    "\n",
    "These were combined as feature vectors and stored in vectors_2.csv."
   ]
  },
  {
   "cell_type": "code",
   "execution_count": 27,
   "metadata": {
    "ExecuteTime": {
     "end_time": "2019-08-14T13:38:52.595951Z",
     "start_time": "2019-08-14T13:38:52.592959Z"
    }
   },
   "outputs": [],
   "source": [
    "# # #count vectorize for authors\n",
    "\n",
    "# cnt = CountVectorizer(lowercase=True, token_pattern='[a-zA-Z]+')\n",
    "# author_vec = cnt.fit_transform(data_['book_authors'])\n",
    "# author_vec.shape"
   ]
  },
  {
   "cell_type": "code",
   "execution_count": 45,
   "metadata": {
    "ExecuteTime": {
     "end_time": "2019-08-14T06:47:36.237838Z",
     "start_time": "2019-08-14T06:47:35.800441Z"
    }
   },
   "outputs": [],
   "source": [
    "# cnt.vocabulary_"
   ]
  },
  {
   "cell_type": "code",
   "execution_count": 46,
   "metadata": {
    "ExecuteTime": {
     "end_time": "2019-08-14T06:47:36.331635Z",
     "start_time": "2019-08-14T06:47:36.237838Z"
    }
   },
   "outputs": [],
   "source": [
    "# data_[data_['book_authors'].str.lower().str.contains('suzannecollins')]\n",
    "# np.sum(author_vec[:, 23726])"
   ]
  },
  {
   "cell_type": "code",
   "execution_count": 36,
   "metadata": {
    "ExecuteTime": {
     "end_time": "2019-08-14T12:40:04.509710Z",
     "start_time": "2019-08-14T12:40:00.827650Z"
    }
   },
   "outputs": [
    {
     "data": {
      "text/plain": [
       "(38752, 14257)"
      ]
     },
     "execution_count": 36,
     "metadata": {},
     "output_type": "execute_result"
    }
   ],
   "source": [
    "# tfidf = TfidfVectorizer(lowercase=True, stop_words='english', \n",
    "#                         token_pattern='[a-zA-Z]+',\n",
    "#                         min_df=20)\n",
    "# vec = tfidf.fit_transform(data_['to_vector'])\n",
    "# vec.shape"
   ]
  },
  {
   "cell_type": "code",
   "execution_count": 48,
   "metadata": {
    "ExecuteTime": {
     "end_time": "2019-08-14T06:47:36.534749Z",
     "start_time": "2019-08-14T06:47:36.441044Z"
    }
   },
   "outputs": [],
   "source": [
    "# tfidf.vocabulary_"
   ]
  },
  {
   "cell_type": "code",
   "execution_count": 49,
   "metadata": {
    "ExecuteTime": {
     "end_time": "2019-08-14T06:47:36.612715Z",
     "start_time": "2019-08-14T06:47:36.534749Z"
    }
   },
   "outputs": [],
   "source": [
    "# vec.shape"
   ]
  },
  {
   "cell_type": "code",
   "execution_count": 50,
   "metadata": {
    "ExecuteTime": {
     "end_time": "2019-08-14T06:48:07.211581Z",
     "start_time": "2019-08-14T06:48:07.195965Z"
    }
   },
   "outputs": [
    {
     "data": {
      "text/plain": [
       "(38752, 1)"
      ]
     },
     "execution_count": 50,
     "metadata": {},
     "output_type": "execute_result"
    }
   ],
   "source": [
    "# pages = data_['book_pages'].values.reshape(len(data_['book_pages'].values),1)\n",
    "# pages.shape\n",
    "# pages[i].tolist()"
   ]
  },
  {
   "cell_type": "code",
   "execution_count": 33,
   "metadata": {
    "ExecuteTime": {
     "end_time": "2019-08-14T06:31:55.832158Z",
     "start_time": "2019-08-14T06:31:55.707173Z"
    }
   },
   "outputs": [],
   "source": [
    "# vec2\n",
    "# data_['to_vector'].iloc[0]"
   ]
  },
  {
   "cell_type": "code",
   "execution_count": 37,
   "metadata": {
    "ExecuteTime": {
     "end_time": "2019-08-14T12:40:20.314652Z",
     "start_time": "2019-08-14T12:40:20.291485Z"
    }
   },
   "outputs": [],
   "source": [
    "# headers_tfidf = sorted(tfidf.vocabulary_, key=lambda kv: tfidf.vocabulary_[kv])\n",
    "# headers_cnt = sorted(cnt.vocabulary_, key=lambda kv: cnt.vocabulary_[kv])"
   ]
  },
  {
   "cell_type": "code",
   "execution_count": 39,
   "metadata": {
    "ExecuteTime": {
     "end_time": "2019-08-14T12:40:36.754542Z",
     "start_time": "2019-08-14T12:40:36.738915Z"
    }
   },
   "outputs": [
    {
     "data": {
      "text/plain": [
       "19560"
      ]
     },
     "execution_count": 39,
     "metadata": {},
     "output_type": "execute_result"
    }
   ],
   "source": [
    "# len(headers_tfidf)\n",
    "# len(headers_cnt)"
   ]
  },
  {
   "cell_type": "code",
   "execution_count": 36,
   "metadata": {
    "ExecuteTime": {
     "end_time": "2019-08-14T06:31:56.253886Z",
     "start_time": "2019-08-14T06:31:56.144537Z"
    }
   },
   "outputs": [],
   "source": [
    "# headers = headers_cnt + headers_tfidf + ['pages']"
   ]
  },
  {
   "cell_type": "code",
   "execution_count": 37,
   "metadata": {
    "ExecuteTime": {
     "end_time": "2019-08-14T06:31:56.472587Z",
     "start_time": "2019-08-14T06:31:56.253886Z"
    }
   },
   "outputs": [],
   "source": [
    "# ','.join(headers)"
   ]
  },
  {
   "cell_type": "code",
   "execution_count": 38,
   "metadata": {
    "ExecuteTime": {
     "end_time": "2019-08-14T06:31:56.644452Z",
     "start_time": "2019-08-14T06:31:56.472587Z"
    }
   },
   "outputs": [],
   "source": [
    "# # X = np.concatenate((pages, vec2.toarray()), axis=1)\n",
    "# # print(vec.toarray().shape)\n",
    "# # print(pages.shape)\n",
    "\n",
    "# # x_array = []\n",
    "# with open('vectors_2.csv', 'w') as f: \n",
    "#     f.write(','.join(headers))\n",
    "#     f.write('\\n')\n",
    "#     for i in range(pages.shape[0]):\n",
    "#         vec_item = ','.join(author_vec[i, :].toarray()[0].astype(str).tolist()\n",
    "#                             + vec[i, :].toarray()[0].astype(str).tolist() \n",
    "#                             + pages[i].tolist())\n",
    "#     #     print(vec[i, :].toarray()[0].tolist() + pages[i])\n",
    "#     #     print(np.sum(vec[i, :]))\n",
    "#         f.write(vec_item)\n",
    "#         f.write('\\n')\n",
    "        \n",
    "# #6m22s"
   ]
  },
  {
   "cell_type": "markdown",
   "metadata": {},
   "source": [
    "### Reload of vectors under data_vec <a id=\"reload\"></a>\n",
    "\n",
    "We now reload those vectors and combine it with the scaled pages feature."
   ]
  },
  {
   "cell_type": "code",
   "execution_count": null,
   "metadata": {
    "ExecuteTime": {
     "end_time": "2019-08-18T17:21:07.522829Z",
     "start_time": "2019-08-18T17:20:45.902321Z"
    }
   },
   "outputs": [],
   "source": [
    "# with open('vectors.csv', 'r') as f:\n",
    "#     data_vec = pd.read_cf.readlines()\n",
    "# import random\n",
    "# skip_idx = random.sample(range(1, data_.shape[0]), data_.shape[0]-5000)\n",
    "# data_vec = pd.read_csv('vectors_2.csv', skiprows=skip_idx, header=0)\n",
    "data_vec = pd.read_csv('vectors_2.csv', nrows=1500, header=0)\n",
    "# data_vec2 = pd.read_csv('vectors_2.csv',nrows=1500, header=0).iloc[:, :15744]"
   ]
  },
  {
   "cell_type": "code",
   "execution_count": 29,
   "metadata": {
    "ExecuteTime": {
     "end_time": "2019-08-18T17:21:07.538528Z",
     "start_time": "2019-08-18T17:21:07.522829Z"
    }
   },
   "outputs": [],
   "source": [
    "# data_vec.head()\n",
    "from sklearn.preprocessing import MinMaxScaler, StandardScaler, LabelEncoder\n",
    "scale=  MinMaxScaler()\n",
    "# data_vec['pages.1'] = scale.fit_transform(data_vec['pages.1'])"
   ]
  },
  {
   "cell_type": "code",
   "execution_count": 30,
   "metadata": {
    "ExecuteTime": {
     "end_time": "2019-08-18T17:21:08.163303Z",
     "start_time": "2019-08-18T17:21:07.538528Z"
    }
   },
   "outputs": [],
   "source": [
    "# h = data_vec.drop('pages.1', axis=1)\n",
    "# scale.fit_transform(data_vec['pages.1'].values.astype(float))\n",
    "data_vec['pages.1'] = scale.fit_transform(data_vec['pages.1'].values.reshape(-1, 1))\n",
    "# data_vec['pages.1'].values"
   ]
  },
  {
   "cell_type": "code",
   "execution_count": 94,
   "metadata": {
    "ExecuteTime": {
     "end_time": "2019-08-14T15:01:39.225015Z",
     "start_time": "2019-08-14T15:01:37.494905Z"
    }
   },
   "outputs": [
    {
     "data": {
      "text/html": [
       "<div>\n",
       "<style scoped>\n",
       "    .dataframe tbody tr th:only-of-type {\n",
       "        vertical-align: middle;\n",
       "    }\n",
       "\n",
       "    .dataframe tbody tr th {\n",
       "        vertical-align: top;\n",
       "    }\n",
       "\n",
       "    .dataframe thead th {\n",
       "        text-align: right;\n",
       "    }\n",
       "</style>\n",
       "<table border=\"1\" class=\"dataframe\">\n",
       "  <thead>\n",
       "    <tr style=\"text-align: right;\">\n",
       "      <th></th>\n",
       "      <th>a</th>\n",
       "      <th>aaattanasio</th>\n",
       "      <th>aamilne</th>\n",
       "      <th>aansyafrani</th>\n",
       "      <th>aaronasher</th>\n",
       "      <th>aaronbpowell</th>\n",
       "      <th>aarondembskibowden</th>\n",
       "      <th>aaronehasz</th>\n",
       "      <th>aaronhartzler</th>\n",
       "      <th>aaronjennings</th>\n",
       "      <th>...</th>\n",
       "      <th>zombies</th>\n",
       "      <th>zone</th>\n",
       "      <th>zoo</th>\n",
       "      <th>zu</th>\n",
       "      <th>zum</th>\n",
       "      <th>zur</th>\n",
       "      <th>zurck</th>\n",
       "      <th>zwei</th>\n",
       "      <th>zwischen</th>\n",
       "      <th>pages.1</th>\n",
       "    </tr>\n",
       "  </thead>\n",
       "  <tbody>\n",
       "    <tr>\n",
       "      <th>0</th>\n",
       "      <td>0</td>\n",
       "      <td>0</td>\n",
       "      <td>0</td>\n",
       "      <td>0</td>\n",
       "      <td>0</td>\n",
       "      <td>0</td>\n",
       "      <td>0</td>\n",
       "      <td>0</td>\n",
       "      <td>0</td>\n",
       "      <td>0</td>\n",
       "      <td>...</td>\n",
       "      <td>0.0</td>\n",
       "      <td>0.0</td>\n",
       "      <td>0.0</td>\n",
       "      <td>0.0</td>\n",
       "      <td>0.0</td>\n",
       "      <td>0.0</td>\n",
       "      <td>0.0</td>\n",
       "      <td>0.0</td>\n",
       "      <td>0.0</td>\n",
       "      <td>0.088815</td>\n",
       "    </tr>\n",
       "    <tr>\n",
       "      <th>1</th>\n",
       "      <td>0</td>\n",
       "      <td>0</td>\n",
       "      <td>0</td>\n",
       "      <td>0</td>\n",
       "      <td>0</td>\n",
       "      <td>0</td>\n",
       "      <td>0</td>\n",
       "      <td>0</td>\n",
       "      <td>0</td>\n",
       "      <td>0</td>\n",
       "      <td>...</td>\n",
       "      <td>0.0</td>\n",
       "      <td>0.0</td>\n",
       "      <td>0.0</td>\n",
       "      <td>0.0</td>\n",
       "      <td>0.0</td>\n",
       "      <td>0.0</td>\n",
       "      <td>0.0</td>\n",
       "      <td>0.0</td>\n",
       "      <td>0.0</td>\n",
       "      <td>0.206602</td>\n",
       "    </tr>\n",
       "    <tr>\n",
       "      <th>2</th>\n",
       "      <td>0</td>\n",
       "      <td>0</td>\n",
       "      <td>0</td>\n",
       "      <td>0</td>\n",
       "      <td>0</td>\n",
       "      <td>0</td>\n",
       "      <td>0</td>\n",
       "      <td>0</td>\n",
       "      <td>0</td>\n",
       "      <td>0</td>\n",
       "      <td>...</td>\n",
       "      <td>0.0</td>\n",
       "      <td>0.0</td>\n",
       "      <td>0.0</td>\n",
       "      <td>0.0</td>\n",
       "      <td>0.0</td>\n",
       "      <td>0.0</td>\n",
       "      <td>0.0</td>\n",
       "      <td>0.0</td>\n",
       "      <td>0.0</td>\n",
       "      <td>0.076941</td>\n",
       "    </tr>\n",
       "    <tr>\n",
       "      <th>3</th>\n",
       "      <td>0</td>\n",
       "      <td>0</td>\n",
       "      <td>0</td>\n",
       "      <td>0</td>\n",
       "      <td>0</td>\n",
       "      <td>0</td>\n",
       "      <td>0</td>\n",
       "      <td>0</td>\n",
       "      <td>0</td>\n",
       "      <td>0</td>\n",
       "      <td>...</td>\n",
       "      <td>0.0</td>\n",
       "      <td>0.0</td>\n",
       "      <td>0.0</td>\n",
       "      <td>0.0</td>\n",
       "      <td>0.0</td>\n",
       "      <td>0.0</td>\n",
       "      <td>0.0</td>\n",
       "      <td>0.0</td>\n",
       "      <td>0.0</td>\n",
       "      <td>0.066255</td>\n",
       "    </tr>\n",
       "    <tr>\n",
       "      <th>4</th>\n",
       "      <td>0</td>\n",
       "      <td>0</td>\n",
       "      <td>0</td>\n",
       "      <td>0</td>\n",
       "      <td>0</td>\n",
       "      <td>0</td>\n",
       "      <td>0</td>\n",
       "      <td>0</td>\n",
       "      <td>0</td>\n",
       "      <td>0</td>\n",
       "      <td>...</td>\n",
       "      <td>0.0</td>\n",
       "      <td>0.0</td>\n",
       "      <td>0.0</td>\n",
       "      <td>0.0</td>\n",
       "      <td>0.0</td>\n",
       "      <td>0.0</td>\n",
       "      <td>0.0</td>\n",
       "      <td>0.0</td>\n",
       "      <td>0.0</td>\n",
       "      <td>0.118262</td>\n",
       "    </tr>\n",
       "  </tbody>\n",
       "</table>\n",
       "<p>5 rows × 27347 columns</p>\n",
       "</div>"
      ],
      "text/plain": [
       "   a  aaattanasio  aamilne  aansyafrani  aaronasher  aaronbpowell  \\\n",
       "0  0            0        0            0           0             0   \n",
       "1  0            0        0            0           0             0   \n",
       "2  0            0        0            0           0             0   \n",
       "3  0            0        0            0           0             0   \n",
       "4  0            0        0            0           0             0   \n",
       "\n",
       "   aarondembskibowden  aaronehasz  aaronhartzler  aaronjennings  ...  zombies  \\\n",
       "0                   0           0              0              0  ...      0.0   \n",
       "1                   0           0              0              0  ...      0.0   \n",
       "2                   0           0              0              0  ...      0.0   \n",
       "3                   0           0              0              0  ...      0.0   \n",
       "4                   0           0              0              0  ...      0.0   \n",
       "\n",
       "   zone  zoo   zu  zum  zur  zurck  zwei  zwischen   pages.1  \n",
       "0   0.0  0.0  0.0  0.0  0.0    0.0   0.0       0.0  0.088815  \n",
       "1   0.0  0.0  0.0  0.0  0.0    0.0   0.0       0.0  0.206602  \n",
       "2   0.0  0.0  0.0  0.0  0.0    0.0   0.0       0.0  0.076941  \n",
       "3   0.0  0.0  0.0  0.0  0.0    0.0   0.0       0.0  0.066255  \n",
       "4   0.0  0.0  0.0  0.0  0.0    0.0   0.0       0.0  0.118262  \n",
       "\n",
       "[5 rows x 27347 columns]"
      ]
     },
     "execution_count": 94,
     "metadata": {},
     "output_type": "execute_result"
    }
   ],
   "source": [
    "data_vec.head()"
   ]
  },
  {
   "cell_type": "markdown",
   "metadata": {},
   "source": [
    "Above is a head shot of the vecotrized feature set."
   ]
  },
  {
   "cell_type": "code",
   "execution_count": 31,
   "metadata": {
    "ExecuteTime": {
     "end_time": "2019-08-18T17:21:08.716597Z",
     "start_time": "2019-08-18T17:21:08.163303Z"
    }
   },
   "outputs": [
    {
     "data": {
      "text/plain": [
       "(1500, 27347)"
      ]
     },
     "execution_count": 31,
     "metadata": {},
     "output_type": "execute_result"
    }
   ],
   "source": [
    "X = data_vec.values\n",
    "X.shape"
   ]
  },
  {
   "cell_type": "code",
   "execution_count": 32,
   "metadata": {
    "ExecuteTime": {
     "end_time": "2019-08-18T17:21:08.732205Z",
     "start_time": "2019-08-18T17:21:08.716597Z"
    }
   },
   "outputs": [],
   "source": [
    "# one_hot[5000]"
   ]
  },
  {
   "cell_type": "code",
   "execution_count": 33,
   "metadata": {
    "ExecuteTime": {
     "end_time": "2019-08-18T17:21:08.904080Z",
     "start_time": "2019-08-18T17:21:08.732205Z"
    }
   },
   "outputs": [
    {
     "data": {
      "text/plain": [
       "(1500, 6)"
      ]
     },
     "execution_count": 33,
     "metadata": {},
     "output_type": "execute_result"
    }
   ],
   "source": [
    "y = one_hot[:1500]\n",
    "y.shape"
   ]
  },
  {
   "cell_type": "markdown",
   "metadata": {},
   "source": [
    "### Checking of PCC per genre <a id='pcc'></a>\n",
    "\n",
    "Below is a print out of what the PCC and thresholds are for each genre in our study."
   ]
  },
  {
   "cell_type": "code",
   "execution_count": 55,
   "metadata": {
    "ExecuteTime": {
     "end_time": "2019-08-14T06:48:42.592608Z",
     "start_time": "2019-08-14T06:48:42.483279Z"
    }
   },
   "outputs": [
    {
     "name": "stdout",
     "output_type": "stream",
     "text": [
      "1.25 * Proportional Chance Criterion Fiction 0.8163611111111111\n",
      "1.25 * Proportional Chance Criterion Fantasy 0.6415377777777778\n",
      "1.25 * Proportional Chance Criterion Romance 0.725\n",
      "1.25 * Proportional Chance Criterion Historical 0.8560400000000001\n",
      "1.25 * Proportional Chance Criterion Paranormal 0.9418399999999999\n",
      "1.25 * Proportional Chance Criterion Mystery 1.02901\n"
     ]
    }
   ],
   "source": [
    "for g in genres:\n",
    "    counts = y[g].value_counts()\n",
    "#     print(counts)\n",
    "    pcc = np.sum((counts/len(y[g]))**2)\n",
    "    print(f\"1.25 * Proportional Chance Criterion {g} {pcc*1.25}\")"
   ]
  },
  {
   "cell_type": "markdown",
   "metadata": {},
   "source": [
    "### Model processing <a id='model'></a>\n",
    "\n",
    "As earlier mentioned, OneVsRestClassifier will be used with the Naive Bayes, Logistic Regression, SVM, and SVC models being used to it. With respect to time, the accuracies have been printed as they were being processed per genre. "
   ]
  },
  {
   "cell_type": "code",
   "execution_count": 34,
   "metadata": {
    "ExecuteTime": {
     "end_time": "2019-08-18T17:21:14.418369Z",
     "start_time": "2019-08-18T17:21:10.247534Z"
    }
   },
   "outputs": [],
   "source": [
    "from sklearn.linear_model import LogisticRegression\n",
    "from sklearn.pipeline import Pipeline\n",
    "from sklearn.model_selection import train_test_split\n",
    "from sklearn.metrics import accuracy_score\n",
    "from sklearn.multiclass import OneVsRestClassifier\n",
    "from sklearn.neighbors import KNeighborsClassifier, KNeighborsRegressor\n",
    "from sklearn.model_selection import train_test_split\n",
    "from sklearn.linear_model import LinearRegression\n",
    "from sklearn.linear_model import Ridge, Lasso\n",
    "from sklearn.linear_model import LogisticRegression\n",
    "from sklearn.svm import LinearSVC\n",
    "from sklearn.svm import SVC\n",
    "from sklearn.tree import DecisionTreeClassifier\n",
    "# from sklearn.ensemble import RandomForestClassifier\n",
    "from sklearn.model_selection  import GridSearchCV\n",
    "from sklearn.ensemble import (RandomForestClassifier, \n",
    "                             GradientBoostingClassifier,\n",
    "                             RandomForestRegressor,\n",
    "                             GradientBoostingRegressor)\n",
    "\n",
    "from functools import partial\n",
    "from sklearn.model_selection import cross_val_score\n",
    "from tqdm.autonotebook import tqdm\n",
    "\n",
    "from sklearn.naive_bayes import GaussianNB\n",
    "from sklearn.naive_bayes import BernoulliNB\n",
    "from sklearn.naive_bayes import MultinomialNB\n",
    "\n",
    "\n",
    "from sklearn.preprocessing import MinMaxScaler, StandardScaler, LabelEncoder\n",
    "from sklearn.impute import SimpleImputer as SI\n",
    "from sklearn.model_selection  import GridSearchCV"
   ]
  },
  {
   "cell_type": "code",
   "execution_count": 35,
   "metadata": {
    "ExecuteTime": {
     "end_time": "2019-08-18T17:21:14.433989Z",
     "start_time": "2019-08-18T17:21:14.418369Z"
    }
   },
   "outputs": [],
   "source": [
    "params_gs = {\n",
    "    'KNClassifier':{'n_neighbors': [1,3, 5, 7, 9, 11, 13, 15]},\n",
    "    'LogisticRegression L1': {'C': [1e-3, 1e-2, 1e-1, 1, 10, 100 ]},\n",
    "    'LogisticRegression L2': {'C': [1e-3, 1e-2, 1e-1, 1, 10, 100]},\n",
    "    'SVM L1': {'C': [1e-3, 1e-2, 1e-1, 1, 10, 100]},\n",
    "    'SVM L2': {'C': [1e-3, 1e-2, 1e-1, 1, 10, 100]},\n",
    "    'SVC RBF': {'C': [1e-3, 1e-2, 1e-1, 1, 10, 100], \n",
    "               'gamma': [1e-12, 1e-10, 1e-8, 1e-4, 1e-3,0.1, 1, 2, 3, 5, 10]},\n",
    "    'SVC POLY': {'C': [1e-3, 1e-2, 1e-1, 1, 10, 100], \n",
    "                 'degree': [3],\n",
    "                 'coef0': [0,5,10]},\n",
    "    'Bayes':{'alpha': [1e-4, 1e-3, 1e-2,0.1, 1, 2, 5, 10]},\n",
    "    'GBM': {'n_estimators': [100, 500, 1000], \n",
    "                      'max_features' :  [None, 3, 5, 'auto'],\n",
    "                      'learning_rate': np.arange(0.1, 3, 0.3).tolist(),\n",
    "                      'max_depth' : list(range(3, 10,2))#+[None],\n",
    "                     },\n",
    "            \n",
    "    \n",
    "}"
   ]
  },
  {
   "cell_type": "code",
   "execution_count": 36,
   "metadata": {
    "ExecuteTime": {
     "end_time": "2019-08-18T17:21:14.605973Z",
     "start_time": "2019-08-18T17:21:14.433989Z"
    }
   },
   "outputs": [],
   "source": [
    "classfiy_gs_models = {\n",
    "    'Bayes_Bernouli': GridSearchCV(BernoulliNB(), param_grid=params_gs['Bayes'],\n",
    "                                 iid=False, cv=5,verbose=5,\n",
    "                                 n_jobs=-1),\n",
    "        'Bayes_Multionomial': GridSearchCV(MultinomialNB(), param_grid=params_gs['Bayes'],\n",
    "                                 iid=False, cv=5,verbose=5,\n",
    "                                 n_jobs=-1),\n",
    "        'LogisticRegression L1': GridSearchCV(LogisticRegression(penalty='l1',\n",
    "                                          solver='liblinear'),\n",
    "                                 iid=False, cv=5, verbose=5,\n",
    "                                 param_grid=params_gs['LogisticRegression L1'], n_jobs=-1),\n",
    "        'LogisticRegression L2': GridSearchCV(LogisticRegression(penalty='l2',\n",
    "                                          solver='liblinear'),\n",
    "                                 iid=False, cv=5, verbose=5,\n",
    "                                 param_grid=params_gs['LogisticRegression L2'], n_jobs=-1),\n",
    "        'SVM L1':  GridSearchCV(LinearSVC(penalty='l1',\n",
    "                                          loss='squared_hinge',\n",
    "                                          dual=False),\n",
    "                                 iid=False, cv=5, verbose=5,\n",
    "                                 param_grid=params_gs['SVM L1'], n_jobs=-1),\n",
    "        'SVM L2':  GridSearchCV(LinearSVC(penalty='l2',\n",
    "                                          loss='squared_hinge',\n",
    "                                          dual=False),\n",
    "                                 iid=False, cv=5, verbose=5,\n",
    "                                 param_grid=params_gs['SVM L2'], n_jobs=-1),\n",
    "    \n",
    "        'SVC Poly': GridSearchCV(SVC(kernel='poly', gamma='scale'), \n",
    "                                 iid=False, cv=5, verbose=5,\n",
    "                                 param_grid=params_gs['SVC POLY'], n_jobs=-1),\n",
    "        'SVC RBF': GridSearchCV(SVC(kernel='rbf'), param_grid=params_gs['SVC RBF'],\n",
    "                                 iid=False, cv=5,verbose=5,\n",
    "                                 n_jobs=-1),\n",
    "        'GBM': GridSearchCV(GradientBoostingRegressor(), param_grid=params_gs['GBM'],\n",
    "                                 iid=False, cv=5,verbose=5,\n",
    "                                 n_jobs=-1),\n",
    "        \n",
    "    \n",
    "    }\n",
    "classfiy_models = {\n",
    "     \n",
    "        'Bayes_Bernouli': BernoulliNB(), \n",
    "        'Bayes_Multionomial': MultinomialNB(),\n",
    "        'LogisticRegression L1': LogisticRegression(penalty='l1',\n",
    "                                          solver='liblinear'),\n",
    "        'LogisticRegression L2': LogisticRegression(penalty='l2',\n",
    "                                          solver='liblinear'),\n",
    "        'SVM L1':  LinearSVC(penalty='l1',\n",
    "                                          loss='squared_hinge',\n",
    "                                          dual=False),\n",
    "        'SVM L2':  LinearSVC(penalty='l2',\n",
    "                                          loss='squared_hinge',\n",
    "                                          dual=False),\n",
    "    \n",
    "        'SVC POLY': SVC(kernel='poly', gamma='scale'),\n",
    "        'SVC RBF': SVC(kernel='rbf'),\n",
    "        'GBM': GradientBoostingClassifier()\n",
    "    }"
   ]
  },
  {
   "cell_type": "code",
   "execution_count": 41,
   "metadata": {
    "ExecuteTime": {
     "end_time": "2019-08-14T05:20:00.762267Z",
     "start_time": "2019-08-14T05:20:00.637403Z"
    }
   },
   "outputs": [],
   "source": [
    "# clf = OneVsRestClassifier(classfiy_gs_models['LogisticRegression L1'], n_jobs=-1)\n",
    "# for n, genre in enumerate(genres):\n",
    "#     X_train, X_test,y_train, y_test = train_test_split(X, y[genre].values, \n",
    "#                                                                 test_size=0.25,\n",
    "#                                                                 random_state=n*8)\n",
    "#     print('**Processing {} books...**'.format(genre))\n",
    "    \n",
    "#     #train\n",
    "#     clf.fit(X_train, y_train)\n",
    "#     prediction = clf.predict(X_test)\n",
    "#     print('Test accuracy is {}'.format(accuracy_score(y_test, prediction)))\n",
    "#     print(\"\\n\")"
   ]
  },
  {
   "cell_type": "markdown",
   "metadata": {},
   "source": [
    "#### Running the models\n",
    "\n",
    "Here are screenshots that show each run time because it might not show in the reloading of this notebook.\n",
    "\n",
    "<img src=\"1.jpg\" width=\"50%\"/><img src=\"2.jpg\" width=\"50%\"/><img src=\"3.jpg\" width=\"50%\"/><img src=\"4.jpg\" width=\"50%\"/><img src=\"5.jpg\" width=\"50%\"/><img src=\"6.jpg\" width=\"50%\"/><img src=\"7.jpg\" width=\"50%\"/><img src=\"8.jpg\" width=\"50%\"/>"
   ]
  },
  {
   "cell_type": "code",
   "execution_count": 37,
   "metadata": {
    "ExecuteTime": {
     "end_time": "2019-08-20T01:31:59.360570Z",
     "start_time": "2019-08-18T17:21:44.502612Z"
    },
    "scrolled": false
   },
   "outputs": [
    {
     "name": "stdout",
     "output_type": "stream",
     "text": [
      "Model: Bayes_Bernouli\n"
     ]
    },
    {
     "data": {
      "application/vnd.jupyter.widget-view+json": {
       "model_id": "a80a4326ada84ff8a0d33b439f8c2aa1",
       "version_major": 2,
       "version_minor": 0
      },
      "text/plain": [
       "HBox(children=(IntProgress(value=0, max=6), HTML(value='')))"
      ]
     },
     "metadata": {},
     "output_type": "display_data"
    },
    {
     "name": "stdout",
     "output_type": "stream",
     "text": [
      "**Processing Fiction books...**\n",
      "Fitting 5 folds for each of 8 candidates, totalling 40 fits\n"
     ]
    },
    {
     "name": "stderr",
     "output_type": "stream",
     "text": [
      "[Parallel(n_jobs=-1)]: Using backend LokyBackend with 8 concurrent workers.\n",
      "[Parallel(n_jobs=-1)]: Done   2 tasks      | elapsed:   11.1s\n",
      "[Parallel(n_jobs=-1)]: Done  34 out of  40 | elapsed:   29.0s remaining:    5.0s\n",
      "[Parallel(n_jobs=-1)]: Done  40 out of  40 | elapsed:   30.1s finished\n"
     ]
    },
    {
     "name": "stdout",
     "output_type": "stream",
     "text": [
      "0.7786666666666666\n",
      "**Processing Fantasy books...**\n",
      "Fitting 5 folds for each of 8 candidates, totalling 40 fits\n"
     ]
    },
    {
     "name": "stderr",
     "output_type": "stream",
     "text": [
      "[Parallel(n_jobs=-1)]: Using backend LokyBackend with 8 concurrent workers.\n",
      "[Parallel(n_jobs=-1)]: Done   2 tasks      | elapsed:    4.0s\n",
      "[Parallel(n_jobs=-1)]: Done  34 out of  40 | elapsed:   22.3s remaining:    3.9s\n",
      "[Parallel(n_jobs=-1)]: Done  40 out of  40 | elapsed:   23.2s finished\n"
     ]
    },
    {
     "name": "stdout",
     "output_type": "stream",
     "text": [
      "0.616\n",
      "**Processing Romance books...**\n",
      "Fitting 5 folds for each of 8 candidates, totalling 40 fits\n"
     ]
    },
    {
     "name": "stderr",
     "output_type": "stream",
     "text": [
      "[Parallel(n_jobs=-1)]: Using backend LokyBackend with 8 concurrent workers.\n",
      "[Parallel(n_jobs=-1)]: Done   2 tasks      | elapsed:    4.7s\n",
      "[Parallel(n_jobs=-1)]: Done  34 out of  40 | elapsed:   22.4s remaining:    3.9s\n",
      "[Parallel(n_jobs=-1)]: Done  40 out of  40 | elapsed:   24.2s finished\n"
     ]
    },
    {
     "name": "stdout",
     "output_type": "stream",
     "text": [
      "0.7333333333333333\n",
      "**Processing Historical books...**\n",
      "Fitting 5 folds for each of 8 candidates, totalling 40 fits\n"
     ]
    },
    {
     "name": "stderr",
     "output_type": "stream",
     "text": [
      "[Parallel(n_jobs=-1)]: Using backend LokyBackend with 8 concurrent workers.\n",
      "[Parallel(n_jobs=-1)]: Done   2 tasks      | elapsed:    4.1s\n",
      "[Parallel(n_jobs=-1)]: Done  34 out of  40 | elapsed:   21.6s remaining:    3.7s\n",
      "[Parallel(n_jobs=-1)]: Done  40 out of  40 | elapsed:   23.6s finished\n"
     ]
    },
    {
     "name": "stdout",
     "output_type": "stream",
     "text": [
      "0.8053333333333333\n",
      "**Processing Paranormal books...**\n",
      "Fitting 5 folds for each of 8 candidates, totalling 40 fits\n"
     ]
    },
    {
     "name": "stderr",
     "output_type": "stream",
     "text": [
      "[Parallel(n_jobs=-1)]: Using backend LokyBackend with 8 concurrent workers.\n",
      "[Parallel(n_jobs=-1)]: Done   2 tasks      | elapsed:    4.3s\n",
      "[Parallel(n_jobs=-1)]: Done  34 out of  40 | elapsed:   21.7s remaining:    3.7s\n",
      "[Parallel(n_jobs=-1)]: Done  40 out of  40 | elapsed:   23.4s finished\n"
     ]
    },
    {
     "name": "stdout",
     "output_type": "stream",
     "text": [
      "0.8586666666666667\n",
      "**Processing Mystery books...**\n",
      "Fitting 5 folds for each of 8 candidates, totalling 40 fits\n"
     ]
    },
    {
     "name": "stderr",
     "output_type": "stream",
     "text": [
      "[Parallel(n_jobs=-1)]: Using backend LokyBackend with 8 concurrent workers.\n",
      "[Parallel(n_jobs=-1)]: Done   2 tasks      | elapsed:    4.0s\n",
      "[Parallel(n_jobs=-1)]: Done  34 out of  40 | elapsed:   21.8s remaining:    3.8s\n",
      "[Parallel(n_jobs=-1)]: Done  40 out of  40 | elapsed:   25.4s finished\n"
     ]
    },
    {
     "name": "stdout",
     "output_type": "stream",
     "text": [
      "0.9146666666666666\n",
      "\n",
      "Model: Bayes_Multionomial\n"
     ]
    },
    {
     "data": {
      "application/vnd.jupyter.widget-view+json": {
       "model_id": "fff11b9bb80a40d2a63bc280b041a912",
       "version_major": 2,
       "version_minor": 0
      },
      "text/plain": [
       "HBox(children=(IntProgress(value=0, max=6), HTML(value='')))"
      ]
     },
     "metadata": {},
     "output_type": "display_data"
    },
    {
     "name": "stdout",
     "output_type": "stream",
     "text": [
      "**Processing Fiction books...**\n",
      "Fitting 5 folds for each of 8 candidates, totalling 40 fits\n"
     ]
    },
    {
     "name": "stderr",
     "output_type": "stream",
     "text": [
      "[Parallel(n_jobs=-1)]: Using backend LokyBackend with 8 concurrent workers.\n",
      "[Parallel(n_jobs=-1)]: Done   2 tasks      | elapsed:    2.8s\n",
      "[Parallel(n_jobs=-1)]: Done  34 out of  40 | elapsed:   13.5s remaining:    2.3s\n",
      "[Parallel(n_jobs=-1)]: Done  40 out of  40 | elapsed:   14.0s finished\n"
     ]
    },
    {
     "name": "stdout",
     "output_type": "stream",
     "text": [
      "0.7786666666666666\n",
      "**Processing Fantasy books...**\n",
      "Fitting 5 folds for each of 8 candidates, totalling 40 fits\n"
     ]
    },
    {
     "name": "stderr",
     "output_type": "stream",
     "text": [
      "[Parallel(n_jobs=-1)]: Using backend LokyBackend with 8 concurrent workers.\n",
      "[Parallel(n_jobs=-1)]: Done   2 tasks      | elapsed:    2.2s\n",
      "[Parallel(n_jobs=-1)]: Done  34 out of  40 | elapsed:   13.6s remaining:    2.3s\n",
      "[Parallel(n_jobs=-1)]: Done  40 out of  40 | elapsed:   13.8s finished\n"
     ]
    },
    {
     "name": "stdout",
     "output_type": "stream",
     "text": [
      "0.624\n",
      "**Processing Romance books...**\n",
      "Fitting 5 folds for each of 8 candidates, totalling 40 fits\n"
     ]
    },
    {
     "name": "stderr",
     "output_type": "stream",
     "text": [
      "[Parallel(n_jobs=-1)]: Using backend LokyBackend with 8 concurrent workers.\n",
      "[Parallel(n_jobs=-1)]: Done   2 tasks      | elapsed:    2.2s\n",
      "[Parallel(n_jobs=-1)]: Done  34 out of  40 | elapsed:   11.8s remaining:    2.0s\n",
      "[Parallel(n_jobs=-1)]: Done  40 out of  40 | elapsed:   14.0s finished\n"
     ]
    },
    {
     "name": "stdout",
     "output_type": "stream",
     "text": [
      "0.736\n",
      "**Processing Historical books...**\n",
      "Fitting 5 folds for each of 8 candidates, totalling 40 fits\n"
     ]
    },
    {
     "name": "stderr",
     "output_type": "stream",
     "text": [
      "[Parallel(n_jobs=-1)]: Using backend LokyBackend with 8 concurrent workers.\n",
      "[Parallel(n_jobs=-1)]: Done   2 tasks      | elapsed:    2.2s\n",
      "[Parallel(n_jobs=-1)]: Done  34 out of  40 | elapsed:   12.8s remaining:    2.2s\n",
      "[Parallel(n_jobs=-1)]: Done  40 out of  40 | elapsed:   13.1s finished\n"
     ]
    },
    {
     "name": "stdout",
     "output_type": "stream",
     "text": [
      "0.8053333333333333\n",
      "**Processing Paranormal books...**\n",
      "Fitting 5 folds for each of 8 candidates, totalling 40 fits\n"
     ]
    },
    {
     "name": "stderr",
     "output_type": "stream",
     "text": [
      "[Parallel(n_jobs=-1)]: Using backend LokyBackend with 8 concurrent workers.\n",
      "[Parallel(n_jobs=-1)]: Done   2 tasks      | elapsed:    2.3s\n",
      "[Parallel(n_jobs=-1)]: Done  34 out of  40 | elapsed:   11.9s remaining:    2.0s\n",
      "[Parallel(n_jobs=-1)]: Done  40 out of  40 | elapsed:   12.7s finished\n"
     ]
    },
    {
     "name": "stdout",
     "output_type": "stream",
     "text": [
      "0.8586666666666667\n",
      "**Processing Mystery books...**\n",
      "Fitting 5 folds for each of 8 candidates, totalling 40 fits\n"
     ]
    },
    {
     "name": "stderr",
     "output_type": "stream",
     "text": [
      "[Parallel(n_jobs=-1)]: Using backend LokyBackend with 8 concurrent workers.\n",
      "[Parallel(n_jobs=-1)]: Done   2 tasks      | elapsed:    2.3s\n",
      "[Parallel(n_jobs=-1)]: Done  34 out of  40 | elapsed:   13.2s remaining:    2.2s\n",
      "[Parallel(n_jobs=-1)]: Done  40 out of  40 | elapsed:   14.6s finished\n"
     ]
    },
    {
     "name": "stdout",
     "output_type": "stream",
     "text": [
      "0.9146666666666666\n",
      "\n",
      "Model: LogisticRegression L1\n"
     ]
    },
    {
     "data": {
      "application/vnd.jupyter.widget-view+json": {
       "model_id": "468bc213cec245968699df0c3d018b91",
       "version_major": 2,
       "version_minor": 0
      },
      "text/plain": [
       "HBox(children=(IntProgress(value=0, max=6), HTML(value='')))"
      ]
     },
     "metadata": {},
     "output_type": "display_data"
    },
    {
     "name": "stdout",
     "output_type": "stream",
     "text": [
      "**Processing Fiction books...**\n",
      "Fitting 5 folds for each of 6 candidates, totalling 30 fits\n"
     ]
    },
    {
     "name": "stderr",
     "output_type": "stream",
     "text": [
      "[Parallel(n_jobs=-1)]: Using backend LokyBackend with 8 concurrent workers.\n",
      "[Parallel(n_jobs=-1)]: Done   2 tasks      | elapsed:   14.0s\n",
      "[Parallel(n_jobs=-1)]: Done  22 out of  30 | elapsed:   19.4s remaining:    7.0s\n",
      "[Parallel(n_jobs=-1)]: Done  30 out of  30 | elapsed:   20.9s finished\n"
     ]
    },
    {
     "name": "stdout",
     "output_type": "stream",
     "text": [
      "0.7786666666666666\n",
      "**Processing Fantasy books...**\n",
      "Fitting 5 folds for each of 6 candidates, totalling 30 fits\n"
     ]
    },
    {
     "name": "stderr",
     "output_type": "stream",
     "text": [
      "[Parallel(n_jobs=-1)]: Using backend LokyBackend with 8 concurrent workers.\n",
      "[Parallel(n_jobs=-1)]: Done   2 tasks      | elapsed:    2.1s\n",
      "[Parallel(n_jobs=-1)]: Done  22 out of  30 | elapsed:    7.3s remaining:    2.6s\n",
      "[Parallel(n_jobs=-1)]: Done  30 out of  30 | elapsed:    9.2s finished\n"
     ]
    },
    {
     "name": "stdout",
     "output_type": "stream",
     "text": [
      "0.632\n",
      "**Processing Romance books...**\n",
      "Fitting 5 folds for each of 6 candidates, totalling 30 fits\n"
     ]
    },
    {
     "name": "stderr",
     "output_type": "stream",
     "text": [
      "[Parallel(n_jobs=-1)]: Using backend LokyBackend with 8 concurrent workers.\n",
      "[Parallel(n_jobs=-1)]: Done   2 tasks      | elapsed:    2.7s\n",
      "[Parallel(n_jobs=-1)]: Done  22 out of  30 | elapsed:    8.1s remaining:    2.9s\n",
      "[Parallel(n_jobs=-1)]: Done  30 out of  30 | elapsed:   10.0s finished\n"
     ]
    },
    {
     "name": "stdout",
     "output_type": "stream",
     "text": [
      "0.728\n",
      "**Processing Historical books...**\n",
      "Fitting 5 folds for each of 6 candidates, totalling 30 fits\n"
     ]
    },
    {
     "name": "stderr",
     "output_type": "stream",
     "text": [
      "[Parallel(n_jobs=-1)]: Using backend LokyBackend with 8 concurrent workers.\n",
      "[Parallel(n_jobs=-1)]: Done   2 tasks      | elapsed:    2.3s\n",
      "[Parallel(n_jobs=-1)]: Done  22 out of  30 | elapsed:    7.5s remaining:    2.7s\n",
      "[Parallel(n_jobs=-1)]: Done  30 out of  30 | elapsed:    9.6s finished\n"
     ]
    },
    {
     "name": "stdout",
     "output_type": "stream",
     "text": [
      "0.8053333333333333\n",
      "**Processing Paranormal books...**\n",
      "Fitting 5 folds for each of 6 candidates, totalling 30 fits\n"
     ]
    },
    {
     "name": "stderr",
     "output_type": "stream",
     "text": [
      "[Parallel(n_jobs=-1)]: Using backend LokyBackend with 8 concurrent workers.\n",
      "[Parallel(n_jobs=-1)]: Done   2 tasks      | elapsed:    2.1s\n",
      "[Parallel(n_jobs=-1)]: Done  22 out of  30 | elapsed:    7.6s remaining:    2.7s\n",
      "[Parallel(n_jobs=-1)]: Done  30 out of  30 | elapsed:    9.5s finished\n"
     ]
    },
    {
     "name": "stdout",
     "output_type": "stream",
     "text": [
      "0.8586666666666667\n",
      "**Processing Mystery books...**\n",
      "Fitting 5 folds for each of 6 candidates, totalling 30 fits\n"
     ]
    },
    {
     "name": "stderr",
     "output_type": "stream",
     "text": [
      "[Parallel(n_jobs=-1)]: Using backend LokyBackend with 8 concurrent workers.\n",
      "[Parallel(n_jobs=-1)]: Done   2 tasks      | elapsed:    2.0s\n",
      "[Parallel(n_jobs=-1)]: Done  22 out of  30 | elapsed:    8.9s remaining:    3.2s\n",
      "[Parallel(n_jobs=-1)]: Done  30 out of  30 | elapsed:   10.5s finished\n"
     ]
    },
    {
     "name": "stdout",
     "output_type": "stream",
     "text": [
      "0.9146666666666666\n",
      "\n",
      "Model: LogisticRegression L2\n"
     ]
    },
    {
     "data": {
      "application/vnd.jupyter.widget-view+json": {
       "model_id": "25c4c5abbfa3410ab7163770ba0284ed",
       "version_major": 2,
       "version_minor": 0
      },
      "text/plain": [
       "HBox(children=(IntProgress(value=0, max=6), HTML(value='')))"
      ]
     },
     "metadata": {},
     "output_type": "display_data"
    },
    {
     "name": "stdout",
     "output_type": "stream",
     "text": [
      "**Processing Fiction books...**\n",
      "Fitting 5 folds for each of 6 candidates, totalling 30 fits\n"
     ]
    },
    {
     "name": "stderr",
     "output_type": "stream",
     "text": [
      "[Parallel(n_jobs=-1)]: Using backend LokyBackend with 8 concurrent workers.\n",
      "[Parallel(n_jobs=-1)]: Done   2 tasks      | elapsed:    3.8s\n",
      "[Parallel(n_jobs=-1)]: Done  22 out of  30 | elapsed:   10.3s remaining:    3.7s\n",
      "[Parallel(n_jobs=-1)]: Done  30 out of  30 | elapsed:   13.3s finished\n"
     ]
    },
    {
     "name": "stdout",
     "output_type": "stream",
     "text": [
      "0.7786666666666666\n",
      "**Processing Fantasy books...**\n",
      "Fitting 5 folds for each of 6 candidates, totalling 30 fits\n"
     ]
    },
    {
     "name": "stderr",
     "output_type": "stream",
     "text": [
      "[Parallel(n_jobs=-1)]: Using backend LokyBackend with 8 concurrent workers.\n",
      "[Parallel(n_jobs=-1)]: Done   2 tasks      | elapsed:    1.9s\n",
      "[Parallel(n_jobs=-1)]: Done  22 out of  30 | elapsed:    7.9s remaining:    2.8s\n",
      "[Parallel(n_jobs=-1)]: Done  30 out of  30 | elapsed:    9.7s finished\n"
     ]
    },
    {
     "name": "stdout",
     "output_type": "stream",
     "text": [
      "0.632\n",
      "**Processing Romance books...**\n",
      "Fitting 5 folds for each of 6 candidates, totalling 30 fits\n"
     ]
    },
    {
     "name": "stderr",
     "output_type": "stream",
     "text": [
      "[Parallel(n_jobs=-1)]: Using backend LokyBackend with 8 concurrent workers.\n",
      "[Parallel(n_jobs=-1)]: Done   2 tasks      | elapsed:    2.3s\n",
      "[Parallel(n_jobs=-1)]: Done  22 out of  30 | elapsed:    7.3s remaining:    2.6s\n",
      "[Parallel(n_jobs=-1)]: Done  30 out of  30 | elapsed:    9.2s finished\n"
     ]
    },
    {
     "name": "stdout",
     "output_type": "stream",
     "text": [
      "0.7333333333333333\n",
      "**Processing Historical books...**\n",
      "Fitting 5 folds for each of 6 candidates, totalling 30 fits\n"
     ]
    },
    {
     "name": "stderr",
     "output_type": "stream",
     "text": [
      "[Parallel(n_jobs=-1)]: Using backend LokyBackend with 8 concurrent workers.\n",
      "[Parallel(n_jobs=-1)]: Done   2 tasks      | elapsed:    2.1s\n",
      "[Parallel(n_jobs=-1)]: Done  22 out of  30 | elapsed:    6.9s remaining:    2.5s\n",
      "[Parallel(n_jobs=-1)]: Done  30 out of  30 | elapsed:    9.1s finished\n"
     ]
    },
    {
     "name": "stdout",
     "output_type": "stream",
     "text": [
      "0.8053333333333333\n",
      "**Processing Paranormal books...**\n",
      "Fitting 5 folds for each of 6 candidates, totalling 30 fits\n"
     ]
    },
    {
     "name": "stderr",
     "output_type": "stream",
     "text": [
      "[Parallel(n_jobs=-1)]: Using backend LokyBackend with 8 concurrent workers.\n",
      "[Parallel(n_jobs=-1)]: Done   2 tasks      | elapsed:    2.1s\n",
      "[Parallel(n_jobs=-1)]: Done  22 out of  30 | elapsed:    7.2s remaining:    2.6s\n",
      "[Parallel(n_jobs=-1)]: Done  30 out of  30 | elapsed:    9.0s finished\n"
     ]
    },
    {
     "name": "stdout",
     "output_type": "stream",
     "text": [
      "0.8586666666666667\n",
      "**Processing Mystery books...**\n",
      "Fitting 5 folds for each of 6 candidates, totalling 30 fits\n"
     ]
    },
    {
     "name": "stderr",
     "output_type": "stream",
     "text": [
      "[Parallel(n_jobs=-1)]: Using backend LokyBackend with 8 concurrent workers.\n",
      "[Parallel(n_jobs=-1)]: Done   2 tasks      | elapsed:    2.1s\n",
      "[Parallel(n_jobs=-1)]: Done  22 out of  30 | elapsed:    6.7s remaining:    2.4s\n",
      "[Parallel(n_jobs=-1)]: Done  30 out of  30 | elapsed:    8.6s finished\n"
     ]
    },
    {
     "name": "stdout",
     "output_type": "stream",
     "text": [
      "0.9146666666666666\n",
      "\n",
      "Model: SVM L1\n"
     ]
    },
    {
     "data": {
      "application/vnd.jupyter.widget-view+json": {
       "model_id": "0009ac40fc2443079ae1d3f79c691272",
       "version_major": 2,
       "version_minor": 0
      },
      "text/plain": [
       "HBox(children=(IntProgress(value=0, max=6), HTML(value='')))"
      ]
     },
     "metadata": {},
     "output_type": "display_data"
    },
    {
     "name": "stdout",
     "output_type": "stream",
     "text": [
      "**Processing Fiction books...**\n",
      "Fitting 5 folds for each of 6 candidates, totalling 30 fits\n"
     ]
    },
    {
     "name": "stderr",
     "output_type": "stream",
     "text": [
      "[Parallel(n_jobs=-1)]: Using backend LokyBackend with 8 concurrent workers.\n",
      "[Parallel(n_jobs=-1)]: Done   2 tasks      | elapsed:    2.0s\n",
      "[Parallel(n_jobs=-1)]: Done  22 out of  30 | elapsed:    8.9s remaining:    3.2s\n",
      "[Parallel(n_jobs=-1)]: Done  30 out of  30 | elapsed:   10.6s finished\n"
     ]
    },
    {
     "name": "stdout",
     "output_type": "stream",
     "text": [
      "0.7786666666666666\n",
      "**Processing Fantasy books...**\n",
      "Fitting 5 folds for each of 6 candidates, totalling 30 fits\n"
     ]
    },
    {
     "name": "stderr",
     "output_type": "stream",
     "text": [
      "[Parallel(n_jobs=-1)]: Using backend LokyBackend with 8 concurrent workers.\n",
      "[Parallel(n_jobs=-1)]: Done   2 tasks      | elapsed:    2.1s\n",
      "[Parallel(n_jobs=-1)]: Done  22 out of  30 | elapsed:    8.6s remaining:    3.1s\n",
      "[Parallel(n_jobs=-1)]: Done  30 out of  30 | elapsed:   10.7s finished\n"
     ]
    },
    {
     "name": "stdout",
     "output_type": "stream",
     "text": [
      "0.632\n",
      "**Processing Romance books...**\n",
      "Fitting 5 folds for each of 6 candidates, totalling 30 fits\n"
     ]
    },
    {
     "name": "stderr",
     "output_type": "stream",
     "text": [
      "[Parallel(n_jobs=-1)]: Using backend LokyBackend with 8 concurrent workers.\n",
      "[Parallel(n_jobs=-1)]: Done   2 tasks      | elapsed:    2.0s\n",
      "[Parallel(n_jobs=-1)]: Done  22 out of  30 | elapsed:    7.8s remaining:    2.8s\n",
      "[Parallel(n_jobs=-1)]: Done  30 out of  30 | elapsed:    9.5s finished\n"
     ]
    },
    {
     "name": "stdout",
     "output_type": "stream",
     "text": [
      "0.7333333333333333\n",
      "**Processing Historical books...**\n",
      "Fitting 5 folds for each of 6 candidates, totalling 30 fits\n"
     ]
    },
    {
     "name": "stderr",
     "output_type": "stream",
     "text": [
      "[Parallel(n_jobs=-1)]: Using backend LokyBackend with 8 concurrent workers.\n",
      "[Parallel(n_jobs=-1)]: Done   2 tasks      | elapsed:    2.0s\n",
      "[Parallel(n_jobs=-1)]: Done  22 out of  30 | elapsed:    6.8s remaining:    2.4s\n",
      "[Parallel(n_jobs=-1)]: Done  30 out of  30 | elapsed:    8.9s finished\n"
     ]
    },
    {
     "name": "stdout",
     "output_type": "stream",
     "text": [
      "0.8053333333333333\n",
      "**Processing Paranormal books...**\n",
      "Fitting 5 folds for each of 6 candidates, totalling 30 fits\n"
     ]
    },
    {
     "name": "stderr",
     "output_type": "stream",
     "text": [
      "[Parallel(n_jobs=-1)]: Using backend LokyBackend with 8 concurrent workers.\n",
      "[Parallel(n_jobs=-1)]: Done   2 tasks      | elapsed:    1.9s\n",
      "[Parallel(n_jobs=-1)]: Done  22 out of  30 | elapsed:    7.9s remaining:    2.8s\n",
      "[Parallel(n_jobs=-1)]: Done  30 out of  30 | elapsed:    9.8s finished\n"
     ]
    },
    {
     "name": "stdout",
     "output_type": "stream",
     "text": [
      "0.8586666666666667\n",
      "**Processing Mystery books...**\n",
      "Fitting 5 folds for each of 6 candidates, totalling 30 fits\n"
     ]
    },
    {
     "name": "stderr",
     "output_type": "stream",
     "text": [
      "[Parallel(n_jobs=-1)]: Using backend LokyBackend with 8 concurrent workers.\n",
      "[Parallel(n_jobs=-1)]: Done   2 tasks      | elapsed:    1.9s\n",
      "[Parallel(n_jobs=-1)]: Done  22 out of  30 | elapsed:    7.2s remaining:    2.5s\n",
      "[Parallel(n_jobs=-1)]: Done  30 out of  30 | elapsed:    8.9s finished\n"
     ]
    },
    {
     "name": "stdout",
     "output_type": "stream",
     "text": [
      "0.9146666666666666\n",
      "\n",
      "Model: SVM L2\n"
     ]
    },
    {
     "data": {
      "application/vnd.jupyter.widget-view+json": {
       "model_id": "281babf3edef4f079d8fdd080bd894e8",
       "version_major": 2,
       "version_minor": 0
      },
      "text/plain": [
       "HBox(children=(IntProgress(value=0, max=6), HTML(value='')))"
      ]
     },
     "metadata": {},
     "output_type": "display_data"
    },
    {
     "name": "stdout",
     "output_type": "stream",
     "text": [
      "**Processing Fiction books...**\n",
      "Fitting 5 folds for each of 6 candidates, totalling 30 fits\n"
     ]
    },
    {
     "name": "stderr",
     "output_type": "stream",
     "text": [
      "[Parallel(n_jobs=-1)]: Using backend LokyBackend with 8 concurrent workers.\n",
      "[Parallel(n_jobs=-1)]: Done   2 tasks      | elapsed:    2.0s\n",
      "[Parallel(n_jobs=-1)]: Done  22 out of  30 | elapsed:    8.0s remaining:    2.8s\n",
      "[Parallel(n_jobs=-1)]: Done  30 out of  30 | elapsed:   10.3s finished\n"
     ]
    },
    {
     "name": "stdout",
     "output_type": "stream",
     "text": [
      "0.7786666666666666\n",
      "**Processing Fantasy books...**\n",
      "Fitting 5 folds for each of 6 candidates, totalling 30 fits\n"
     ]
    },
    {
     "name": "stderr",
     "output_type": "stream",
     "text": [
      "[Parallel(n_jobs=-1)]: Using backend LokyBackend with 8 concurrent workers.\n",
      "[Parallel(n_jobs=-1)]: Done   2 tasks      | elapsed:    1.9s\n",
      "[Parallel(n_jobs=-1)]: Done  22 out of  30 | elapsed:    7.3s remaining:    2.6s\n",
      "[Parallel(n_jobs=-1)]: Done  30 out of  30 | elapsed:   10.5s finished\n"
     ]
    },
    {
     "name": "stdout",
     "output_type": "stream",
     "text": [
      "0.632\n",
      "**Processing Romance books...**\n",
      "Fitting 5 folds for each of 6 candidates, totalling 30 fits\n"
     ]
    },
    {
     "name": "stderr",
     "output_type": "stream",
     "text": [
      "[Parallel(n_jobs=-1)]: Using backend LokyBackend with 8 concurrent workers.\n",
      "[Parallel(n_jobs=-1)]: Done   2 tasks      | elapsed:    2.2s\n",
      "[Parallel(n_jobs=-1)]: Done  22 out of  30 | elapsed:    7.8s remaining:    2.8s\n",
      "[Parallel(n_jobs=-1)]: Done  30 out of  30 | elapsed:   10.8s finished\n"
     ]
    },
    {
     "name": "stdout",
     "output_type": "stream",
     "text": [
      "0.7333333333333333\n",
      "**Processing Historical books...**\n",
      "Fitting 5 folds for each of 6 candidates, totalling 30 fits\n"
     ]
    },
    {
     "name": "stderr",
     "output_type": "stream",
     "text": [
      "[Parallel(n_jobs=-1)]: Using backend LokyBackend with 8 concurrent workers.\n",
      "[Parallel(n_jobs=-1)]: Done   2 tasks      | elapsed:    1.9s\n",
      "[Parallel(n_jobs=-1)]: Done  22 out of  30 | elapsed:    7.0s remaining:    2.5s\n",
      "[Parallel(n_jobs=-1)]: Done  30 out of  30 | elapsed:   10.4s finished\n"
     ]
    },
    {
     "name": "stdout",
     "output_type": "stream",
     "text": [
      "0.8053333333333333\n",
      "**Processing Paranormal books...**\n",
      "Fitting 5 folds for each of 6 candidates, totalling 30 fits\n"
     ]
    },
    {
     "name": "stderr",
     "output_type": "stream",
     "text": [
      "[Parallel(n_jobs=-1)]: Using backend LokyBackend with 8 concurrent workers.\n",
      "[Parallel(n_jobs=-1)]: Done   2 tasks      | elapsed:    2.0s\n",
      "[Parallel(n_jobs=-1)]: Done  22 out of  30 | elapsed:    7.0s remaining:    2.5s\n",
      "[Parallel(n_jobs=-1)]: Done  30 out of  30 | elapsed:    8.8s finished\n"
     ]
    },
    {
     "name": "stdout",
     "output_type": "stream",
     "text": [
      "0.8586666666666667\n",
      "**Processing Mystery books...**\n",
      "Fitting 5 folds for each of 6 candidates, totalling 30 fits\n"
     ]
    },
    {
     "name": "stderr",
     "output_type": "stream",
     "text": [
      "[Parallel(n_jobs=-1)]: Using backend LokyBackend with 8 concurrent workers.\n",
      "[Parallel(n_jobs=-1)]: Done   2 tasks      | elapsed:    2.2s\n",
      "[Parallel(n_jobs=-1)]: Done  22 out of  30 | elapsed:    8.0s remaining:    2.9s\n",
      "[Parallel(n_jobs=-1)]: Done  30 out of  30 | elapsed:    9.7s finished\n"
     ]
    },
    {
     "name": "stdout",
     "output_type": "stream",
     "text": [
      "0.9146666666666666\n",
      "\n",
      "Model: SVC Poly\n"
     ]
    },
    {
     "data": {
      "application/vnd.jupyter.widget-view+json": {
       "model_id": "6195cb4d43a94ff9aef2284fea2925c6",
       "version_major": 2,
       "version_minor": 0
      },
      "text/plain": [
       "HBox(children=(IntProgress(value=0, max=6), HTML(value='')))"
      ]
     },
     "metadata": {},
     "output_type": "display_data"
    },
    {
     "name": "stdout",
     "output_type": "stream",
     "text": [
      "**Processing Fiction books...**\n",
      "Fitting 5 folds for each of 18 candidates, totalling 90 fits\n"
     ]
    },
    {
     "name": "stderr",
     "output_type": "stream",
     "text": [
      "[Parallel(n_jobs=-1)]: Using backend LokyBackend with 8 concurrent workers.\n",
      "[Parallel(n_jobs=-1)]: Done   2 tasks      | elapsed:  1.6min\n",
      "[Parallel(n_jobs=-1)]: Done  56 tasks      | elapsed: 17.3min\n",
      "[Parallel(n_jobs=-1)]: Done  90 out of  90 | elapsed: 26.9min finished\n"
     ]
    },
    {
     "name": "stdout",
     "output_type": "stream",
     "text": [
      "0.7786666666666666\n",
      "**Processing Fantasy books...**\n",
      "Fitting 5 folds for each of 18 candidates, totalling 90 fits\n"
     ]
    },
    {
     "name": "stderr",
     "output_type": "stream",
     "text": [
      "[Parallel(n_jobs=-1)]: Using backend LokyBackend with 8 concurrent workers.\n",
      "[Parallel(n_jobs=-1)]: Done   2 tasks      | elapsed:  2.8min\n",
      "[Parallel(n_jobs=-1)]: Done  56 tasks      | elapsed: 21.4min\n",
      "[Parallel(n_jobs=-1)]: Done  90 out of  90 | elapsed: 585.1min finished\n"
     ]
    },
    {
     "name": "stdout",
     "output_type": "stream",
     "text": [
      "0.632\n",
      "**Processing Romance books...**\n",
      "Fitting 5 folds for each of 18 candidates, totalling 90 fits\n"
     ]
    },
    {
     "name": "stderr",
     "output_type": "stream",
     "text": [
      "[Parallel(n_jobs=-1)]: Using backend LokyBackend with 8 concurrent workers.\n",
      "[Parallel(n_jobs=-1)]: Done   2 tasks      | elapsed:  1.9min\n",
      "[Parallel(n_jobs=-1)]: Done  56 tasks      | elapsed: 19.4min\n",
      "[Parallel(n_jobs=-1)]: Done  90 out of  90 | elapsed: 30.4min finished\n"
     ]
    },
    {
     "name": "stdout",
     "output_type": "stream",
     "text": [
      "0.7333333333333333\n",
      "**Processing Historical books...**\n",
      "Fitting 5 folds for each of 18 candidates, totalling 90 fits\n"
     ]
    },
    {
     "name": "stderr",
     "output_type": "stream",
     "text": [
      "[Parallel(n_jobs=-1)]: Using backend LokyBackend with 8 concurrent workers.\n",
      "[Parallel(n_jobs=-1)]: Done   2 tasks      | elapsed:  1.3min\n",
      "[Parallel(n_jobs=-1)]: Done  56 tasks      | elapsed: 16.2min\n",
      "[Parallel(n_jobs=-1)]: Done  90 out of  90 | elapsed: 25.8min finished\n"
     ]
    },
    {
     "name": "stdout",
     "output_type": "stream",
     "text": [
      "0.8053333333333333\n",
      "**Processing Paranormal books...**\n",
      "Fitting 5 folds for each of 18 candidates, totalling 90 fits\n"
     ]
    },
    {
     "name": "stderr",
     "output_type": "stream",
     "text": [
      "[Parallel(n_jobs=-1)]: Using backend LokyBackend with 8 concurrent workers.\n",
      "[Parallel(n_jobs=-1)]: Done   2 tasks      | elapsed:   58.0s\n",
      "[Parallel(n_jobs=-1)]: Done  56 tasks      | elapsed: 13.7min\n",
      "[Parallel(n_jobs=-1)]: Done  90 out of  90 | elapsed: 22.6min finished\n"
     ]
    },
    {
     "name": "stdout",
     "output_type": "stream",
     "text": [
      "0.8586666666666667\n",
      "**Processing Mystery books...**\n",
      "Fitting 5 folds for each of 18 candidates, totalling 90 fits\n"
     ]
    },
    {
     "name": "stderr",
     "output_type": "stream",
     "text": [
      "[Parallel(n_jobs=-1)]: Using backend LokyBackend with 8 concurrent workers.\n",
      "[Parallel(n_jobs=-1)]: Done   2 tasks      | elapsed:   41.6s\n",
      "[Parallel(n_jobs=-1)]: Done  56 tasks      | elapsed: 12.0min\n",
      "[Parallel(n_jobs=-1)]: Done  90 out of  90 | elapsed: 20.2min finished\n"
     ]
    },
    {
     "name": "stdout",
     "output_type": "stream",
     "text": [
      "0.9146666666666666\n",
      "\n",
      "Model: SVC RBF\n"
     ]
    },
    {
     "data": {
      "application/vnd.jupyter.widget-view+json": {
       "model_id": "6b4de2b8eedf46fe9b920d0c9eed93d7",
       "version_major": 2,
       "version_minor": 0
      },
      "text/plain": [
       "HBox(children=(IntProgress(value=0, max=6), HTML(value='')))"
      ]
     },
     "metadata": {},
     "output_type": "display_data"
    },
    {
     "name": "stdout",
     "output_type": "stream",
     "text": [
      "**Processing Fiction books...**\n",
      "Fitting 5 folds for each of 66 candidates, totalling 330 fits\n"
     ]
    },
    {
     "name": "stderr",
     "output_type": "stream",
     "text": [
      "[Parallel(n_jobs=-1)]: Using backend LokyBackend with 8 concurrent workers.\n",
      "[Parallel(n_jobs=-1)]: Done   2 tasks      | elapsed:  1.4min\n",
      "[Parallel(n_jobs=-1)]: Done  56 tasks      | elapsed: 11.3min\n",
      "[Parallel(n_jobs=-1)]: Done 146 tasks      | elapsed: 53.6min\n",
      "[Parallel(n_jobs=-1)]: Done 272 tasks      | elapsed: 99.2min\n",
      "[Parallel(n_jobs=-1)]: Done 330 out of 330 | elapsed: 118.7min finished\n"
     ]
    },
    {
     "name": "stdout",
     "output_type": "stream",
     "text": [
      "0.7786666666666666\n",
      "**Processing Fantasy books...**\n",
      "Fitting 5 folds for each of 66 candidates, totalling 330 fits\n"
     ]
    },
    {
     "name": "stderr",
     "output_type": "stream",
     "text": [
      "[Parallel(n_jobs=-1)]: Using backend LokyBackend with 8 concurrent workers.\n",
      "[Parallel(n_jobs=-1)]: Done   2 tasks      | elapsed:  2.9min\n",
      "[Parallel(n_jobs=-1)]: Done  56 tasks      | elapsed: 20.2min\n",
      "[Parallel(n_jobs=-1)]: Done 146 tasks      | elapsed: 58.9min\n",
      "[Parallel(n_jobs=-1)]: Done 272 tasks      | elapsed: 120.1min\n",
      "[Parallel(n_jobs=-1)]: Done 330 out of 330 | elapsed: 149.5min finished\n"
     ]
    },
    {
     "name": "stdout",
     "output_type": "stream",
     "text": [
      "0.632\n",
      "**Processing Romance books...**\n",
      "Fitting 5 folds for each of 66 candidates, totalling 330 fits\n"
     ]
    },
    {
     "name": "stderr",
     "output_type": "stream",
     "text": [
      "[Parallel(n_jobs=-1)]: Using backend LokyBackend with 8 concurrent workers.\n",
      "[Parallel(n_jobs=-1)]: Done   2 tasks      | elapsed:  2.4min\n",
      "[Parallel(n_jobs=-1)]: Done  56 tasks      | elapsed: 19.8min\n",
      "[Parallel(n_jobs=-1)]: Done 146 tasks      | elapsed: 55.8min\n",
      "[Parallel(n_jobs=-1)]: Done 272 tasks      | elapsed: 107.1min\n",
      "[Parallel(n_jobs=-1)]: Done 330 out of 330 | elapsed: 134.0min finished\n"
     ]
    },
    {
     "name": "stdout",
     "output_type": "stream",
     "text": [
      "0.7333333333333333\n",
      "**Processing Historical books...**\n",
      "Fitting 5 folds for each of 66 candidates, totalling 330 fits\n"
     ]
    },
    {
     "name": "stderr",
     "output_type": "stream",
     "text": [
      "[Parallel(n_jobs=-1)]: Using backend LokyBackend with 8 concurrent workers.\n",
      "[Parallel(n_jobs=-1)]: Done   2 tasks      | elapsed:  1.9min\n",
      "[Parallel(n_jobs=-1)]: Done  56 tasks      | elapsed: 16.0min\n",
      "[Parallel(n_jobs=-1)]: Done 146 tasks      | elapsed: 57.6min\n",
      "[Parallel(n_jobs=-1)]: Done 272 tasks      | elapsed: 118.9min\n",
      "[Parallel(n_jobs=-1)]: Done 330 out of 330 | elapsed: 146.7min finished\n"
     ]
    },
    {
     "name": "stdout",
     "output_type": "stream",
     "text": [
      "0.8053333333333333\n",
      "**Processing Paranormal books...**\n",
      "Fitting 5 folds for each of 66 candidates, totalling 330 fits\n"
     ]
    },
    {
     "name": "stderr",
     "output_type": "stream",
     "text": [
      "[Parallel(n_jobs=-1)]: Using backend LokyBackend with 8 concurrent workers.\n",
      "[Parallel(n_jobs=-1)]: Done   2 tasks      | elapsed:  1.8min\n",
      "[Parallel(n_jobs=-1)]: Done  56 tasks      | elapsed: 15.2min\n",
      "[Parallel(n_jobs=-1)]: Done 146 tasks      | elapsed: 61.8min\n",
      "[Parallel(n_jobs=-1)]: Done 272 tasks      | elapsed: 131.2min\n",
      "[Parallel(n_jobs=-1)]: Done 330 out of 330 | elapsed: 159.4min finished\n"
     ]
    },
    {
     "name": "stdout",
     "output_type": "stream",
     "text": [
      "0.8586666666666667\n",
      "**Processing Mystery books...**\n",
      "Fitting 5 folds for each of 66 candidates, totalling 330 fits\n"
     ]
    },
    {
     "name": "stderr",
     "output_type": "stream",
     "text": [
      "[Parallel(n_jobs=-1)]: Using backend LokyBackend with 8 concurrent workers.\n",
      "[Parallel(n_jobs=-1)]: Done   2 tasks      | elapsed:   43.0s\n",
      "[Parallel(n_jobs=-1)]: Done  56 tasks      | elapsed:  5.2min\n",
      "[Parallel(n_jobs=-1)]: Done 146 tasks      | elapsed: 26.3min\n",
      "[Parallel(n_jobs=-1)]: Done 272 tasks      | elapsed: 62.5min\n",
      "[Parallel(n_jobs=-1)]: Done 330 out of 330 | elapsed: 79.3min finished\n"
     ]
    },
    {
     "name": "stdout",
     "output_type": "stream",
     "text": [
      "0.9146666666666666\n",
      "\n",
      "Model: GBM\n"
     ]
    },
    {
     "data": {
      "application/vnd.jupyter.widget-view+json": {
       "model_id": "a95079627b0642389c8d1432b82408d0",
       "version_major": 2,
       "version_minor": 0
      },
      "text/plain": [
       "HBox(children=(IntProgress(value=0, max=6), HTML(value='')))"
      ]
     },
     "metadata": {},
     "output_type": "display_data"
    },
    {
     "name": "stdout",
     "output_type": "stream",
     "text": [
      "**Processing Fiction books...**\n",
      "Fitting 5 folds for each of 480 candidates, totalling 2400 fits\n"
     ]
    },
    {
     "name": "stderr",
     "output_type": "stream",
     "text": [
      "[Parallel(n_jobs=-1)]: Using backend LokyBackend with 8 concurrent workers.\n",
      "[Parallel(n_jobs=-1)]: Done   2 tasks      | elapsed:  4.3min\n",
      "[Parallel(n_jobs=-1)]: Done  56 tasks      | elapsed: 67.6min\n",
      "[Parallel(n_jobs=-1)]: Done 146 tasks      | elapsed: 228.3min\n"
     ]
    },
    {
     "name": "stdout",
     "output_type": "stream",
     "text": [
      "\n"
     ]
    },
    {
     "ename": "KeyboardInterrupt",
     "evalue": "",
     "output_type": "error",
     "traceback": [
      "\u001b[1;31m---------------------------------------------------------------------------\u001b[0m",
      "\u001b[1;31mKeyboardInterrupt\u001b[0m                         Traceback (most recent call last)",
      "\u001b[1;32m<ipython-input-37-2188a9257db0>\u001b[0m in \u001b[0;36m<module>\u001b[1;34m\u001b[0m\n\u001b[0;32m     10\u001b[0m                                                                 \u001b[0mtest_size\u001b[0m\u001b[1;33m=\u001b[0m\u001b[1;36m0.25\u001b[0m\u001b[1;33m,\u001b[0m\u001b[1;33m\u001b[0m\u001b[1;33m\u001b[0m\u001b[0m\n\u001b[0;32m     11\u001b[0m                                                               random_state=n*8)\n\u001b[1;32m---> 12\u001b[1;33m             \u001b[0mclf\u001b[0m\u001b[1;33m.\u001b[0m\u001b[0mfit\u001b[0m\u001b[1;33m(\u001b[0m\u001b[0mX_train\u001b[0m\u001b[1;33m,\u001b[0m \u001b[0my_train\u001b[0m\u001b[1;33m)\u001b[0m\u001b[1;33m\u001b[0m\u001b[1;33m\u001b[0m\u001b[0m\n\u001b[0m\u001b[0;32m     13\u001b[0m             \u001b[0mprediction\u001b[0m \u001b[1;33m=\u001b[0m \u001b[0mclf\u001b[0m\u001b[1;33m.\u001b[0m\u001b[0mpredict\u001b[0m\u001b[1;33m(\u001b[0m\u001b[0mX_test\u001b[0m\u001b[1;33m)\u001b[0m\u001b[1;33m\u001b[0m\u001b[1;33m\u001b[0m\u001b[0m\n\u001b[0;32m     14\u001b[0m             \u001b[0mres\u001b[0m\u001b[1;33m.\u001b[0m\u001b[0mappend\u001b[0m\u001b[1;33m(\u001b[0m\u001b[1;33m(\u001b[0m\u001b[0mkey\u001b[0m\u001b[1;33m,\u001b[0m \u001b[0maccuracy_score\u001b[0m\u001b[1;33m(\u001b[0m\u001b[0my_test\u001b[0m\u001b[1;33m,\u001b[0m \u001b[0mprediction\u001b[0m\u001b[1;33m)\u001b[0m\u001b[1;33m)\u001b[0m\u001b[1;33m)\u001b[0m\u001b[1;33m\u001b[0m\u001b[1;33m\u001b[0m\u001b[0m\n",
      "\u001b[1;32m~\\Anaconda3\\lib\\site-packages\\sklearn\\multiclass.py\u001b[0m in \u001b[0;36mfit\u001b[1;34m(self, X, y)\u001b[0m\n\u001b[0;32m    213\u001b[0m                 \u001b[1;34m\"not %s\"\u001b[0m \u001b[1;33m%\u001b[0m \u001b[0mself\u001b[0m\u001b[1;33m.\u001b[0m\u001b[0mlabel_binarizer_\u001b[0m\u001b[1;33m.\u001b[0m\u001b[0mclasses_\u001b[0m\u001b[1;33m[\u001b[0m\u001b[0mi\u001b[0m\u001b[1;33m]\u001b[0m\u001b[1;33m,\u001b[0m\u001b[1;33m\u001b[0m\u001b[1;33m\u001b[0m\u001b[0m\n\u001b[0;32m    214\u001b[0m                 self.label_binarizer_.classes_[i]])\n\u001b[1;32m--> 215\u001b[1;33m             for i, column in enumerate(columns))\n\u001b[0m\u001b[0;32m    216\u001b[0m \u001b[1;33m\u001b[0m\u001b[0m\n\u001b[0;32m    217\u001b[0m         \u001b[1;32mreturn\u001b[0m \u001b[0mself\u001b[0m\u001b[1;33m\u001b[0m\u001b[1;33m\u001b[0m\u001b[0m\n",
      "\u001b[1;32m~\\Anaconda3\\lib\\site-packages\\sklearn\\externals\\joblib\\parallel.py\u001b[0m in \u001b[0;36m__call__\u001b[1;34m(self, iterable)\u001b[0m\n\u001b[0;32m    915\u001b[0m             \u001b[1;31m# remaining jobs.\u001b[0m\u001b[1;33m\u001b[0m\u001b[1;33m\u001b[0m\u001b[1;33m\u001b[0m\u001b[0m\n\u001b[0;32m    916\u001b[0m             \u001b[0mself\u001b[0m\u001b[1;33m.\u001b[0m\u001b[0m_iterating\u001b[0m \u001b[1;33m=\u001b[0m \u001b[1;32mFalse\u001b[0m\u001b[1;33m\u001b[0m\u001b[1;33m\u001b[0m\u001b[0m\n\u001b[1;32m--> 917\u001b[1;33m             \u001b[1;32mif\u001b[0m \u001b[0mself\u001b[0m\u001b[1;33m.\u001b[0m\u001b[0mdispatch_one_batch\u001b[0m\u001b[1;33m(\u001b[0m\u001b[0miterator\u001b[0m\u001b[1;33m)\u001b[0m\u001b[1;33m:\u001b[0m\u001b[1;33m\u001b[0m\u001b[1;33m\u001b[0m\u001b[0m\n\u001b[0m\u001b[0;32m    918\u001b[0m                 \u001b[0mself\u001b[0m\u001b[1;33m.\u001b[0m\u001b[0m_iterating\u001b[0m \u001b[1;33m=\u001b[0m \u001b[0mself\u001b[0m\u001b[1;33m.\u001b[0m\u001b[0m_original_iterator\u001b[0m \u001b[1;32mis\u001b[0m \u001b[1;32mnot\u001b[0m \u001b[1;32mNone\u001b[0m\u001b[1;33m\u001b[0m\u001b[1;33m\u001b[0m\u001b[0m\n\u001b[0;32m    919\u001b[0m \u001b[1;33m\u001b[0m\u001b[0m\n",
      "\u001b[1;32m~\\Anaconda3\\lib\\site-packages\\sklearn\\externals\\joblib\\parallel.py\u001b[0m in \u001b[0;36mdispatch_one_batch\u001b[1;34m(self, iterator)\u001b[0m\n\u001b[0;32m    757\u001b[0m                 \u001b[1;32mreturn\u001b[0m \u001b[1;32mFalse\u001b[0m\u001b[1;33m\u001b[0m\u001b[1;33m\u001b[0m\u001b[0m\n\u001b[0;32m    758\u001b[0m             \u001b[1;32melse\u001b[0m\u001b[1;33m:\u001b[0m\u001b[1;33m\u001b[0m\u001b[1;33m\u001b[0m\u001b[0m\n\u001b[1;32m--> 759\u001b[1;33m                 \u001b[0mself\u001b[0m\u001b[1;33m.\u001b[0m\u001b[0m_dispatch\u001b[0m\u001b[1;33m(\u001b[0m\u001b[0mtasks\u001b[0m\u001b[1;33m)\u001b[0m\u001b[1;33m\u001b[0m\u001b[1;33m\u001b[0m\u001b[0m\n\u001b[0m\u001b[0;32m    760\u001b[0m                 \u001b[1;32mreturn\u001b[0m \u001b[1;32mTrue\u001b[0m\u001b[1;33m\u001b[0m\u001b[1;33m\u001b[0m\u001b[0m\n\u001b[0;32m    761\u001b[0m \u001b[1;33m\u001b[0m\u001b[0m\n",
      "\u001b[1;32m~\\Anaconda3\\lib\\site-packages\\sklearn\\externals\\joblib\\parallel.py\u001b[0m in \u001b[0;36m_dispatch\u001b[1;34m(self, batch)\u001b[0m\n\u001b[0;32m    714\u001b[0m         \u001b[1;32mwith\u001b[0m \u001b[0mself\u001b[0m\u001b[1;33m.\u001b[0m\u001b[0m_lock\u001b[0m\u001b[1;33m:\u001b[0m\u001b[1;33m\u001b[0m\u001b[1;33m\u001b[0m\u001b[0m\n\u001b[0;32m    715\u001b[0m             \u001b[0mjob_idx\u001b[0m \u001b[1;33m=\u001b[0m \u001b[0mlen\u001b[0m\u001b[1;33m(\u001b[0m\u001b[0mself\u001b[0m\u001b[1;33m.\u001b[0m\u001b[0m_jobs\u001b[0m\u001b[1;33m)\u001b[0m\u001b[1;33m\u001b[0m\u001b[1;33m\u001b[0m\u001b[0m\n\u001b[1;32m--> 716\u001b[1;33m             \u001b[0mjob\u001b[0m \u001b[1;33m=\u001b[0m \u001b[0mself\u001b[0m\u001b[1;33m.\u001b[0m\u001b[0m_backend\u001b[0m\u001b[1;33m.\u001b[0m\u001b[0mapply_async\u001b[0m\u001b[1;33m(\u001b[0m\u001b[0mbatch\u001b[0m\u001b[1;33m,\u001b[0m \u001b[0mcallback\u001b[0m\u001b[1;33m=\u001b[0m\u001b[0mcb\u001b[0m\u001b[1;33m)\u001b[0m\u001b[1;33m\u001b[0m\u001b[1;33m\u001b[0m\u001b[0m\n\u001b[0m\u001b[0;32m    717\u001b[0m             \u001b[1;31m# A job can complete so quickly than its callback is\u001b[0m\u001b[1;33m\u001b[0m\u001b[1;33m\u001b[0m\u001b[1;33m\u001b[0m\u001b[0m\n\u001b[0;32m    718\u001b[0m             \u001b[1;31m# called before we get here, causing self._jobs to\u001b[0m\u001b[1;33m\u001b[0m\u001b[1;33m\u001b[0m\u001b[1;33m\u001b[0m\u001b[0m\n",
      "\u001b[1;32m~\\Anaconda3\\lib\\site-packages\\sklearn\\externals\\joblib\\_parallel_backends.py\u001b[0m in \u001b[0;36mapply_async\u001b[1;34m(self, func, callback)\u001b[0m\n\u001b[0;32m    180\u001b[0m     \u001b[1;32mdef\u001b[0m \u001b[0mapply_async\u001b[0m\u001b[1;33m(\u001b[0m\u001b[0mself\u001b[0m\u001b[1;33m,\u001b[0m \u001b[0mfunc\u001b[0m\u001b[1;33m,\u001b[0m \u001b[0mcallback\u001b[0m\u001b[1;33m=\u001b[0m\u001b[1;32mNone\u001b[0m\u001b[1;33m)\u001b[0m\u001b[1;33m:\u001b[0m\u001b[1;33m\u001b[0m\u001b[1;33m\u001b[0m\u001b[0m\n\u001b[0;32m    181\u001b[0m         \u001b[1;34m\"\"\"Schedule a func to be run\"\"\"\u001b[0m\u001b[1;33m\u001b[0m\u001b[1;33m\u001b[0m\u001b[0m\n\u001b[1;32m--> 182\u001b[1;33m         \u001b[0mresult\u001b[0m \u001b[1;33m=\u001b[0m \u001b[0mImmediateResult\u001b[0m\u001b[1;33m(\u001b[0m\u001b[0mfunc\u001b[0m\u001b[1;33m)\u001b[0m\u001b[1;33m\u001b[0m\u001b[1;33m\u001b[0m\u001b[0m\n\u001b[0m\u001b[0;32m    183\u001b[0m         \u001b[1;32mif\u001b[0m \u001b[0mcallback\u001b[0m\u001b[1;33m:\u001b[0m\u001b[1;33m\u001b[0m\u001b[1;33m\u001b[0m\u001b[0m\n\u001b[0;32m    184\u001b[0m             \u001b[0mcallback\u001b[0m\u001b[1;33m(\u001b[0m\u001b[0mresult\u001b[0m\u001b[1;33m)\u001b[0m\u001b[1;33m\u001b[0m\u001b[1;33m\u001b[0m\u001b[0m\n",
      "\u001b[1;32m~\\Anaconda3\\lib\\site-packages\\sklearn\\externals\\joblib\\_parallel_backends.py\u001b[0m in \u001b[0;36m__init__\u001b[1;34m(self, batch)\u001b[0m\n\u001b[0;32m    547\u001b[0m         \u001b[1;31m# Don't delay the application, to avoid keeping the input\u001b[0m\u001b[1;33m\u001b[0m\u001b[1;33m\u001b[0m\u001b[1;33m\u001b[0m\u001b[0m\n\u001b[0;32m    548\u001b[0m         \u001b[1;31m# arguments in memory\u001b[0m\u001b[1;33m\u001b[0m\u001b[1;33m\u001b[0m\u001b[1;33m\u001b[0m\u001b[0m\n\u001b[1;32m--> 549\u001b[1;33m         \u001b[0mself\u001b[0m\u001b[1;33m.\u001b[0m\u001b[0mresults\u001b[0m \u001b[1;33m=\u001b[0m \u001b[0mbatch\u001b[0m\u001b[1;33m(\u001b[0m\u001b[1;33m)\u001b[0m\u001b[1;33m\u001b[0m\u001b[1;33m\u001b[0m\u001b[0m\n\u001b[0m\u001b[0;32m    550\u001b[0m \u001b[1;33m\u001b[0m\u001b[0m\n\u001b[0;32m    551\u001b[0m     \u001b[1;32mdef\u001b[0m \u001b[0mget\u001b[0m\u001b[1;33m(\u001b[0m\u001b[0mself\u001b[0m\u001b[1;33m)\u001b[0m\u001b[1;33m:\u001b[0m\u001b[1;33m\u001b[0m\u001b[1;33m\u001b[0m\u001b[0m\n",
      "\u001b[1;32m~\\Anaconda3\\lib\\site-packages\\sklearn\\externals\\joblib\\parallel.py\u001b[0m in \u001b[0;36m__call__\u001b[1;34m(self)\u001b[0m\n\u001b[0;32m    223\u001b[0m         \u001b[1;32mwith\u001b[0m \u001b[0mparallel_backend\u001b[0m\u001b[1;33m(\u001b[0m\u001b[0mself\u001b[0m\u001b[1;33m.\u001b[0m\u001b[0m_backend\u001b[0m\u001b[1;33m,\u001b[0m \u001b[0mn_jobs\u001b[0m\u001b[1;33m=\u001b[0m\u001b[0mself\u001b[0m\u001b[1;33m.\u001b[0m\u001b[0m_n_jobs\u001b[0m\u001b[1;33m)\u001b[0m\u001b[1;33m:\u001b[0m\u001b[1;33m\u001b[0m\u001b[1;33m\u001b[0m\u001b[0m\n\u001b[0;32m    224\u001b[0m             return [func(*args, **kwargs)\n\u001b[1;32m--> 225\u001b[1;33m                     for func, args, kwargs in self.items]\n\u001b[0m\u001b[0;32m    226\u001b[0m \u001b[1;33m\u001b[0m\u001b[0m\n\u001b[0;32m    227\u001b[0m     \u001b[1;32mdef\u001b[0m \u001b[0m__len__\u001b[0m\u001b[1;33m(\u001b[0m\u001b[0mself\u001b[0m\u001b[1;33m)\u001b[0m\u001b[1;33m:\u001b[0m\u001b[1;33m\u001b[0m\u001b[1;33m\u001b[0m\u001b[0m\n",
      "\u001b[1;32m~\\Anaconda3\\lib\\site-packages\\sklearn\\externals\\joblib\\parallel.py\u001b[0m in \u001b[0;36m<listcomp>\u001b[1;34m(.0)\u001b[0m\n\u001b[0;32m    223\u001b[0m         \u001b[1;32mwith\u001b[0m \u001b[0mparallel_backend\u001b[0m\u001b[1;33m(\u001b[0m\u001b[0mself\u001b[0m\u001b[1;33m.\u001b[0m\u001b[0m_backend\u001b[0m\u001b[1;33m,\u001b[0m \u001b[0mn_jobs\u001b[0m\u001b[1;33m=\u001b[0m\u001b[0mself\u001b[0m\u001b[1;33m.\u001b[0m\u001b[0m_n_jobs\u001b[0m\u001b[1;33m)\u001b[0m\u001b[1;33m:\u001b[0m\u001b[1;33m\u001b[0m\u001b[1;33m\u001b[0m\u001b[0m\n\u001b[0;32m    224\u001b[0m             return [func(*args, **kwargs)\n\u001b[1;32m--> 225\u001b[1;33m                     for func, args, kwargs in self.items]\n\u001b[0m\u001b[0;32m    226\u001b[0m \u001b[1;33m\u001b[0m\u001b[0m\n\u001b[0;32m    227\u001b[0m     \u001b[1;32mdef\u001b[0m \u001b[0m__len__\u001b[0m\u001b[1;33m(\u001b[0m\u001b[0mself\u001b[0m\u001b[1;33m)\u001b[0m\u001b[1;33m:\u001b[0m\u001b[1;33m\u001b[0m\u001b[1;33m\u001b[0m\u001b[0m\n",
      "\u001b[1;32m~\\Anaconda3\\lib\\site-packages\\sklearn\\multiclass.py\u001b[0m in \u001b[0;36m_fit_binary\u001b[1;34m(estimator, X, y, classes)\u001b[0m\n\u001b[0;32m     78\u001b[0m     \u001b[1;32melse\u001b[0m\u001b[1;33m:\u001b[0m\u001b[1;33m\u001b[0m\u001b[1;33m\u001b[0m\u001b[0m\n\u001b[0;32m     79\u001b[0m         \u001b[0mestimator\u001b[0m \u001b[1;33m=\u001b[0m \u001b[0mclone\u001b[0m\u001b[1;33m(\u001b[0m\u001b[0mestimator\u001b[0m\u001b[1;33m)\u001b[0m\u001b[1;33m\u001b[0m\u001b[1;33m\u001b[0m\u001b[0m\n\u001b[1;32m---> 80\u001b[1;33m         \u001b[0mestimator\u001b[0m\u001b[1;33m.\u001b[0m\u001b[0mfit\u001b[0m\u001b[1;33m(\u001b[0m\u001b[0mX\u001b[0m\u001b[1;33m,\u001b[0m \u001b[0my\u001b[0m\u001b[1;33m)\u001b[0m\u001b[1;33m\u001b[0m\u001b[1;33m\u001b[0m\u001b[0m\n\u001b[0m\u001b[0;32m     81\u001b[0m     \u001b[1;32mreturn\u001b[0m \u001b[0mestimator\u001b[0m\u001b[1;33m\u001b[0m\u001b[1;33m\u001b[0m\u001b[0m\n\u001b[0;32m     82\u001b[0m \u001b[1;33m\u001b[0m\u001b[0m\n",
      "\u001b[1;32m~\\Anaconda3\\lib\\site-packages\\sklearn\\model_selection\\_search.py\u001b[0m in \u001b[0;36mfit\u001b[1;34m(self, X, y, groups, **fit_params)\u001b[0m\n\u001b[0;32m    720\u001b[0m                 \u001b[1;32mreturn\u001b[0m \u001b[0mresults_container\u001b[0m\u001b[1;33m[\u001b[0m\u001b[1;36m0\u001b[0m\u001b[1;33m]\u001b[0m\u001b[1;33m\u001b[0m\u001b[1;33m\u001b[0m\u001b[0m\n\u001b[0;32m    721\u001b[0m \u001b[1;33m\u001b[0m\u001b[0m\n\u001b[1;32m--> 722\u001b[1;33m             \u001b[0mself\u001b[0m\u001b[1;33m.\u001b[0m\u001b[0m_run_search\u001b[0m\u001b[1;33m(\u001b[0m\u001b[0mevaluate_candidates\u001b[0m\u001b[1;33m)\u001b[0m\u001b[1;33m\u001b[0m\u001b[1;33m\u001b[0m\u001b[0m\n\u001b[0m\u001b[0;32m    723\u001b[0m \u001b[1;33m\u001b[0m\u001b[0m\n\u001b[0;32m    724\u001b[0m         \u001b[0mresults\u001b[0m \u001b[1;33m=\u001b[0m \u001b[0mresults_container\u001b[0m\u001b[1;33m[\u001b[0m\u001b[1;36m0\u001b[0m\u001b[1;33m]\u001b[0m\u001b[1;33m\u001b[0m\u001b[1;33m\u001b[0m\u001b[0m\n",
      "\u001b[1;32m~\\Anaconda3\\lib\\site-packages\\sklearn\\model_selection\\_search.py\u001b[0m in \u001b[0;36m_run_search\u001b[1;34m(self, evaluate_candidates)\u001b[0m\n\u001b[0;32m   1189\u001b[0m     \u001b[1;32mdef\u001b[0m \u001b[0m_run_search\u001b[0m\u001b[1;33m(\u001b[0m\u001b[0mself\u001b[0m\u001b[1;33m,\u001b[0m \u001b[0mevaluate_candidates\u001b[0m\u001b[1;33m)\u001b[0m\u001b[1;33m:\u001b[0m\u001b[1;33m\u001b[0m\u001b[1;33m\u001b[0m\u001b[0m\n\u001b[0;32m   1190\u001b[0m         \u001b[1;34m\"\"\"Search all candidates in param_grid\"\"\"\u001b[0m\u001b[1;33m\u001b[0m\u001b[1;33m\u001b[0m\u001b[0m\n\u001b[1;32m-> 1191\u001b[1;33m         \u001b[0mevaluate_candidates\u001b[0m\u001b[1;33m(\u001b[0m\u001b[0mParameterGrid\u001b[0m\u001b[1;33m(\u001b[0m\u001b[0mself\u001b[0m\u001b[1;33m.\u001b[0m\u001b[0mparam_grid\u001b[0m\u001b[1;33m)\u001b[0m\u001b[1;33m)\u001b[0m\u001b[1;33m\u001b[0m\u001b[1;33m\u001b[0m\u001b[0m\n\u001b[0m\u001b[0;32m   1192\u001b[0m \u001b[1;33m\u001b[0m\u001b[0m\n\u001b[0;32m   1193\u001b[0m \u001b[1;33m\u001b[0m\u001b[0m\n",
      "\u001b[1;32m~\\Anaconda3\\lib\\site-packages\\sklearn\\model_selection\\_search.py\u001b[0m in \u001b[0;36mevaluate_candidates\u001b[1;34m(candidate_params)\u001b[0m\n\u001b[0;32m    709\u001b[0m                                \u001b[1;32mfor\u001b[0m \u001b[0mparameters\u001b[0m\u001b[1;33m,\u001b[0m \u001b[1;33m(\u001b[0m\u001b[0mtrain\u001b[0m\u001b[1;33m,\u001b[0m \u001b[0mtest\u001b[0m\u001b[1;33m)\u001b[0m\u001b[1;33m\u001b[0m\u001b[1;33m\u001b[0m\u001b[0m\n\u001b[0;32m    710\u001b[0m                                in product(candidate_params,\n\u001b[1;32m--> 711\u001b[1;33m                                           cv.split(X, y, groups)))\n\u001b[0m\u001b[0;32m    712\u001b[0m \u001b[1;33m\u001b[0m\u001b[0m\n\u001b[0;32m    713\u001b[0m                 \u001b[0mall_candidate_params\u001b[0m\u001b[1;33m.\u001b[0m\u001b[0mextend\u001b[0m\u001b[1;33m(\u001b[0m\u001b[0mcandidate_params\u001b[0m\u001b[1;33m)\u001b[0m\u001b[1;33m\u001b[0m\u001b[1;33m\u001b[0m\u001b[0m\n",
      "\u001b[1;32m~\\Anaconda3\\lib\\site-packages\\sklearn\\externals\\joblib\\parallel.py\u001b[0m in \u001b[0;36m__call__\u001b[1;34m(self, iterable)\u001b[0m\n\u001b[0;32m    928\u001b[0m \u001b[1;33m\u001b[0m\u001b[0m\n\u001b[0;32m    929\u001b[0m             \u001b[1;32mwith\u001b[0m \u001b[0mself\u001b[0m\u001b[1;33m.\u001b[0m\u001b[0m_backend\u001b[0m\u001b[1;33m.\u001b[0m\u001b[0mretrieval_context\u001b[0m\u001b[1;33m(\u001b[0m\u001b[1;33m)\u001b[0m\u001b[1;33m:\u001b[0m\u001b[1;33m\u001b[0m\u001b[1;33m\u001b[0m\u001b[0m\n\u001b[1;32m--> 930\u001b[1;33m                 \u001b[0mself\u001b[0m\u001b[1;33m.\u001b[0m\u001b[0mretrieve\u001b[0m\u001b[1;33m(\u001b[0m\u001b[1;33m)\u001b[0m\u001b[1;33m\u001b[0m\u001b[1;33m\u001b[0m\u001b[0m\n\u001b[0m\u001b[0;32m    931\u001b[0m             \u001b[1;31m# Make sure that we get a last message telling us we are done\u001b[0m\u001b[1;33m\u001b[0m\u001b[1;33m\u001b[0m\u001b[1;33m\u001b[0m\u001b[0m\n\u001b[0;32m    932\u001b[0m             \u001b[0melapsed_time\u001b[0m \u001b[1;33m=\u001b[0m \u001b[0mtime\u001b[0m\u001b[1;33m.\u001b[0m\u001b[0mtime\u001b[0m\u001b[1;33m(\u001b[0m\u001b[1;33m)\u001b[0m \u001b[1;33m-\u001b[0m \u001b[0mself\u001b[0m\u001b[1;33m.\u001b[0m\u001b[0m_start_time\u001b[0m\u001b[1;33m\u001b[0m\u001b[1;33m\u001b[0m\u001b[0m\n",
      "\u001b[1;32m~\\Anaconda3\\lib\\site-packages\\sklearn\\externals\\joblib\\parallel.py\u001b[0m in \u001b[0;36mretrieve\u001b[1;34m(self)\u001b[0m\n\u001b[0;32m    831\u001b[0m             \u001b[1;32mtry\u001b[0m\u001b[1;33m:\u001b[0m\u001b[1;33m\u001b[0m\u001b[1;33m\u001b[0m\u001b[0m\n\u001b[0;32m    832\u001b[0m                 \u001b[1;32mif\u001b[0m \u001b[0mgetattr\u001b[0m\u001b[1;33m(\u001b[0m\u001b[0mself\u001b[0m\u001b[1;33m.\u001b[0m\u001b[0m_backend\u001b[0m\u001b[1;33m,\u001b[0m \u001b[1;34m'supports_timeout'\u001b[0m\u001b[1;33m,\u001b[0m \u001b[1;32mFalse\u001b[0m\u001b[1;33m)\u001b[0m\u001b[1;33m:\u001b[0m\u001b[1;33m\u001b[0m\u001b[1;33m\u001b[0m\u001b[0m\n\u001b[1;32m--> 833\u001b[1;33m                     \u001b[0mself\u001b[0m\u001b[1;33m.\u001b[0m\u001b[0m_output\u001b[0m\u001b[1;33m.\u001b[0m\u001b[0mextend\u001b[0m\u001b[1;33m(\u001b[0m\u001b[0mjob\u001b[0m\u001b[1;33m.\u001b[0m\u001b[0mget\u001b[0m\u001b[1;33m(\u001b[0m\u001b[0mtimeout\u001b[0m\u001b[1;33m=\u001b[0m\u001b[0mself\u001b[0m\u001b[1;33m.\u001b[0m\u001b[0mtimeout\u001b[0m\u001b[1;33m)\u001b[0m\u001b[1;33m)\u001b[0m\u001b[1;33m\u001b[0m\u001b[1;33m\u001b[0m\u001b[0m\n\u001b[0m\u001b[0;32m    834\u001b[0m                 \u001b[1;32melse\u001b[0m\u001b[1;33m:\u001b[0m\u001b[1;33m\u001b[0m\u001b[1;33m\u001b[0m\u001b[0m\n\u001b[0;32m    835\u001b[0m                     \u001b[0mself\u001b[0m\u001b[1;33m.\u001b[0m\u001b[0m_output\u001b[0m\u001b[1;33m.\u001b[0m\u001b[0mextend\u001b[0m\u001b[1;33m(\u001b[0m\u001b[0mjob\u001b[0m\u001b[1;33m.\u001b[0m\u001b[0mget\u001b[0m\u001b[1;33m(\u001b[0m\u001b[1;33m)\u001b[0m\u001b[1;33m)\u001b[0m\u001b[1;33m\u001b[0m\u001b[1;33m\u001b[0m\u001b[0m\n",
      "\u001b[1;32m~\\Anaconda3\\lib\\site-packages\\sklearn\\externals\\joblib\\_parallel_backends.py\u001b[0m in \u001b[0;36mwrap_future_result\u001b[1;34m(future, timeout)\u001b[0m\n\u001b[0;32m    519\u001b[0m         AsyncResults.get from multiprocessing.\"\"\"\n\u001b[0;32m    520\u001b[0m         \u001b[1;32mtry\u001b[0m\u001b[1;33m:\u001b[0m\u001b[1;33m\u001b[0m\u001b[1;33m\u001b[0m\u001b[0m\n\u001b[1;32m--> 521\u001b[1;33m             \u001b[1;32mreturn\u001b[0m \u001b[0mfuture\u001b[0m\u001b[1;33m.\u001b[0m\u001b[0mresult\u001b[0m\u001b[1;33m(\u001b[0m\u001b[0mtimeout\u001b[0m\u001b[1;33m=\u001b[0m\u001b[0mtimeout\u001b[0m\u001b[1;33m)\u001b[0m\u001b[1;33m\u001b[0m\u001b[1;33m\u001b[0m\u001b[0m\n\u001b[0m\u001b[0;32m    522\u001b[0m         \u001b[1;32mexcept\u001b[0m \u001b[0mLokyTimeoutError\u001b[0m\u001b[1;33m:\u001b[0m\u001b[1;33m\u001b[0m\u001b[1;33m\u001b[0m\u001b[0m\n\u001b[0;32m    523\u001b[0m             \u001b[1;32mraise\u001b[0m \u001b[0mTimeoutError\u001b[0m\u001b[1;33m(\u001b[0m\u001b[1;33m)\u001b[0m\u001b[1;33m\u001b[0m\u001b[1;33m\u001b[0m\u001b[0m\n",
      "\u001b[1;32m~\\Anaconda3\\lib\\concurrent\\futures\\_base.py\u001b[0m in \u001b[0;36mresult\u001b[1;34m(self, timeout)\u001b[0m\n\u001b[0;32m    425\u001b[0m                 \u001b[1;32mreturn\u001b[0m \u001b[0mself\u001b[0m\u001b[1;33m.\u001b[0m\u001b[0m__get_result\u001b[0m\u001b[1;33m(\u001b[0m\u001b[1;33m)\u001b[0m\u001b[1;33m\u001b[0m\u001b[1;33m\u001b[0m\u001b[0m\n\u001b[0;32m    426\u001b[0m \u001b[1;33m\u001b[0m\u001b[0m\n\u001b[1;32m--> 427\u001b[1;33m             \u001b[0mself\u001b[0m\u001b[1;33m.\u001b[0m\u001b[0m_condition\u001b[0m\u001b[1;33m.\u001b[0m\u001b[0mwait\u001b[0m\u001b[1;33m(\u001b[0m\u001b[0mtimeout\u001b[0m\u001b[1;33m)\u001b[0m\u001b[1;33m\u001b[0m\u001b[1;33m\u001b[0m\u001b[0m\n\u001b[0m\u001b[0;32m    428\u001b[0m \u001b[1;33m\u001b[0m\u001b[0m\n\u001b[0;32m    429\u001b[0m             \u001b[1;32mif\u001b[0m \u001b[0mself\u001b[0m\u001b[1;33m.\u001b[0m\u001b[0m_state\u001b[0m \u001b[1;32min\u001b[0m \u001b[1;33m[\u001b[0m\u001b[0mCANCELLED\u001b[0m\u001b[1;33m,\u001b[0m \u001b[0mCANCELLED_AND_NOTIFIED\u001b[0m\u001b[1;33m]\u001b[0m\u001b[1;33m:\u001b[0m\u001b[1;33m\u001b[0m\u001b[1;33m\u001b[0m\u001b[0m\n",
      "\u001b[1;32m~\\Anaconda3\\lib\\threading.py\u001b[0m in \u001b[0;36mwait\u001b[1;34m(self, timeout)\u001b[0m\n\u001b[0;32m    294\u001b[0m         \u001b[1;32mtry\u001b[0m\u001b[1;33m:\u001b[0m    \u001b[1;31m# restore state no matter what (e.g., KeyboardInterrupt)\u001b[0m\u001b[1;33m\u001b[0m\u001b[1;33m\u001b[0m\u001b[0m\n\u001b[0;32m    295\u001b[0m             \u001b[1;32mif\u001b[0m \u001b[0mtimeout\u001b[0m \u001b[1;32mis\u001b[0m \u001b[1;32mNone\u001b[0m\u001b[1;33m:\u001b[0m\u001b[1;33m\u001b[0m\u001b[1;33m\u001b[0m\u001b[0m\n\u001b[1;32m--> 296\u001b[1;33m                 \u001b[0mwaiter\u001b[0m\u001b[1;33m.\u001b[0m\u001b[0macquire\u001b[0m\u001b[1;33m(\u001b[0m\u001b[1;33m)\u001b[0m\u001b[1;33m\u001b[0m\u001b[1;33m\u001b[0m\u001b[0m\n\u001b[0m\u001b[0;32m    297\u001b[0m                 \u001b[0mgotit\u001b[0m \u001b[1;33m=\u001b[0m \u001b[1;32mTrue\u001b[0m\u001b[1;33m\u001b[0m\u001b[1;33m\u001b[0m\u001b[0m\n\u001b[0;32m    298\u001b[0m             \u001b[1;32melse\u001b[0m\u001b[1;33m:\u001b[0m\u001b[1;33m\u001b[0m\u001b[1;33m\u001b[0m\u001b[0m\n",
      "\u001b[1;31mKeyboardInterrupt\u001b[0m: "
     ]
    }
   ],
   "source": [
    "res = []\n",
    "for key, value in classfiy_gs_models.items():\n",
    "    print(f'Model: {key}')\n",
    "    with tqdm(total=6) as pbar:\n",
    "        clf = OneVsRestClassifier(value)\n",
    "#         genre_res = []\n",
    "        for n,genre in enumerate(genres):\n",
    "            print('**Processing {} books...**'.format(genre))\n",
    "            X_train, X_test,y_train, y_test = train_test_split(X, y[genre].values, \n",
    "                                                                test_size=0.25,\n",
    "                                                              random_state=n*8)\n",
    "            clf.fit(X_train, y_train) \n",
    "            prediction = clf.predict(X_test)\n",
    "            res.append((key, accuracy_score(y_test, prediction)))\n",
    "            print( accuracy_score(y_test, prediction))\n",
    "            pbar.update(1)"
   ]
  },
  {
   "cell_type": "markdown",
   "metadata": {},
   "source": [
    "### Feature Importance Check <a id='features'></a>\n",
    "\n",
    "In order to check which features weighed the most, I used LogisticRegression with an L1 penalty. From the results, the features of authors scored the most but when only considering authors as vectors, predictability suffered. It was just interesting to note of their importance. "
   ]
  },
  {
   "cell_type": "code",
   "execution_count": 97,
   "metadata": {
    "ExecuteTime": {
     "end_time": "2019-08-14T15:02:19.965212Z",
     "start_time": "2019-08-14T15:02:05.805118Z"
    }
   },
   "outputs": [
    {
     "name": "stdout",
     "output_type": "stream",
     "text": [
      "**Processing Fiction books...**\n",
      "**Processing Fantasy books...**\n",
      "**Processing Romance books...**\n",
      "**Processing Historical books...**\n",
      "**Processing Paranormal books...**\n",
      "**Processing Mystery books...**\n"
     ]
    }
   ],
   "source": [
    "# clf = OneVsRestClassifier(GridSearchCV(SVC(kernel='poly', gamma='scale'), \n",
    "#                                  iid=False, cv=5, verbose=5,\n",
    "#                                  param_grid=params_gs['SVM POLY'], n_jobs=-1))\n",
    "feature_importances = []\n",
    "for n,genre in enumerate(genres):\n",
    "    print('**Processing {} books...**'.format(genre))\n",
    "    X_train, X_test,y_train, y_test = train_test_split(X, y[genre].values, \n",
    "                                                        test_size=0.25,\n",
    "                                                      random_state=n*8)\n",
    "    clf = LogisticRegression(penalty='l1',\n",
    "                                          solver='liblinear', C=10)\n",
    "                                 \n",
    "    clf.fit(X_train, y_train)\n",
    "    \n",
    "    prediction = clf.predict(X_test)\n",
    "    feature_importances.append(clf.coef_)"
   ]
  },
  {
   "cell_type": "code",
   "execution_count": 98,
   "metadata": {
    "ExecuteTime": {
     "end_time": "2019-08-14T15:02:20.436812Z",
     "start_time": "2019-08-14T15:02:19.969684Z"
    },
    "scrolled": true
   },
   "outputs": [
    {
     "data": {
      "text/html": [
       "<div>\n",
       "<style scoped>\n",
       "    .dataframe tbody tr th:only-of-type {\n",
       "        vertical-align: middle;\n",
       "    }\n",
       "\n",
       "    .dataframe tbody tr th {\n",
       "        vertical-align: top;\n",
       "    }\n",
       "\n",
       "    .dataframe thead th {\n",
       "        text-align: right;\n",
       "    }\n",
       "</style>\n",
       "<table border=\"1\" class=\"dataframe\">\n",
       "  <thead>\n",
       "    <tr style=\"text-align: right;\">\n",
       "      <th></th>\n",
       "      <th>0</th>\n",
       "      <th>1</th>\n",
       "    </tr>\n",
       "  </thead>\n",
       "  <tbody>\n",
       "    <tr>\n",
       "      <th>7358</th>\n",
       "      <td>johnrutherford</td>\n",
       "      <td>0.000703</td>\n",
       "    </tr>\n",
       "    <tr>\n",
       "      <th>12826</th>\n",
       "      <td>robertogonz</td>\n",
       "      <td>0.006937</td>\n",
       "    </tr>\n",
       "    <tr>\n",
       "      <th>10601</th>\n",
       "      <td>migueldecervantessaavedra</td>\n",
       "      <td>0.007471</td>\n",
       "    </tr>\n",
       "    <tr>\n",
       "      <th>1231</th>\n",
       "      <td>arthurconandoyle</td>\n",
       "      <td>0.012373</td>\n",
       "    </tr>\n",
       "    <tr>\n",
       "      <th>12188</th>\n",
       "      <td>rachelcaine</td>\n",
       "      <td>0.014133</td>\n",
       "    </tr>\n",
       "    <tr>\n",
       "      <th>5342</th>\n",
       "      <td>gregoryrabassa</td>\n",
       "      <td>0.018592</td>\n",
       "    </tr>\n",
       "    <tr>\n",
       "      <th>10368</th>\n",
       "      <td>mervynpeake</td>\n",
       "      <td>0.022328</td>\n",
       "    </tr>\n",
       "    <tr>\n",
       "      <th>12797</th>\n",
       "      <td>robertlouisstevenson</td>\n",
       "      <td>0.040405</td>\n",
       "    </tr>\n",
       "    <tr>\n",
       "      <th>8585</th>\n",
       "      <td>lainitaylor</td>\n",
       "      <td>0.048163</td>\n",
       "    </tr>\n",
       "    <tr>\n",
       "      <th>4917</th>\n",
       "      <td>gailcarsonlevine</td>\n",
       "      <td>0.055732</td>\n",
       "    </tr>\n",
       "    <tr>\n",
       "      <th>9828</th>\n",
       "      <td>marisasestino</td>\n",
       "      <td>0.055818</td>\n",
       "    </tr>\n",
       "    <tr>\n",
       "      <th>10658</th>\n",
       "      <td>mikhailbulgakov</td>\n",
       "      <td>0.071329</td>\n",
       "    </tr>\n",
       "    <tr>\n",
       "      <th>8962</th>\n",
       "      <td>lezechevarr</td>\n",
       "      <td>0.075601</td>\n",
       "    </tr>\n",
       "    <tr>\n",
       "      <th>6828</th>\n",
       "      <td>jerryspinelli</td>\n",
       "      <td>0.078734</td>\n",
       "    </tr>\n",
       "    <tr>\n",
       "      <th>5524</th>\n",
       "      <td>harukimurakami</td>\n",
       "      <td>0.081286</td>\n",
       "    </tr>\n",
       "    <tr>\n",
       "      <th>14200</th>\n",
       "      <td>stieglarsson</td>\n",
       "      <td>0.089808</td>\n",
       "    </tr>\n",
       "    <tr>\n",
       "      <th>4491</th>\n",
       "      <td>ernaniss</td>\n",
       "      <td>0.092929</td>\n",
       "    </tr>\n",
       "    <tr>\n",
       "      <th>12414</th>\n",
       "      <td>regkeeland</td>\n",
       "      <td>0.102192</td>\n",
       "    </tr>\n",
       "    <tr>\n",
       "      <th>9214</th>\n",
       "      <td>lmmontgomery</td>\n",
       "      <td>0.110923</td>\n",
       "    </tr>\n",
       "    <tr>\n",
       "      <th>25616</th>\n",
       "      <td>struggles</td>\n",
       "      <td>0.122095</td>\n",
       "    </tr>\n",
       "    <tr>\n",
       "      <th>3601</th>\n",
       "      <td>dianaburgin</td>\n",
       "      <td>0.129674</td>\n",
       "    </tr>\n",
       "    <tr>\n",
       "      <th>2880</th>\n",
       "      <td>corneliafunke</td>\n",
       "      <td>0.145385</td>\n",
       "    </tr>\n",
       "    <tr>\n",
       "      <th>14331</th>\n",
       "      <td>suzannecollins</td>\n",
       "      <td>0.154535</td>\n",
       "    </tr>\n",
       "    <tr>\n",
       "      <th>21835</th>\n",
       "      <td>loved</td>\n",
       "      <td>0.167821</td>\n",
       "    </tr>\n",
       "    <tr>\n",
       "      <th>18727</th>\n",
       "      <td>dreams</td>\n",
       "      <td>0.203557</td>\n",
       "    </tr>\n",
       "    <tr>\n",
       "      <th>19459</th>\n",
       "      <td>family</td>\n",
       "      <td>0.210669</td>\n",
       "    </tr>\n",
       "    <tr>\n",
       "      <th>11393</th>\n",
       "      <td>nrnada</td>\n",
       "      <td>0.218093</td>\n",
       "    </tr>\n",
       "    <tr>\n",
       "      <th>7250</th>\n",
       "      <td>johnfowles</td>\n",
       "      <td>0.222580</td>\n",
       "    </tr>\n",
       "    <tr>\n",
       "      <th>12324</th>\n",
       "      <td>raybradbury</td>\n",
       "      <td>0.240392</td>\n",
       "    </tr>\n",
       "    <tr>\n",
       "      <th>6001</th>\n",
       "      <td>irvingstone</td>\n",
       "      <td>0.242596</td>\n",
       "    </tr>\n",
       "    <tr>\n",
       "      <th>...</th>\n",
       "      <td>...</td>\n",
       "      <td>...</td>\n",
       "    </tr>\n",
       "    <tr>\n",
       "      <th>25144</th>\n",
       "      <td>sisters</td>\n",
       "      <td>2.472753</td>\n",
       "    </tr>\n",
       "    <tr>\n",
       "      <th>26226</th>\n",
       "      <td>touch</td>\n",
       "      <td>2.571722</td>\n",
       "    </tr>\n",
       "    <tr>\n",
       "      <th>17597</th>\n",
       "      <td>college</td>\n",
       "      <td>2.608482</td>\n",
       "    </tr>\n",
       "    <tr>\n",
       "      <th>26022</th>\n",
       "      <td>test</td>\n",
       "      <td>2.793412</td>\n",
       "    </tr>\n",
       "    <tr>\n",
       "      <th>21819</th>\n",
       "      <td>loss</td>\n",
       "      <td>2.999667</td>\n",
       "    </tr>\n",
       "    <tr>\n",
       "      <th>24670</th>\n",
       "      <td>save</td>\n",
       "      <td>3.196249</td>\n",
       "    </tr>\n",
       "    <tr>\n",
       "      <th>22040</th>\n",
       "      <td>mark.1</td>\n",
       "      <td>3.247674</td>\n",
       "    </tr>\n",
       "    <tr>\n",
       "      <th>22215</th>\n",
       "      <td>mercy</td>\n",
       "      <td>3.410074</td>\n",
       "    </tr>\n",
       "    <tr>\n",
       "      <th>19024</th>\n",
       "      <td>encounter</td>\n",
       "      <td>3.573924</td>\n",
       "    </tr>\n",
       "    <tr>\n",
       "      <th>22556</th>\n",
       "      <td>narnia</td>\n",
       "      <td>3.616989</td>\n",
       "    </tr>\n",
       "    <tr>\n",
       "      <th>20945</th>\n",
       "      <td>installment</td>\n",
       "      <td>3.714463</td>\n",
       "    </tr>\n",
       "    <tr>\n",
       "      <th>23987</th>\n",
       "      <td>rapture</td>\n",
       "      <td>3.900191</td>\n",
       "    </tr>\n",
       "    <tr>\n",
       "      <th>16018</th>\n",
       "      <td>alien</td>\n",
       "      <td>4.289212</td>\n",
       "    </tr>\n",
       "    <tr>\n",
       "      <th>23999</th>\n",
       "      <td>raven</td>\n",
       "      <td>4.324544</td>\n",
       "    </tr>\n",
       "    <tr>\n",
       "      <th>18664</th>\n",
       "      <td>dont</td>\n",
       "      <td>4.392528</td>\n",
       "    </tr>\n",
       "    <tr>\n",
       "      <th>23396</th>\n",
       "      <td>place</td>\n",
       "      <td>4.417886</td>\n",
       "    </tr>\n",
       "    <tr>\n",
       "      <th>19466</th>\n",
       "      <td>fan</td>\n",
       "      <td>4.681072</td>\n",
       "    </tr>\n",
       "    <tr>\n",
       "      <th>27212</th>\n",
       "      <td>work</td>\n",
       "      <td>4.822867</td>\n",
       "    </tr>\n",
       "    <tr>\n",
       "      <th>19118</th>\n",
       "      <td>entirely</td>\n",
       "      <td>4.919939</td>\n",
       "    </tr>\n",
       "    <tr>\n",
       "      <th>25571</th>\n",
       "      <td>stranger</td>\n",
       "      <td>4.930434</td>\n",
       "    </tr>\n",
       "    <tr>\n",
       "      <th>16994</th>\n",
       "      <td>bree</td>\n",
       "      <td>4.986768</td>\n",
       "    </tr>\n",
       "    <tr>\n",
       "      <th>18140</th>\n",
       "      <td>danger</td>\n",
       "      <td>5.375667</td>\n",
       "    </tr>\n",
       "    <tr>\n",
       "      <th>10029</th>\n",
       "      <td>marygrandpr</td>\n",
       "      <td>5.723580</td>\n",
       "    </tr>\n",
       "    <tr>\n",
       "      <th>19746</th>\n",
       "      <td>forever</td>\n",
       "      <td>6.128409</td>\n",
       "    </tr>\n",
       "    <tr>\n",
       "      <th>19715</th>\n",
       "      <td>followed</td>\n",
       "      <td>6.210701</td>\n",
       "    </tr>\n",
       "    <tr>\n",
       "      <th>25316</th>\n",
       "      <td>soul</td>\n",
       "      <td>7.119186</td>\n",
       "    </tr>\n",
       "    <tr>\n",
       "      <th>16680</th>\n",
       "      <td>begins</td>\n",
       "      <td>7.311552</td>\n",
       "    </tr>\n",
       "    <tr>\n",
       "      <th>25175</th>\n",
       "      <td>sky</td>\n",
       "      <td>8.183046</td>\n",
       "    </tr>\n",
       "    <tr>\n",
       "      <th>16316</th>\n",
       "      <td>arrive</td>\n",
       "      <td>8.491019</td>\n",
       "    </tr>\n",
       "    <tr>\n",
       "      <th>20083</th>\n",
       "      <td>got</td>\n",
       "      <td>10.163849</td>\n",
       "    </tr>\n",
       "  </tbody>\n",
       "</table>\n",
       "<p>138 rows × 2 columns</p>\n",
       "</div>"
      ],
      "text/plain": [
       "                               0          1\n",
       "7358              johnrutherford   0.000703\n",
       "12826                robertogonz   0.006937\n",
       "10601  migueldecervantessaavedra   0.007471\n",
       "1231            arthurconandoyle   0.012373\n",
       "12188                rachelcaine   0.014133\n",
       "5342              gregoryrabassa   0.018592\n",
       "10368                mervynpeake   0.022328\n",
       "12797       robertlouisstevenson   0.040405\n",
       "8585                 lainitaylor   0.048163\n",
       "4917            gailcarsonlevine   0.055732\n",
       "9828               marisasestino   0.055818\n",
       "10658            mikhailbulgakov   0.071329\n",
       "8962                 lezechevarr   0.075601\n",
       "6828               jerryspinelli   0.078734\n",
       "5524              harukimurakami   0.081286\n",
       "14200               stieglarsson   0.089808\n",
       "4491                    ernaniss   0.092929\n",
       "12414                 regkeeland   0.102192\n",
       "9214                lmmontgomery   0.110923\n",
       "25616                  struggles   0.122095\n",
       "3601                 dianaburgin   0.129674\n",
       "2880               corneliafunke   0.145385\n",
       "14331             suzannecollins   0.154535\n",
       "21835                      loved   0.167821\n",
       "18727                     dreams   0.203557\n",
       "19459                     family   0.210669\n",
       "11393                     nrnada   0.218093\n",
       "7250                  johnfowles   0.222580\n",
       "12324                raybradbury   0.240392\n",
       "6001                 irvingstone   0.242596\n",
       "...                          ...        ...\n",
       "25144                    sisters   2.472753\n",
       "26226                      touch   2.571722\n",
       "17597                    college   2.608482\n",
       "26022                       test   2.793412\n",
       "21819                       loss   2.999667\n",
       "24670                       save   3.196249\n",
       "22040                     mark.1   3.247674\n",
       "22215                      mercy   3.410074\n",
       "19024                  encounter   3.573924\n",
       "22556                     narnia   3.616989\n",
       "20945                installment   3.714463\n",
       "23987                    rapture   3.900191\n",
       "16018                      alien   4.289212\n",
       "23999                      raven   4.324544\n",
       "18664                       dont   4.392528\n",
       "23396                      place   4.417886\n",
       "19466                        fan   4.681072\n",
       "27212                       work   4.822867\n",
       "19118                   entirely   4.919939\n",
       "25571                   stranger   4.930434\n",
       "16994                       bree   4.986768\n",
       "18140                     danger   5.375667\n",
       "10029                marygrandpr   5.723580\n",
       "19746                    forever   6.128409\n",
       "19715                   followed   6.210701\n",
       "25316                       soul   7.119186\n",
       "16680                     begins   7.311552\n",
       "25175                        sky   8.183046\n",
       "16316                     arrive   8.491019\n",
       "20083                        got  10.163849\n",
       "\n",
       "[138 rows x 2 columns]"
      ]
     },
     "execution_count": 98,
     "metadata": {},
     "output_type": "execute_result"
    }
   ],
   "source": [
    "feats = pd.DataFrame(zip(data_vec.columns,feature_importances[0].tolist()[0]))\n",
    "feats[feats[1]>0].sort_values(by=1)\n"
   ]
  },
  {
   "cell_type": "markdown",
   "metadata": {},
   "source": [
    "### Validation <a id='validation'></a>\n",
    "\n",
    "We take a validation set from the vectors_2.csv as another 1500 sample size. "
   ]
  },
  {
   "cell_type": "code",
   "execution_count": 45,
   "metadata": {
    "ExecuteTime": {
     "end_time": "2019-08-20T08:26:17.302313Z",
     "start_time": "2019-08-20T08:25:52.145023Z"
    }
   },
   "outputs": [],
   "source": [
    "X_validation = pd.read_csv('vectors_2.csv', skiprows=4000, nrows=1500, header=0).values\n",
    "y_validation = one_hot[4000:4000+1500]"
   ]
  },
  {
   "cell_type": "code",
   "execution_count": 37,
   "metadata": {
    "ExecuteTime": {
     "end_time": "2019-08-14T13:39:37.579296Z",
     "start_time": "2019-08-14T13:39:37.575306Z"
    }
   },
   "outputs": [
    {
     "data": {
      "text/plain": [
       "(1500, 6)"
      ]
     },
     "execution_count": 37,
     "metadata": {},
     "output_type": "execute_result"
    }
   ],
   "source": [
    "X_validation.shape\n",
    "y_validation.shape"
   ]
  },
  {
   "cell_type": "markdown",
   "metadata": {},
   "source": [
    "### Validation Using OneVsRestClassifier with SVM\n",
    "\n",
    "As shown by the accuracies below, the validation test also predicts higher than "
   ]
  },
  {
   "cell_type": "code",
   "execution_count": 103,
   "metadata": {
    "ExecuteTime": {
     "end_time": "2019-08-14T15:30:21.610530Z",
     "start_time": "2019-08-14T15:28:38.637512Z"
    }
   },
   "outputs": [
    {
     "name": "stdout",
     "output_type": "stream",
     "text": [
      "**Processing Fiction books...**\n",
      "Fitting 5 folds for each of 6 candidates, totalling 30 fits\n"
     ]
    },
    {
     "name": "stderr",
     "output_type": "stream",
     "text": [
      "[Parallel(n_jobs=-1)]: Using backend LokyBackend with 8 concurrent workers.\n",
      "[Parallel(n_jobs=-1)]: Done   2 tasks      | elapsed:    3.2s\n",
      "[Parallel(n_jobs=-1)]: Done  22 out of  30 | elapsed:   10.6s remaining:    3.8s\n",
      "[Parallel(n_jobs=-1)]: Done  30 out of  30 | elapsed:   13.6s finished\n"
     ]
    },
    {
     "name": "stdout",
     "output_type": "stream",
     "text": [
      "0.6593333333333333\n",
      "**Processing Fantasy books...**\n",
      "Fitting 5 folds for each of 6 candidates, totalling 30 fits\n"
     ]
    },
    {
     "name": "stderr",
     "output_type": "stream",
     "text": [
      "[Parallel(n_jobs=-1)]: Using backend LokyBackend with 8 concurrent workers.\n",
      "[Parallel(n_jobs=-1)]: Done   2 tasks      | elapsed:    2.7s\n",
      "[Parallel(n_jobs=-1)]: Done  22 out of  30 | elapsed:   11.1s remaining:    4.0s\n",
      "[Parallel(n_jobs=-1)]: Done  30 out of  30 | elapsed:   15.4s finished\n"
     ]
    },
    {
     "name": "stdout",
     "output_type": "stream",
     "text": [
      "0.5666666666666667\n",
      "**Processing Romance books...**\n",
      "Fitting 5 folds for each of 6 candidates, totalling 30 fits\n"
     ]
    },
    {
     "name": "stderr",
     "output_type": "stream",
     "text": [
      "[Parallel(n_jobs=-1)]: Using backend LokyBackend with 8 concurrent workers.\n",
      "[Parallel(n_jobs=-1)]: Done   2 tasks      | elapsed:    2.8s\n",
      "[Parallel(n_jobs=-1)]: Done  22 out of  30 | elapsed:   11.0s remaining:    3.9s\n",
      "[Parallel(n_jobs=-1)]: Done  30 out of  30 | elapsed:   15.4s finished\n"
     ]
    },
    {
     "name": "stdout",
     "output_type": "stream",
     "text": [
      "0.6566666666666666\n",
      "**Processing Historical books...**\n",
      "Fitting 5 folds for each of 6 candidates, totalling 30 fits\n"
     ]
    },
    {
     "name": "stderr",
     "output_type": "stream",
     "text": [
      "[Parallel(n_jobs=-1)]: Using backend LokyBackend with 8 concurrent workers.\n",
      "[Parallel(n_jobs=-1)]: Done   2 tasks      | elapsed:    2.8s\n",
      "[Parallel(n_jobs=-1)]: Done  22 out of  30 | elapsed:   10.0s remaining:    3.6s\n",
      "[Parallel(n_jobs=-1)]: Done  30 out of  30 | elapsed:   13.0s finished\n"
     ]
    },
    {
     "name": "stdout",
     "output_type": "stream",
     "text": [
      "0.8426666666666667\n",
      "**Processing Paranormal books...**\n",
      "Fitting 5 folds for each of 6 candidates, totalling 30 fits\n"
     ]
    },
    {
     "name": "stderr",
     "output_type": "stream",
     "text": [
      "[Parallel(n_jobs=-1)]: Using backend LokyBackend with 8 concurrent workers.\n",
      "[Parallel(n_jobs=-1)]: Done   2 tasks      | elapsed:    2.8s\n",
      "[Parallel(n_jobs=-1)]: Done  22 out of  30 | elapsed:    9.9s remaining:    3.5s\n",
      "[Parallel(n_jobs=-1)]: Done  30 out of  30 | elapsed:   13.2s finished\n"
     ]
    },
    {
     "name": "stdout",
     "output_type": "stream",
     "text": [
      "0.8333333333333334\n",
      "**Processing Mystery books...**\n",
      "Fitting 5 folds for each of 6 candidates, totalling 30 fits\n"
     ]
    },
    {
     "name": "stderr",
     "output_type": "stream",
     "text": [
      "[Parallel(n_jobs=-1)]: Using backend LokyBackend with 8 concurrent workers.\n",
      "[Parallel(n_jobs=-1)]: Done   2 tasks      | elapsed:    2.9s\n",
      "[Parallel(n_jobs=-1)]: Done  22 out of  30 | elapsed:   11.7s remaining:    4.2s\n",
      "[Parallel(n_jobs=-1)]: Done  30 out of  30 | elapsed:   14.6s finished\n"
     ]
    },
    {
     "name": "stdout",
     "output_type": "stream",
     "text": [
      "0.874\n"
     ]
    }
   ],
   "source": [
    "# clf = OneVsRestClassifier(GridSearchCV(MultinomialNB(), param_grid=params_gs['Bayes'],\n",
    "#                                  iid=False, cv=5,verbose=5,\n",
    "#                                  n_jobs=-1))\n",
    "clf = OneVsRestClassifier( GridSearchCV(LinearSVC(penalty='l2',\n",
    "                                          loss='squared_hinge',\n",
    "                                          dual=False),\n",
    "                                 iid=False, cv=5, verbose=5,\n",
    "                                 param_grid=params_gs['SVM L2'], n_jobs=-1))\n",
    "\n",
    "# clf = OneVsRestClassifier(MultinomialNB())\n",
    "feature_importances = []\n",
    "for n,genre in enumerate(genres):\n",
    "    print('**Processing {} books...**'.format(genre))\n",
    "    X_train, X_test,y_train, y_test = train_test_split(X, y_validation[genre].values, \n",
    "                                                        test_size=0.25,\n",
    "                                                      random_state=n*8)\n",
    "    clf.fit(X_train, y_train) \n",
    "    prediction = clf.predict(X_validation)\n",
    "    print( accuracy_score(y_validation[genre].values, prediction))\n",
    "#     feature_importances.append(clf.feature_importance_)"
   ]
  },
  {
   "cell_type": "markdown",
   "metadata": {
    "ExecuteTime": {
     "end_time": "2019-08-20T07:26:36.529474Z",
     "start_time": "2019-08-20T07:26:36.523491Z"
    }
   },
   "source": [
    "### Validation Using OneVsRestClassifier with MultinomialNB\n",
    "\n",
    "As shown by the accuracies below, they are close to the SVM validation, making me assume that the process is robust. The accuracies are also above the PCC. "
   ]
  },
  {
   "cell_type": "code",
   "execution_count": 127,
   "metadata": {
    "ExecuteTime": {
     "end_time": "2019-08-14T15:52:31.917128Z",
     "start_time": "2019-08-14T15:48:40.553684Z"
    }
   },
   "outputs": [
    {
     "name": "stdout",
     "output_type": "stream",
     "text": [
      "**Processing Fiction books...**\n",
      "Fitting 5 folds for each of 8 candidates, totalling 40 fits\n"
     ]
    },
    {
     "name": "stderr",
     "output_type": "stream",
     "text": [
      "[Parallel(n_jobs=-1)]: Using backend LokyBackend with 8 concurrent workers.\n",
      "[Parallel(n_jobs=-1)]: Done   2 tasks      | elapsed:  1.1min\n",
      "[Parallel(n_jobs=-1)]: Done  34 out of  40 | elapsed:  1.3min remaining:   13.4s\n",
      "[Parallel(n_jobs=-1)]: Done  40 out of  40 | elapsed:  1.3min finished\n"
     ]
    },
    {
     "name": "stdout",
     "output_type": "stream",
     "text": [
      "0.7786666666666666\n",
      "**Processing Fantasy books...**\n",
      "Fitting 5 folds for each of 8 candidates, totalling 40 fits\n"
     ]
    },
    {
     "name": "stderr",
     "output_type": "stream",
     "text": [
      "[Parallel(n_jobs=-1)]: Using backend LokyBackend with 8 concurrent workers.\n",
      "[Parallel(n_jobs=-1)]: Done   2 tasks      | elapsed:    4.6s\n",
      "[Parallel(n_jobs=-1)]: Done  34 out of  40 | elapsed:   16.8s remaining:    2.9s\n",
      "[Parallel(n_jobs=-1)]: Done  40 out of  40 | elapsed:   18.5s finished\n"
     ]
    },
    {
     "name": "stdout",
     "output_type": "stream",
     "text": [
      "0.624\n",
      "**Processing Romance books...**\n",
      "Fitting 5 folds for each of 8 candidates, totalling 40 fits\n"
     ]
    },
    {
     "name": "stderr",
     "output_type": "stream",
     "text": [
      "[Parallel(n_jobs=-1)]: Using backend LokyBackend with 8 concurrent workers.\n",
      "[Parallel(n_jobs=-1)]: Done   2 tasks      | elapsed:    3.4s\n",
      "[Parallel(n_jobs=-1)]: Done  34 out of  40 | elapsed:   16.4s remaining:    2.8s\n",
      "[Parallel(n_jobs=-1)]: Done  40 out of  40 | elapsed:   18.0s finished\n"
     ]
    },
    {
     "name": "stdout",
     "output_type": "stream",
     "text": [
      "0.736\n",
      "**Processing Historical books...**\n",
      "Fitting 5 folds for each of 8 candidates, totalling 40 fits\n"
     ]
    },
    {
     "name": "stderr",
     "output_type": "stream",
     "text": [
      "[Parallel(n_jobs=-1)]: Using backend LokyBackend with 8 concurrent workers.\n",
      "[Parallel(n_jobs=-1)]: Done   2 tasks      | elapsed:    3.7s\n",
      "[Parallel(n_jobs=-1)]: Done  34 out of  40 | elapsed:   18.2s remaining:    3.1s\n",
      "[Parallel(n_jobs=-1)]: Done  40 out of  40 | elapsed:   18.8s finished\n"
     ]
    },
    {
     "name": "stdout",
     "output_type": "stream",
     "text": [
      "0.8053333333333333\n",
      "**Processing Paranormal books...**\n",
      "Fitting 5 folds for each of 8 candidates, totalling 40 fits\n"
     ]
    },
    {
     "name": "stderr",
     "output_type": "stream",
     "text": [
      "[Parallel(n_jobs=-1)]: Using backend LokyBackend with 8 concurrent workers.\n",
      "[Parallel(n_jobs=-1)]: Done   2 tasks      | elapsed:    3.6s\n",
      "[Parallel(n_jobs=-1)]: Done  34 out of  40 | elapsed:   17.2s remaining:    2.9s\n",
      "[Parallel(n_jobs=-1)]: Done  40 out of  40 | elapsed:   18.6s finished\n"
     ]
    },
    {
     "name": "stdout",
     "output_type": "stream",
     "text": [
      "0.8586666666666667\n",
      "**Processing Mystery books...**\n",
      "Fitting 5 folds for each of 8 candidates, totalling 40 fits\n"
     ]
    },
    {
     "name": "stderr",
     "output_type": "stream",
     "text": [
      "[Parallel(n_jobs=-1)]: Using backend LokyBackend with 8 concurrent workers.\n",
      "[Parallel(n_jobs=-1)]: Done   2 tasks      | elapsed:   22.8s\n",
      "[Parallel(n_jobs=-1)]: Done  34 out of  40 | elapsed:   34.7s remaining:    6.0s\n",
      "[Parallel(n_jobs=-1)]: Done  40 out of  40 | elapsed:   36.7s finished\n"
     ]
    },
    {
     "name": "stdout",
     "output_type": "stream",
     "text": [
      "0.9146666666666666\n"
     ]
    }
   ],
   "source": [
    "clf = OneVsRestClassifier(GridSearchCV(MultinomialNB(), param_grid=params_gs['Bayes'],\n",
    "                                 iid=False, cv=5,verbose=5,\n",
    "                                 n_jobs=-1))\n",
    "XX = data_vec2.values\n",
    "yy = one_hot[:1500]\n",
    "# clf = OneVsRestClassifier(MultinomialNB())\n",
    "# res = []\n",
    "for n,genre in enumerate(genres):\n",
    "    print('**Processing {} books...**'.format(genre))\n",
    "    X_train, X_test,y_train, y_test = train_test_split(X, yy[genre].values, \n",
    "                                                        test_size=0.25,\n",
    "                                                      random_state=n*8)\n",
    "    clf.fit(X_train, y_train) \n",
    "    prediction = clf.predict(X_test)\n",
    "    print( accuracy_score(y_test, prediction))\n",
    "#     feature_importances.append(clf.feature_importance_)"
   ]
  },
  {
   "cell_type": "markdown",
   "metadata": {},
   "source": [
    "### Validation Using OneVsRestClassifier as a Whole\n",
    "\n",
    "When we take all the genres as a whole and just run OneVsRestClassifier without iterating through genre, we get a validation score of 20.4%. It might seem low but if you think of 100% being able to predict all the right categories perfectly each time, 20% is significantly high. It can be viewed as the likelihood the machine ticks of every genre perfectly every time. "
   ]
  },
  {
   "cell_type": "code",
   "execution_count": 46,
   "metadata": {
    "ExecuteTime": {
     "end_time": "2019-08-20T08:30:11.244780Z",
     "start_time": "2019-08-20T08:26:37.935042Z"
    }
   },
   "outputs": [
    {
     "name": "stdout",
     "output_type": "stream",
     "text": [
      "Fitting 5 folds for each of 8 candidates, totalling 40 fits\n"
     ]
    },
    {
     "name": "stderr",
     "output_type": "stream",
     "text": [
      "[Parallel(n_jobs=-1)]: Using backend LokyBackend with 8 concurrent workers.\n",
      "[Parallel(n_jobs=-1)]: Done   2 tasks      | elapsed:  1.2min\n",
      "[Parallel(n_jobs=-1)]: Done  34 out of  40 | elapsed:  1.8min remaining:   19.4s\n",
      "[Parallel(n_jobs=-1)]: Done  40 out of  40 | elapsed:  1.9min finished\n"
     ]
    },
    {
     "name": "stdout",
     "output_type": "stream",
     "text": [
      "Fitting 5 folds for each of 8 candidates, totalling 40 fits\n"
     ]
    },
    {
     "name": "stderr",
     "output_type": "stream",
     "text": [
      "[Parallel(n_jobs=-1)]: Using backend LokyBackend with 8 concurrent workers.\n",
      "[Parallel(n_jobs=-1)]: Done   2 tasks      | elapsed:    3.2s\n",
      "[Parallel(n_jobs=-1)]: Done  34 out of  40 | elapsed:   17.4s remaining:    3.0s\n",
      "[Parallel(n_jobs=-1)]: Done  40 out of  40 | elapsed:   17.8s finished\n"
     ]
    },
    {
     "name": "stdout",
     "output_type": "stream",
     "text": [
      "Fitting 5 folds for each of 8 candidates, totalling 40 fits\n"
     ]
    },
    {
     "name": "stderr",
     "output_type": "stream",
     "text": [
      "[Parallel(n_jobs=-1)]: Using backend LokyBackend with 8 concurrent workers.\n",
      "[Parallel(n_jobs=-1)]: Done   2 tasks      | elapsed:    4.0s\n",
      "[Parallel(n_jobs=-1)]: Done  34 out of  40 | elapsed:   16.1s remaining:    2.8s\n",
      "[Parallel(n_jobs=-1)]: Done  40 out of  40 | elapsed:   17.9s finished\n"
     ]
    },
    {
     "name": "stdout",
     "output_type": "stream",
     "text": [
      "Fitting 5 folds for each of 8 candidates, totalling 40 fits\n"
     ]
    },
    {
     "name": "stderr",
     "output_type": "stream",
     "text": [
      "[Parallel(n_jobs=-1)]: Using backend LokyBackend with 8 concurrent workers.\n",
      "[Parallel(n_jobs=-1)]: Done   2 tasks      | elapsed:    2.6s\n",
      "[Parallel(n_jobs=-1)]: Done  34 out of  40 | elapsed:   16.5s remaining:    2.8s\n",
      "[Parallel(n_jobs=-1)]: Done  40 out of  40 | elapsed:   17.7s finished\n"
     ]
    },
    {
     "name": "stdout",
     "output_type": "stream",
     "text": [
      "Fitting 5 folds for each of 8 candidates, totalling 40 fits\n"
     ]
    },
    {
     "name": "stderr",
     "output_type": "stream",
     "text": [
      "[Parallel(n_jobs=-1)]: Using backend LokyBackend with 8 concurrent workers.\n",
      "[Parallel(n_jobs=-1)]: Done   2 tasks      | elapsed:    3.2s\n",
      "[Parallel(n_jobs=-1)]: Done  34 out of  40 | elapsed:   16.6s remaining:    2.8s\n",
      "[Parallel(n_jobs=-1)]: Done  40 out of  40 | elapsed:   18.1s finished\n"
     ]
    },
    {
     "name": "stdout",
     "output_type": "stream",
     "text": [
      "Fitting 5 folds for each of 8 candidates, totalling 40 fits\n"
     ]
    },
    {
     "name": "stderr",
     "output_type": "stream",
     "text": [
      "[Parallel(n_jobs=-1)]: Using backend LokyBackend with 8 concurrent workers.\n",
      "[Parallel(n_jobs=-1)]: Done   2 tasks      | elapsed:    2.7s\n",
      "[Parallel(n_jobs=-1)]: Done  34 out of  40 | elapsed:   15.5s remaining:    2.7s\n",
      "[Parallel(n_jobs=-1)]: Done  40 out of  40 | elapsed:   16.0s finished\n"
     ]
    },
    {
     "data": {
      "text/plain": [
       "0.20666666666666667"
      ]
     },
     "execution_count": 46,
     "metadata": {},
     "output_type": "execute_result"
    }
   ],
   "source": [
    "    \n",
    "from sklearn.datasets import make_multilabel_classification\n",
    "from sklearn.multiclass import OneVsRestClassifier\n",
    "\n",
    "\n",
    "\n",
    "classif = OneVsRestClassifier(GridSearchCV(MultinomialNB(), param_grid=params_gs['Bayes'],\n",
    "                                 iid=False, cv=5,verbose=5,\n",
    "                                 n_jobs=-1))\n",
    "X_train, X_test,y_train, y_test = train_test_split(X, y_validation.values, \n",
    "                                                        test_size=0.25,\n",
    "                                                      random_state=8)\n",
    "classif.fit(X_train, y_train)\n",
    "prediction = classif.predict(X_validation)\n",
    "accuracy_score(y_validation.values, prediction)\n",
    "\n",
    "\n",
    "\n"
   ]
  },
  {
   "cell_type": "code",
   "execution_count": 56,
   "metadata": {
    "ExecuteTime": {
     "end_time": "2019-08-20T08:35:15.199327Z",
     "start_time": "2019-08-20T08:35:14.581190Z"
    }
   },
   "outputs": [
    {
     "data": {
      "text/plain": [
       "array([9.99754707e-01, 5.40415598e-04, 2.66273491e-04, 3.20450986e-05,\n",
       "       3.73876647e-05, 2.64533219e-05])"
      ]
     },
     "execution_count": 56,
     "metadata": {},
     "output_type": "execute_result"
    }
   ],
   "source": [
    "np.mean(classif.predict_proba(X_validation), axis=0)"
   ]
  },
  {
   "cell_type": "code",
   "execution_count": 55,
   "metadata": {
    "ExecuteTime": {
     "end_time": "2019-08-20T08:34:11.939956Z",
     "start_time": "2019-08-20T08:34:11.922005Z"
    }
   },
   "outputs": [
    {
     "data": {
      "text/plain": [
       "array([0, 1, 2, 3, 4, 5])"
      ]
     },
     "execution_count": 55,
     "metadata": {},
     "output_type": "execute_result"
    }
   ],
   "source": [
    "classif.classes_"
   ]
  },
  {
   "cell_type": "code",
   "execution_count": null,
   "metadata": {},
   "outputs": [],
   "source": []
  }
 ],
 "metadata": {
  "kernelspec": {
   "display_name": "Python 3",
   "language": "python",
   "name": "python3"
  },
  "language_info": {
   "codemirror_mode": {
    "name": "ipython",
    "version": 3
   },
   "file_extension": ".py",
   "mimetype": "text/x-python",
   "name": "python",
   "nbconvert_exporter": "python",
   "pygments_lexer": "ipython3",
   "version": "3.7.1"
  },
  "toc": {
   "base_numbering": 1,
   "nav_menu": {},
   "number_sections": true,
   "sideBar": true,
   "skip_h1_title": false,
   "title_cell": "Table of Contents",
   "title_sidebar": "Contents",
   "toc_cell": false,
   "toc_position": {},
   "toc_section_display": true,
   "toc_window_display": false
  }
 },
 "nbformat": 4,
 "nbformat_minor": 2
}
